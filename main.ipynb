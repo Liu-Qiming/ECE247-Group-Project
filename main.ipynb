{
 "cells": [
  {
   "cell_type": "code",
   "execution_count": 1,
   "metadata": {},
   "outputs": [
    {
     "name": "stdout",
     "output_type": "stream",
     "text": [
      "cuda\n"
     ]
    }
   ],
   "source": [
    "import os\n",
    "import torch\n",
    "import numpy as np\n",
    "\n",
    "from torch.utils.data import TensorDataset, DataLoader, Subset\n",
    "import torchvision\n",
    "from os import path\n",
    "\n",
    "from src.utils import *\n",
    "from src.models import *\n",
    "from src.methods import *\n",
    "\n",
    "data_path = path.join(os.getcwd(), 'project_data/')\n",
    "\n",
    "USE_GPU = True\n",
    "if USE_GPU and torch.cuda.is_available():\n",
    "    device = torch.device('cuda')\n",
    "else:\n",
    "    device = torch.device('cpu')\n",
    "print(device)"
   ]
  },
  {
   "cell_type": "code",
   "execution_count": 2,
   "metadata": {},
   "outputs": [],
   "source": [
    "X_test = np.load(data_path + \"X_test.npy\")\n",
    "y_test = np.load(data_path + \"y_test.npy\") - 769\n",
    "person_train_valid = np.load(data_path + \"person_train_valid.npy\")\n",
    "X_train_valid = np.load(data_path + \"X_train_valid.npy\")\n",
    "y_train_valid = np.load(data_path + \"y_train_valid.npy\") - 769\n",
    "person_test = np.load(data_path + \"person_test.npy\")"
   ]
  },
  {
   "cell_type": "code",
   "execution_count": 3,
   "metadata": {},
   "outputs": [
    {
     "name": "stdout",
     "output_type": "stream",
     "text": [
      "Training/Valid data shape: (2115, 22, 1000)\n",
      "Test data shape: (443, 22, 1000)\n",
      "Training/Valid target shape: (2115,)\n",
      "Test target shape: (443,)\n",
      "Person train/valid shape: (2115, 1)\n",
      "Person test shape: (443, 1)\n"
     ]
    }
   ],
   "source": [
    "print ('Training/Valid data shape: {}'.format(X_train_valid.shape))\n",
    "print ('Test data shape: {}'.format(X_test.shape))\n",
    "print ('Training/Valid target shape: {}'.format(y_train_valid.shape))\n",
    "print ('Test target shape: {}'.format(y_test.shape))\n",
    "print ('Person train/valid shape: {}'.format(person_train_valid.shape))\n",
    "print ('Person test shape: {}'.format(person_test.shape))"
   ]
  },
  {
   "cell_type": "code",
   "execution_count": 4,
   "metadata": {},
   "outputs": [],
   "source": [
    "X_train_valid = X_train_valid[:, np.newaxis, :, :]\n",
    "X_test = X_test[:, np.newaxis, :, :]"
   ]
  },
  {
   "cell_type": "code",
   "execution_count": 5,
   "metadata": {},
   "outputs": [
    {
     "name": "stdout",
     "output_type": "stream",
     "text": [
      "Training/Valid data shape: torch.Size([2115, 1, 22, 1000])\n",
      "Test data shape: torch.Size([443, 1, 22, 1000])\n"
     ]
    }
   ],
   "source": [
    "X_train_valid = torch.from_numpy(X_train_valid).float()\n",
    "y_train_valid = torch.from_numpy(y_train_valid).long()\n",
    "X_test = torch.from_numpy(X_test).float()\n",
    "y_test = torch.from_numpy(y_test).long()\n",
    "\n",
    "train_valid_dataset = TensorDataset(X_train_valid, y_train_valid)\n",
    "test_dataset = TensorDataset(X_test, y_test)\n",
    "\n",
    "# Splitting the dataset into train and valid sets\n",
    "num_train = int(0.8 * len(train_valid_dataset))\n",
    "num_valid = len(train_valid_dataset) - num_train\n",
    "train_indices, valid_indices = random_split(range(len(train_valid_dataset)), [num_train, num_valid])\n",
    "\n",
    "train_dataset = Subset(train_valid_dataset, train_indices)\n",
    "valid_dataset = Subset(train_valid_dataset, valid_indices)\n",
    "\n",
    "# Wrapping datasets with GaussianNoisyDataset\n",
    "train_dataset_noisy = GaussianNoisyDataset(train_dataset, mean=0., std=1.)\n",
    "valid_dataset_noisy = GaussianNoisyDataset(valid_dataset, mean=0., std=1.)\n",
    "test_dataset_noisy = GaussianNoisyDataset(test_dataset, mean=0., std=1.)\n",
    "\n",
    "batch_size = 32\n",
    "train_loader = DataLoader(train_dataset_noisy, batch_size=batch_size, shuffle=True)\n",
    "valid_loader = DataLoader(valid_dataset_noisy, batch_size=batch_size, shuffle=False)\n",
    "test_loader = DataLoader(test_dataset_noisy, batch_size=batch_size, shuffle=False)\n",
    "\n",
    "print('Training/Valid data shape:', X_train_valid.shape)\n",
    "print('Test data shape:', X_test.shape)"
   ]
  },
  {
   "cell_type": "code",
   "execution_count": 6,
   "metadata": {},
   "outputs": [
    {
     "name": "stderr",
     "output_type": "stream",
     "text": [
      " 20%|██        | 10/50 [00:21<01:26,  2.15s/it]"
     ]
    },
    {
     "name": "stdout",
     "output_type": "stream",
     "text": [
      "Epoch [10/50], Loss: 0.4634, Validation Accuracy: 52.25%\n"
     ]
    },
    {
     "name": "stderr",
     "output_type": "stream",
     "text": [
      " 40%|████      | 20/50 [00:44<01:09,  2.32s/it]"
     ]
    },
    {
     "name": "stdout",
     "output_type": "stream",
     "text": [
      "Epoch [20/50], Loss: 0.2118, Validation Accuracy: 51.06%\n"
     ]
    },
    {
     "name": "stderr",
     "output_type": "stream",
     "text": [
      " 48%|████▊     | 24/50 [00:55<00:59,  2.30s/it]"
     ]
    },
    {
     "name": "stdout",
     "output_type": "stream",
     "text": [
      "Early stopping!\n",
      "Test Accuracy: 50.56%\n"
     ]
    },
    {
     "name": "stderr",
     "output_type": "stream",
     "text": [
      "\n"
     ]
    }
   ],
   "source": [
    "model = ConvNet().to(device)\n",
    "\n",
    "criterion = nn.CrossEntropyLoss()\n",
    "optimizer = torch.optim.Adam(model.parameters(), lr = 0.001, betas=(0.9, 0.99), eps=1e-6, weight_decay=0.0005)\n",
    "\n",
    "train(model, train_loader, valid_loader, criterion, optimizer, device=device, epochs=50)\n",
    "\n",
    "test_accuracy = evaluate(model, test_loader, device=device)\n",
    "print(f'Test Accuracy: {test_accuracy:.2f}%')"
   ]
  },
  {
   "cell_type": "code",
   "execution_count": 6,
   "metadata": {},
   "outputs": [
    {
     "name": "stderr",
     "output_type": "stream",
     "text": [
      " 50%|█████     | 10/20 [02:30<02:32, 15.29s/it]"
     ]
    },
    {
     "name": "stdout",
     "output_type": "stream",
     "text": [
      "Epoch [10/20], Loss: 1.2707, Validation Accuracy: 27.90%\n"
     ]
    },
    {
     "name": "stderr",
     "output_type": "stream",
     "text": [
      "100%|██████████| 20/20 [04:42<00:00, 14.12s/it]"
     ]
    },
    {
     "name": "stdout",
     "output_type": "stream",
     "text": [
      "Epoch [20/20], Loss: 1.0690, Validation Accuracy: 28.84%\n"
     ]
    },
    {
     "name": "stderr",
     "output_type": "stream",
     "text": [
      "\n"
     ]
    },
    {
     "name": "stdout",
     "output_type": "stream",
     "text": [
      "Test Accuracy: 26.19%\n"
     ]
    }
   ],
   "source": [
    "lstm = LSTMModel()\n",
    "criterion = nn.CrossEntropyLoss()\n",
    "optimizer = torch.optim.Adam(lstm.parameters(), lr = 0.001, betas=(0.9, 0.99), eps=1e-6, weight_decay=0.0005)\n",
    "\n",
    "lstm = lstm.to(device)\n",
    "train(lstm, train_loader, valid_loader, criterion, optimizer, device=device)\n",
    "\n",
    "test_accuracy = evaluate(lstm, test_loader, device=device)\n",
    "print(f'Test Accuracy: {test_accuracy:.2f}%')"
   ]
  },
  {
   "cell_type": "code",
   "execution_count": 14,
   "metadata": {},
   "outputs": [
    {
     "name": "stderr",
     "output_type": "stream",
     "text": [
      "/home/qimingliu0831/anaconda3/envs/nlp/lib/python3.10/site-packages/torch/nn/modules/lazy.py:178: UserWarning: Lazy modules are a new feature under heavy development so changes to the API or functionality can happen at any moment.\n",
      "  warnings.warn('Lazy modules are a new feature under heavy development '\n",
      " 20%|██        | 10/50 [00:06<00:27,  1.45it/s]"
     ]
    },
    {
     "name": "stdout",
     "output_type": "stream",
     "text": [
      "Epoch [10/50], Loss: 1.2336, Validation Accuracy: 39.01%\n"
     ]
    },
    {
     "name": "stderr",
     "output_type": "stream",
     "text": [
      " 40%|████      | 20/50 [00:16<00:33,  1.10s/it]"
     ]
    },
    {
     "name": "stdout",
     "output_type": "stream",
     "text": [
      "Epoch [20/50], Loss: 1.0758, Validation Accuracy: 47.75%\n"
     ]
    },
    {
     "name": "stderr",
     "output_type": "stream",
     "text": [
      " 60%|██████    | 30/50 [00:24<00:14,  1.37it/s]"
     ]
    },
    {
     "name": "stdout",
     "output_type": "stream",
     "text": [
      "Epoch [30/50], Loss: 0.9771, Validation Accuracy: 52.72%\n"
     ]
    },
    {
     "name": "stderr",
     "output_type": "stream",
     "text": [
      " 80%|████████  | 40/50 [00:33<00:07,  1.40it/s]"
     ]
    },
    {
     "name": "stdout",
     "output_type": "stream",
     "text": [
      "Epoch [40/50], Loss: 0.8258, Validation Accuracy: 52.72%\n"
     ]
    },
    {
     "name": "stderr",
     "output_type": "stream",
     "text": [
      "100%|██████████| 50/50 [00:41<00:00,  1.20it/s]"
     ]
    },
    {
     "name": "stdout",
     "output_type": "stream",
     "text": [
      "Epoch [50/50], Loss: 0.7014, Validation Accuracy: 52.72%\n",
      "Test Accuracy: 53.95%\n"
     ]
    },
    {
     "name": "stderr",
     "output_type": "stream",
     "text": [
      "\n"
     ]
    }
   ],
   "source": [
    "cnn_lstm = CNN_LSTM()\n",
    "criterion = nn.CrossEntropyLoss()\n",
    "optimizer = torch.optim.Adam(cnn_lstm.parameters(), lr = 0.001, betas=(0.9, 0.99), eps=1e-6)\n",
    "\n",
    "cnn_lstm = cnn_lstm.to(device)\n",
    "train(cnn_lstm, train_loader, valid_loader, criterion, optimizer, device=device, epochs=50)\n",
    "\n",
    "test_accuracy = evaluate(cnn_lstm, test_loader, device=device)\n",
    "print(f'Test Accuracy: {test_accuracy:.2f}%')"
   ]
  },
  {
   "cell_type": "code",
   "execution_count": 15,
   "metadata": {},
   "outputs": [
    {
     "name": "stderr",
     "output_type": "stream",
     "text": [
      "  5%|▌         | 10/200 [00:20<06:22,  2.01s/it]"
     ]
    },
    {
     "name": "stdout",
     "output_type": "stream",
     "text": [
      "Epoch [10/200], Loss: 1.0880, Validation Accuracy: 56.97%\n"
     ]
    },
    {
     "name": "stderr",
     "output_type": "stream",
     "text": [
      " 10%|█         | 20/200 [00:40<06:02,  2.02s/it]"
     ]
    },
    {
     "name": "stdout",
     "output_type": "stream",
     "text": [
      "Epoch [20/200], Loss: 0.9396, Validation Accuracy: 64.07%\n"
     ]
    },
    {
     "name": "stderr",
     "output_type": "stream",
     "text": [
      " 15%|█▌        | 30/200 [01:01<05:47,  2.04s/it]"
     ]
    },
    {
     "name": "stdout",
     "output_type": "stream",
     "text": [
      "Epoch [30/200], Loss: 0.8465, Validation Accuracy: 67.14%\n"
     ]
    },
    {
     "name": "stderr",
     "output_type": "stream",
     "text": [
      " 20%|██        | 40/200 [01:21<05:32,  2.08s/it]"
     ]
    },
    {
     "name": "stdout",
     "output_type": "stream",
     "text": [
      "Epoch [40/200], Loss: 0.8096, Validation Accuracy: 69.98%\n"
     ]
    },
    {
     "name": "stderr",
     "output_type": "stream",
     "text": [
      " 25%|██▌       | 50/200 [01:41<05:03,  2.02s/it]"
     ]
    },
    {
     "name": "stdout",
     "output_type": "stream",
     "text": [
      "Epoch [50/200], Loss: 0.7547, Validation Accuracy: 69.98%\n"
     ]
    },
    {
     "name": "stderr",
     "output_type": "stream",
     "text": [
      " 30%|███       | 60/200 [02:03<05:06,  2.19s/it]"
     ]
    },
    {
     "name": "stdout",
     "output_type": "stream",
     "text": [
      "Epoch [60/200], Loss: 0.7272, Validation Accuracy: 73.52%\n"
     ]
    },
    {
     "name": "stderr",
     "output_type": "stream",
     "text": [
      " 35%|███▌      | 70/200 [02:24<04:40,  2.16s/it]"
     ]
    },
    {
     "name": "stdout",
     "output_type": "stream",
     "text": [
      "Epoch [70/200], Loss: 0.7055, Validation Accuracy: 70.69%\n"
     ]
    },
    {
     "name": "stderr",
     "output_type": "stream",
     "text": [
      " 40%|████      | 80/200 [02:45<04:04,  2.04s/it]"
     ]
    },
    {
     "name": "stdout",
     "output_type": "stream",
     "text": [
      "Epoch [80/200], Loss: 0.6401, Validation Accuracy: 74.47%\n"
     ]
    },
    {
     "name": "stderr",
     "output_type": "stream",
     "text": [
      " 45%|████▌     | 90/200 [03:05<03:44,  2.04s/it]"
     ]
    },
    {
     "name": "stdout",
     "output_type": "stream",
     "text": [
      "Epoch [90/200], Loss: 0.6358, Validation Accuracy: 72.58%\n"
     ]
    },
    {
     "name": "stderr",
     "output_type": "stream",
     "text": [
      " 50%|█████     | 100/200 [03:25<03:24,  2.04s/it]"
     ]
    },
    {
     "name": "stdout",
     "output_type": "stream",
     "text": [
      "Epoch [100/200], Loss: 0.6173, Validation Accuracy: 69.27%\n"
     ]
    },
    {
     "name": "stderr",
     "output_type": "stream",
     "text": [
      " 55%|█████▌    | 110/200 [03:45<03:03,  2.04s/it]"
     ]
    },
    {
     "name": "stdout",
     "output_type": "stream",
     "text": [
      "Epoch [110/200], Loss: 0.5970, Validation Accuracy: 71.63%\n"
     ]
    },
    {
     "name": "stderr",
     "output_type": "stream",
     "text": [
      " 60%|██████    | 120/200 [04:06<02:43,  2.05s/it]"
     ]
    },
    {
     "name": "stdout",
     "output_type": "stream",
     "text": [
      "Epoch [120/200], Loss: 0.6042, Validation Accuracy: 71.87%\n"
     ]
    },
    {
     "name": "stderr",
     "output_type": "stream",
     "text": [
      " 65%|██████▌   | 130/200 [04:26<02:22,  2.04s/it]"
     ]
    },
    {
     "name": "stdout",
     "output_type": "stream",
     "text": [
      "Epoch [130/200], Loss: 0.5575, Validation Accuracy: 73.52%\n"
     ]
    },
    {
     "name": "stderr",
     "output_type": "stream",
     "text": [
      " 70%|███████   | 140/200 [04:46<02:02,  2.04s/it]"
     ]
    },
    {
     "name": "stdout",
     "output_type": "stream",
     "text": [
      "Epoch [140/200], Loss: 0.5397, Validation Accuracy: 73.29%\n"
     ]
    },
    {
     "name": "stderr",
     "output_type": "stream",
     "text": [
      " 72%|███████▎  | 145/200 [04:58<01:53,  2.06s/it]"
     ]
    },
    {
     "name": "stdout",
     "output_type": "stream",
     "text": [
      "Early stopping!\n",
      "Test Accuracy: 71.56%\n"
     ]
    },
    {
     "name": "stderr",
     "output_type": "stream",
     "text": [
      "\n"
     ]
    }
   ],
   "source": [
    "ult_cnn = UltimateConvNet()\n",
    "criterion = nn.CrossEntropyLoss()\n",
    "optimizer = torch.optim.Adam(ult_cnn.parameters(), lr = 0.001, betas=(0.9, 0.99), eps=1e-6, weight_decay=0.0005)\n",
    "\n",
    "ult_cnn = ult_cnn.to(device)\n",
    "train(ult_cnn, train_loader, valid_loader, criterion, optimizer, device=device, epochs=200)\n",
    "\n",
    "test_accuracy = evaluate(ult_cnn, test_loader, device=device)\n",
    "print(f'Test Accuracy: {test_accuracy:.2f}%')"
   ]
  },
  {
   "cell_type": "code",
   "execution_count": 35,
   "metadata": {},
   "outputs": [
    {
     "name": "stderr",
     "output_type": "stream",
     "text": [
      "2024-03-07 20:47:36,187\tINFO worker.py:1724 -- Started a local Ray instance.\n",
      "2024-03-07 20:47:37,512\tINFO tune.py:583 -- [output] This uses the legacy output and progress reporter, as Jupyter notebooks are not supported by the new engine, yet. For more information, please see https://github.com/ray-project/ray/issues/36949\n"
     ]
    },
    {
     "name": "stdout",
     "output_type": "stream",
     "text": [
      "== Status ==\n",
      "Current time: 2024-03-07 20:47:37 (running for 00:00:00.32)\n",
      "Using AsyncHyperBand: num_stopped=0\n",
      "Bracket: Iter 64.000: None | Iter 16.000: None | Iter 4.000: None | Iter 1.000: None\n",
      "Logical resource usage: 0/40 CPUs, 0/8 GPUs (0.0/1.0 accelerator_type:G)\n",
      "Result logdir: /home/banyh2000/ray_results/train_ray_Ultimateconfig_2024-03-07_20-47-37\n",
      "Number of trials: 44/100 (44 PENDING)\n",
      "\n",
      "\n",
      "== Status ==\n",
      "Current time: 2024-03-07 20:47:42 (running for 00:00:05.33)\n",
      "Using AsyncHyperBand: num_stopped=0\n",
      "Bracket: Iter 64.000: None | Iter 16.000: None | Iter 4.000: None | Iter 1.000: None\n",
      "Logical resource usage: 0/40 CPUs, 8.0/8 GPUs (0.0/1.0 accelerator_type:G)\n",
      "Result logdir: /home/banyh2000/ray_results/train_ray_Ultimateconfig_2024-03-07_20-47-37\n",
      "Number of trials: 52/100 (44 PENDING, 8 RUNNING)\n",
      "\n",
      "\n"
     ]
    },
    {
     "data": {
      "text/html": [
       "<div class=\"trialProgress\">\n",
       "  <h3>Trial Progress</h3>\n",
       "  <table>\n",
       "<thead>\n",
       "<tr><th>Trial name                          </th><th style=\"text-align: right;\">    loss</th></tr>\n",
       "</thead>\n",
       "<tbody>\n",
       "<tr><td>train_ray_Ultimateconfig_fcc21_00000</td><td style=\"text-align: right;\">1.24874 </td></tr>\n",
       "<tr><td>train_ray_Ultimateconfig_fcc21_00001</td><td style=\"text-align: right;\">1.35543 </td></tr>\n",
       "<tr><td>train_ray_Ultimateconfig_fcc21_00002</td><td style=\"text-align: right;\">0.765462</td></tr>\n",
       "<tr><td>train_ray_Ultimateconfig_fcc21_00003</td><td style=\"text-align: right;\">1.3259  </td></tr>\n",
       "<tr><td>train_ray_Ultimateconfig_fcc21_00004</td><td style=\"text-align: right;\">1.35952 </td></tr>\n",
       "<tr><td>train_ray_Ultimateconfig_fcc21_00005</td><td style=\"text-align: right;\">1.33205 </td></tr>\n",
       "<tr><td>train_ray_Ultimateconfig_fcc21_00006</td><td style=\"text-align: right;\">1.38653 </td></tr>\n",
       "<tr><td>train_ray_Ultimateconfig_fcc21_00007</td><td style=\"text-align: right;\">1.21461 </td></tr>\n",
       "<tr><td>train_ray_Ultimateconfig_fcc21_00008</td><td style=\"text-align: right;\">1.37505 </td></tr>\n",
       "<tr><td>train_ray_Ultimateconfig_fcc21_00009</td><td style=\"text-align: right;\">1.31773 </td></tr>\n",
       "<tr><td>train_ray_Ultimateconfig_fcc21_00010</td><td style=\"text-align: right;\">1.33526 </td></tr>\n",
       "<tr><td>train_ray_Ultimateconfig_fcc21_00011</td><td style=\"text-align: right;\">1.35455 </td></tr>\n",
       "<tr><td>train_ray_Ultimateconfig_fcc21_00012</td><td style=\"text-align: right;\">1.38192 </td></tr>\n",
       "<tr><td>train_ray_Ultimateconfig_fcc21_00013</td><td style=\"text-align: right;\">1.21315 </td></tr>\n",
       "<tr><td>train_ray_Ultimateconfig_fcc21_00014</td><td style=\"text-align: right;\">1.32209 </td></tr>\n",
       "<tr><td>train_ray_Ultimateconfig_fcc21_00015</td><td style=\"text-align: right;\">1.21378 </td></tr>\n",
       "<tr><td>train_ray_Ultimateconfig_fcc21_00016</td><td style=\"text-align: right;\">1.31807 </td></tr>\n",
       "<tr><td>train_ray_Ultimateconfig_fcc21_00017</td><td style=\"text-align: right;\">1.32335 </td></tr>\n",
       "<tr><td>train_ray_Ultimateconfig_fcc21_00018</td><td style=\"text-align: right;\">1.36107 </td></tr>\n",
       "<tr><td>train_ray_Ultimateconfig_fcc21_00019</td><td style=\"text-align: right;\">1.37845 </td></tr>\n",
       "<tr><td>train_ray_Ultimateconfig_fcc21_00020</td><td style=\"text-align: right;\">1.40863 </td></tr>\n",
       "<tr><td>train_ray_Ultimateconfig_fcc21_00021</td><td style=\"text-align: right;\">1.32962 </td></tr>\n",
       "<tr><td>train_ray_Ultimateconfig_fcc21_00022</td><td style=\"text-align: right;\">1.36703 </td></tr>\n",
       "<tr><td>train_ray_Ultimateconfig_fcc21_00023</td><td style=\"text-align: right;\">1.31806 </td></tr>\n",
       "<tr><td>train_ray_Ultimateconfig_fcc21_00024</td><td style=\"text-align: right;\">1.32219 </td></tr>\n",
       "<tr><td>train_ray_Ultimateconfig_fcc21_00025</td><td style=\"text-align: right;\">1.31817 </td></tr>\n",
       "<tr><td>train_ray_Ultimateconfig_fcc21_00026</td><td style=\"text-align: right;\">1.3221  </td></tr>\n",
       "<tr><td>train_ray_Ultimateconfig_fcc21_00027</td><td style=\"text-align: right;\">1.27988 </td></tr>\n",
       "<tr><td>train_ray_Ultimateconfig_fcc21_00028</td><td style=\"text-align: right;\">1.35425 </td></tr>\n",
       "<tr><td>train_ray_Ultimateconfig_fcc21_00029</td><td style=\"text-align: right;\">1.34445 </td></tr>\n",
       "<tr><td>train_ray_Ultimateconfig_fcc21_00030</td><td style=\"text-align: right;\">1.38287 </td></tr>\n",
       "<tr><td>train_ray_Ultimateconfig_fcc21_00031</td><td style=\"text-align: right;\">1.35004 </td></tr>\n",
       "<tr><td>train_ray_Ultimateconfig_fcc21_00032</td><td style=\"text-align: right;\">1.33523 </td></tr>\n",
       "<tr><td>train_ray_Ultimateconfig_fcc21_00033</td><td style=\"text-align: right;\">1.35227 </td></tr>\n",
       "<tr><td>train_ray_Ultimateconfig_fcc21_00034</td><td style=\"text-align: right;\">1.34937 </td></tr>\n",
       "<tr><td>train_ray_Ultimateconfig_fcc21_00035</td><td style=\"text-align: right;\">1.34144 </td></tr>\n",
       "<tr><td>train_ray_Ultimateconfig_fcc21_00036</td><td style=\"text-align: right;\">1.34395 </td></tr>\n",
       "<tr><td>train_ray_Ultimateconfig_fcc21_00037</td><td style=\"text-align: right;\">1.09078 </td></tr>\n",
       "<tr><td>train_ray_Ultimateconfig_fcc21_00038</td><td style=\"text-align: right;\">1.3315  </td></tr>\n",
       "<tr><td>train_ray_Ultimateconfig_fcc21_00039</td><td style=\"text-align: right;\">1.39412 </td></tr>\n",
       "<tr><td>train_ray_Ultimateconfig_fcc21_00040</td><td style=\"text-align: right;\">0.736462</td></tr>\n",
       "<tr><td>train_ray_Ultimateconfig_fcc21_00041</td><td style=\"text-align: right;\">1.22548 </td></tr>\n",
       "<tr><td>train_ray_Ultimateconfig_fcc21_00042</td><td style=\"text-align: right;\">1.33964 </td></tr>\n",
       "<tr><td>train_ray_Ultimateconfig_fcc21_00043</td><td style=\"text-align: right;\">1.37032 </td></tr>\n",
       "<tr><td>train_ray_Ultimateconfig_fcc21_00044</td><td style=\"text-align: right;\">1.35201 </td></tr>\n",
       "<tr><td>train_ray_Ultimateconfig_fcc21_00045</td><td style=\"text-align: right;\">1.33431 </td></tr>\n",
       "<tr><td>train_ray_Ultimateconfig_fcc21_00046</td><td style=\"text-align: right;\">1.34621 </td></tr>\n",
       "<tr><td>train_ray_Ultimateconfig_fcc21_00047</td><td style=\"text-align: right;\">1.02246 </td></tr>\n",
       "<tr><td>train_ray_Ultimateconfig_fcc21_00048</td><td style=\"text-align: right;\">1.22448 </td></tr>\n",
       "<tr><td>train_ray_Ultimateconfig_fcc21_00049</td><td style=\"text-align: right;\">1.34293 </td></tr>\n",
       "<tr><td>train_ray_Ultimateconfig_fcc21_00050</td><td style=\"text-align: right;\">0.759178</td></tr>\n",
       "<tr><td>train_ray_Ultimateconfig_fcc21_00051</td><td style=\"text-align: right;\">0.745496</td></tr>\n",
       "<tr><td>train_ray_Ultimateconfig_fcc21_00052</td><td style=\"text-align: right;\">1.36197 </td></tr>\n",
       "<tr><td>train_ray_Ultimateconfig_fcc21_00053</td><td style=\"text-align: right;\">0.988622</td></tr>\n",
       "<tr><td>train_ray_Ultimateconfig_fcc21_00054</td><td style=\"text-align: right;\">0.990327</td></tr>\n",
       "<tr><td>train_ray_Ultimateconfig_fcc21_00055</td><td style=\"text-align: right;\">1.34067 </td></tr>\n",
       "<tr><td>train_ray_Ultimateconfig_fcc21_00056</td><td style=\"text-align: right;\">1.32611 </td></tr>\n",
       "<tr><td>train_ray_Ultimateconfig_fcc21_00057</td><td style=\"text-align: right;\">1.33281 </td></tr>\n",
       "<tr><td>train_ray_Ultimateconfig_fcc21_00058</td><td style=\"text-align: right;\">1.34413 </td></tr>\n",
       "<tr><td>train_ray_Ultimateconfig_fcc21_00059</td><td style=\"text-align: right;\">1.32597 </td></tr>\n",
       "<tr><td>train_ray_Ultimateconfig_fcc21_00060</td><td style=\"text-align: right;\">1.33745 </td></tr>\n",
       "<tr><td>train_ray_Ultimateconfig_fcc21_00061</td><td style=\"text-align: right;\">1.20181 </td></tr>\n",
       "<tr><td>train_ray_Ultimateconfig_fcc21_00062</td><td style=\"text-align: right;\">1.26581 </td></tr>\n",
       "<tr><td>train_ray_Ultimateconfig_fcc21_00063</td><td style=\"text-align: right;\">1.06332 </td></tr>\n",
       "<tr><td>train_ray_Ultimateconfig_fcc21_00064</td><td style=\"text-align: right;\">1.06368 </td></tr>\n",
       "<tr><td>train_ray_Ultimateconfig_fcc21_00065</td><td style=\"text-align: right;\">1.23101 </td></tr>\n",
       "<tr><td>train_ray_Ultimateconfig_fcc21_00066</td><td style=\"text-align: right;\">1.32944 </td></tr>\n",
       "<tr><td>train_ray_Ultimateconfig_fcc21_00067</td><td style=\"text-align: right;\">1.34433 </td></tr>\n",
       "<tr><td>train_ray_Ultimateconfig_fcc21_00068</td><td style=\"text-align: right;\">1.34377 </td></tr>\n",
       "<tr><td>train_ray_Ultimateconfig_fcc21_00069</td><td style=\"text-align: right;\">1.34763 </td></tr>\n",
       "<tr><td>train_ray_Ultimateconfig_fcc21_00070</td><td style=\"text-align: right;\">1.3366  </td></tr>\n",
       "<tr><td>train_ray_Ultimateconfig_fcc21_00071</td><td style=\"text-align: right;\">1.32922 </td></tr>\n",
       "<tr><td>train_ray_Ultimateconfig_fcc21_00072</td><td style=\"text-align: right;\">0.98494 </td></tr>\n",
       "<tr><td>train_ray_Ultimateconfig_fcc21_00073</td><td style=\"text-align: right;\">1.33147 </td></tr>\n",
       "<tr><td>train_ray_Ultimateconfig_fcc21_00074</td><td style=\"text-align: right;\">1.19006 </td></tr>\n",
       "<tr><td>train_ray_Ultimateconfig_fcc21_00075</td><td style=\"text-align: right;\">1.35301 </td></tr>\n",
       "<tr><td>train_ray_Ultimateconfig_fcc21_00076</td><td style=\"text-align: right;\">1.32557 </td></tr>\n",
       "<tr><td>train_ray_Ultimateconfig_fcc21_00077</td><td style=\"text-align: right;\">1.39893 </td></tr>\n",
       "<tr><td>train_ray_Ultimateconfig_fcc21_00078</td><td style=\"text-align: right;\">1.33208 </td></tr>\n",
       "<tr><td>train_ray_Ultimateconfig_fcc21_00079</td><td style=\"text-align: right;\">1.34806 </td></tr>\n",
       "<tr><td>train_ray_Ultimateconfig_fcc21_00080</td><td style=\"text-align: right;\">1.33796 </td></tr>\n",
       "<tr><td>train_ray_Ultimateconfig_fcc21_00081</td><td style=\"text-align: right;\">1.35396 </td></tr>\n",
       "<tr><td>train_ray_Ultimateconfig_fcc21_00082</td><td style=\"text-align: right;\">1.34119 </td></tr>\n",
       "<tr><td>train_ray_Ultimateconfig_fcc21_00083</td><td style=\"text-align: right;\">1.32296 </td></tr>\n",
       "<tr><td>train_ray_Ultimateconfig_fcc21_00084</td><td style=\"text-align: right;\">1.33649 </td></tr>\n",
       "<tr><td>train_ray_Ultimateconfig_fcc21_00085</td><td style=\"text-align: right;\">1.33584 </td></tr>\n",
       "<tr><td>train_ray_Ultimateconfig_fcc21_00086</td><td style=\"text-align: right;\">1.34335 </td></tr>\n",
       "<tr><td>train_ray_Ultimateconfig_fcc21_00087</td><td style=\"text-align: right;\">1.22046 </td></tr>\n",
       "<tr><td>train_ray_Ultimateconfig_fcc21_00088</td><td style=\"text-align: right;\">1.34537 </td></tr>\n",
       "<tr><td>train_ray_Ultimateconfig_fcc21_00089</td><td style=\"text-align: right;\">1.32382 </td></tr>\n",
       "<tr><td>train_ray_Ultimateconfig_fcc21_00090</td><td style=\"text-align: right;\">1.35058 </td></tr>\n",
       "<tr><td>train_ray_Ultimateconfig_fcc21_00091</td><td style=\"text-align: right;\">1.32492 </td></tr>\n",
       "<tr><td>train_ray_Ultimateconfig_fcc21_00092</td><td style=\"text-align: right;\">1.20291 </td></tr>\n",
       "<tr><td>train_ray_Ultimateconfig_fcc21_00093</td><td style=\"text-align: right;\">1.33581 </td></tr>\n",
       "<tr><td>train_ray_Ultimateconfig_fcc21_00094</td><td style=\"text-align: right;\">1.00946 </td></tr>\n",
       "<tr><td>train_ray_Ultimateconfig_fcc21_00095</td><td style=\"text-align: right;\">1.34847 </td></tr>\n",
       "<tr><td>train_ray_Ultimateconfig_fcc21_00096</td><td style=\"text-align: right;\">1.32794 </td></tr>\n",
       "<tr><td>train_ray_Ultimateconfig_fcc21_00097</td><td style=\"text-align: right;\">1.33409 </td></tr>\n",
       "<tr><td>train_ray_Ultimateconfig_fcc21_00098</td><td style=\"text-align: right;\">1.18331 </td></tr>\n",
       "<tr><td>train_ray_Ultimateconfig_fcc21_00099</td><td style=\"text-align: right;\">1.37072 </td></tr>\n",
       "</tbody>\n",
       "</table>\n",
       "</div>\n",
       "<style>\n",
       ".trialProgress {\n",
       "  display: flex;\n",
       "  flex-direction: column;\n",
       "  color: var(--jp-ui-font-color1);\n",
       "}\n",
       ".trialProgress h3 {\n",
       "  font-weight: bold;\n",
       "}\n",
       ".trialProgress td {\n",
       "  white-space: nowrap;\n",
       "}\n",
       "</style>\n"
      ],
      "text/plain": [
       "<IPython.core.display.HTML object>"
      ]
     },
     "metadata": {},
     "output_type": "display_data"
    },
    {
     "name": "stdout",
     "output_type": "stream",
     "text": [
      "== Status ==\n",
      "Current time: 2024-03-07 20:47:47 (running for 00:00:10.34)\n",
      "Using AsyncHyperBand: num_stopped=5\n",
      "Bracket: Iter 64.000: None | Iter 16.000: None | Iter 4.000: None | Iter 1.000: -1.31678975044131\n",
      "Logical resource usage: 0/40 CPUs, 8.0/8 GPUs (0.0/1.0 accelerator_type:G)\n",
      "Result logdir: /home/banyh2000/ray_results/train_ray_Ultimateconfig_2024-03-07_20-47-37\n",
      "Number of trials: 52/100 (44 PENDING, 3 RUNNING, 5 TERMINATED)\n",
      "\n",
      "\n",
      "== Status ==\n",
      "Current time: 2024-03-07 20:47:52 (running for 00:00:15.41)\n",
      "Using AsyncHyperBand: num_stopped=12\n",
      "Bracket: Iter 64.000: None | Iter 16.000: None | Iter 4.000: -1.2083850214103715 | Iter 1.000: -1.3177327007830284\n",
      "Logical resource usage: 0/40 CPUs, 8.0/8 GPUs (0.0/1.0 accelerator_type:G)\n",
      "Result logdir: /home/banyh2000/ray_results/train_ray_Ultimateconfig_2024-03-07_20-47-37\n",
      "Number of trials: 59/100 (44 PENDING, 3 RUNNING, 12 TERMINATED)\n",
      "\n",
      "\n",
      "== Status ==\n",
      "Current time: 2024-03-07 20:47:57 (running for 00:00:20.44)\n",
      "Using AsyncHyperBand: num_stopped=13\n",
      "Bracket: Iter 64.000: None | Iter 16.000: None | Iter 4.000: -1.2083850214103715 | Iter 1.000: -1.3176249546080334\n",
      "Logical resource usage: 0/40 CPUs, 8.0/8 GPUs (0.0/1.0 accelerator_type:G)\n",
      "Result logdir: /home/banyh2000/ray_results/train_ray_Ultimateconfig_2024-03-07_20-47-37\n",
      "Number of trials: 64/100 (44 PENDING, 7 RUNNING, 13 TERMINATED)\n",
      "\n",
      "\n",
      "== Status ==\n",
      "Current time: 2024-03-07 20:48:02 (running for 00:00:25.46)\n",
      "Using AsyncHyperBand: num_stopped=20\n",
      "Bracket: Iter 64.000: None | Iter 16.000: None | Iter 4.000: -1.2131466685175614 | Iter 1.000: -1.3177327007830284\n",
      "Logical resource usage: 0/40 CPUs, 8.0/8 GPUs (0.0/1.0 accelerator_type:G)\n",
      "Result logdir: /home/banyh2000/ray_results/train_ray_Ultimateconfig_2024-03-07_20-47-37\n",
      "Number of trials: 69/100 (44 PENDING, 5 RUNNING, 20 TERMINATED)\n",
      "\n",
      "\n",
      "== Status ==\n",
      "Current time: 2024-03-07 20:48:08 (running for 00:00:30.56)\n",
      "Using AsyncHyperBand: num_stopped=25\n",
      "Bracket: Iter 64.000: None | Iter 16.000: -0.9829409907331985 | Iter 4.000: -1.2131466685175614 | Iter 1.000: -1.3180645867724228\n",
      "Logical resource usage: 0/40 CPUs, 8.0/8 GPUs (0.0/1.0 accelerator_type:G)\n",
      "Result logdir: /home/banyh2000/ray_results/train_ray_Ultimateconfig_2024-03-07_20-47-37\n",
      "Number of trials: 72/100 (44 PENDING, 3 RUNNING, 25 TERMINATED)\n",
      "\n",
      "\n",
      "== Status ==\n",
      "Current time: 2024-03-07 20:48:13 (running for 00:00:35.60)\n",
      "Using AsyncHyperBand: num_stopped=31\n",
      "Bracket: Iter 64.000: None | Iter 16.000: -0.9829409907331985 | Iter 4.000: -1.213304060042327 | Iter 1.000: -1.3180654559011438\n",
      "Logical resource usage: 0/40 CPUs, 6.0/8 GPUs (0.0/1.0 accelerator_type:G)\n",
      "Result logdir: /home/banyh2000/ray_results/train_ray_Ultimateconfig_2024-03-07_20-47-37\n",
      "Number of trials: 78/100 (44 PENDING, 3 RUNNING, 31 TERMINATED)\n",
      "\n",
      "\n",
      "== Status ==\n",
      "Current time: 2024-03-07 20:48:18 (running for 00:00:40.63)\n",
      "Using AsyncHyperBand: num_stopped=33\n",
      "Bracket: Iter 64.000: None | Iter 16.000: -0.9829409907331985 | Iter 4.000: -1.213304060042327 | Iter 1.000: -1.3180913727897843\n",
      "Logical resource usage: 0/40 CPUs, 8.0/8 GPUs (0.0/1.0 accelerator_type:G)\n",
      "Result logdir: /home/banyh2000/ray_results/train_ray_Ultimateconfig_2024-03-07_20-47-37\n",
      "Number of trials: 83/100 (44 PENDING, 6 RUNNING, 33 TERMINATED)\n",
      "\n",
      "\n",
      "== Status ==\n",
      "Current time: 2024-03-07 20:48:23 (running for 00:00:45.68)\n",
      "Using AsyncHyperBand: num_stopped=38\n",
      "Bracket: Iter 64.000: None | Iter 16.000: -0.9829409907331985 | Iter 4.000: -1.213304060042327 | Iter 1.000: -1.3180658904655043\n",
      "Logical resource usage: 0/40 CPUs, 8.0/8 GPUs (0.0/1.0 accelerator_type:G)\n",
      "Result logdir: /home/banyh2000/ray_results/train_ray_Ultimateconfig_2024-03-07_20-47-37\n",
      "Number of trials: 88/100 (44 PENDING, 6 RUNNING, 38 TERMINATED)\n",
      "\n",
      "\n",
      "== Status ==\n",
      "Current time: 2024-03-07 20:48:28 (running for 00:00:50.72)\n",
      "Using AsyncHyperBand: num_stopped=41\n",
      "Bracket: Iter 64.000: None | Iter 16.000: -0.9829409907331985 | Iter 4.000: -1.2013916578980484 | Iter 1.000: -1.3180658904655043\n",
      "Logical resource usage: 0/40 CPUs, 8.0/8 GPUs (0.0/1.0 accelerator_type:G)\n",
      "Result logdir: /home/banyh2000/ray_results/train_ray_Ultimateconfig_2024-03-07_20-47-37\n",
      "Number of trials: 90/100 (44 PENDING, 5 RUNNING, 41 TERMINATED)\n",
      "\n",
      "\n",
      "== Status ==\n",
      "Current time: 2024-03-07 20:48:33 (running for 00:00:55.74)\n",
      "Using AsyncHyperBand: num_stopped=44\n",
      "Bracket: Iter 64.000: None | Iter 16.000: -0.9829409907331985 | Iter 4.000: -1.2021628666149526 | Iter 1.000: -1.3180654559011438\n",
      "Logical resource usage: 0/40 CPUs, 8.0/8 GPUs (0.0/1.0 accelerator_type:G)\n",
      "Result logdir: /home/banyh2000/ray_results/train_ray_Ultimateconfig_2024-03-07_20-47-37\n",
      "Number of trials: 95/100 (44 PENDING, 7 RUNNING, 44 TERMINATED)\n",
      "\n",
      "\n",
      "== Status ==\n",
      "Current time: 2024-03-07 20:48:38 (running for 00:01:00.77)\n",
      "Using AsyncHyperBand: num_stopped=46\n",
      "Bracket: Iter 64.000: None | Iter 16.000: -0.9829409907331985 | Iter 4.000: -1.200939657417595 | Iter 1.000: -1.3178984264955453\n",
      "Logical resource usage: 0/40 CPUs, 8.0/8 GPUs (0.0/1.0 accelerator_type:G)\n",
      "Result logdir: /home/banyh2000/ray_results/train_ray_Ultimateconfig_2024-03-07_20-47-37\n",
      "Number of trials: 96/100 (44 PENDING, 6 RUNNING, 46 TERMINATED)\n",
      "\n",
      "\n",
      "== Status ==\n",
      "Current time: 2024-03-07 20:48:43 (running for 00:01:05.83)\n",
      "Using AsyncHyperBand: num_stopped=48\n",
      "Bracket: Iter 64.000: None | Iter 16.000: -0.9840297664451825 | Iter 4.000: -1.1990780317473355 | Iter 1.000: -1.3177327007830284\n",
      "Logical resource usage: 0/40 CPUs, 8.0/8 GPUs (0.0/1.0 accelerator_type:G)\n",
      "Result logdir: /home/banyh2000/ray_results/train_ray_Ultimateconfig_2024-03-07_20-47-37\n",
      "Number of trials: 99/100 (44 PENDING, 7 RUNNING, 48 TERMINATED)\n",
      "\n",
      "\n",
      "== Status ==\n",
      "Current time: 2024-03-07 20:48:48 (running for 00:01:10.92)\n",
      "Using AsyncHyperBand: num_stopped=48\n",
      "Bracket: Iter 64.000: None | Iter 16.000: -0.9840297664451825 | Iter 4.000: -1.1990780317473355 | Iter 1.000: -1.317014353636027\n",
      "Logical resource usage: 0/40 CPUs, 8.0/8 GPUs (0.0/1.0 accelerator_type:G)\n",
      "Result logdir: /home/banyh2000/ray_results/train_ray_Ultimateconfig_2024-03-07_20-47-37\n",
      "Number of trials: 100/100 (44 PENDING, 8 RUNNING, 48 TERMINATED)\n",
      "\n",
      "\n",
      "== Status ==\n",
      "Current time: 2024-03-07 20:48:53 (running for 00:01:15.92)\n",
      "Using AsyncHyperBand: num_stopped=50\n",
      "Bracket: Iter 64.000: None | Iter 16.000: -0.9845741543011745 | Iter 4.000: -1.1897579592170444 | Iter 1.000: -1.3172657810345327\n",
      "Logical resource usage: 0/40 CPUs, 8.0/8 GPUs (0.0/1.0 accelerator_type:G)\n",
      "Result logdir: /home/banyh2000/ray_results/train_ray_Ultimateconfig_2024-03-07_20-47-37\n",
      "Number of trials: 100/100 (43 PENDING, 7 RUNNING, 50 TERMINATED)\n",
      "\n",
      "\n",
      "== Status ==\n",
      "Current time: 2024-03-07 20:48:58 (running for 00:01:20.92)\n",
      "Using AsyncHyperBand: num_stopped=52\n",
      "Bracket: Iter 64.000: None | Iter 16.000: -0.978719204946049 | Iter 4.000: -1.1897579592170444 | Iter 1.000: -1.317571081520536\n",
      "Logical resource usage: 0/40 CPUs, 8.0/8 GPUs (0.0/1.0 accelerator_type:G)\n",
      "Result logdir: /home/banyh2000/ray_results/train_ray_Ultimateconfig_2024-03-07_20-47-37\n",
      "Number of trials: 100/100 (42 PENDING, 6 RUNNING, 52 TERMINATED)\n",
      "\n",
      "\n",
      "== Status ==\n",
      "Current time: 2024-03-07 20:49:03 (running for 00:01:26.01)\n",
      "Using AsyncHyperBand: num_stopped=53\n",
      "Bracket: Iter 64.000: None | Iter 16.000: -0.978719204946049 | Iter 4.000: -1.1897579592170444 | Iter 1.000: -1.3176249546080334\n",
      "Logical resource usage: 0/40 CPUs, 8.0/8 GPUs (0.0/1.0 accelerator_type:G)\n",
      "Result logdir: /home/banyh2000/ray_results/train_ray_Ultimateconfig_2024-03-07_20-47-37\n",
      "Number of trials: 100/100 (40 PENDING, 7 RUNNING, 53 TERMINATED)\n",
      "\n",
      "\n",
      "== Status ==\n",
      "Current time: 2024-03-07 20:49:08 (running for 00:01:31.07)\n",
      "Using AsyncHyperBand: num_stopped=56\n",
      "Bracket: Iter 64.000: -0.7879276000157034 | Iter 16.000: -0.9815337288041487 | Iter 4.000: -1.1897579592170444 | Iter 1.000: -1.317678827695531\n",
      "Logical resource usage: 0/40 CPUs, 8.0/8 GPUs (0.0/1.0 accelerator_type:G)\n",
      "Result logdir: /home/banyh2000/ray_results/train_ray_Ultimateconfig_2024-03-07_20-47-37\n",
      "Number of trials: 100/100 (39 PENDING, 5 RUNNING, 56 TERMINATED)\n",
      "\n",
      "\n",
      "== Status ==\n",
      "Current time: 2024-03-07 20:49:13 (running for 00:01:36.16)\n",
      "Using AsyncHyperBand: num_stopped=57\n",
      "Bracket: Iter 64.000: -0.7879276000157034 | Iter 16.000: -0.9815337288041487 | Iter 4.000: -1.1897579592170444 | Iter 1.000: -1.3172657810345327\n",
      "Logical resource usage: 0/40 CPUs, 8.0/8 GPUs (0.0/1.0 accelerator_type:G)\n",
      "Result logdir: /home/banyh2000/ray_results/train_ray_Ultimateconfig_2024-03-07_20-47-37\n",
      "Number of trials: 100/100 (36 PENDING, 7 RUNNING, 57 TERMINATED)\n",
      "\n",
      "\n",
      "== Status ==\n",
      "Current time: 2024-03-07 20:49:18 (running for 00:01:41.23)\n",
      "Using AsyncHyperBand: num_stopped=59\n",
      "Bracket: Iter 64.000: -0.7879276000157034 | Iter 16.000: -0.9815337288041487 | Iter 4.000: -1.188274665222664 | Iter 1.000: -1.3165114988390154\n",
      "Logical resource usage: 0/40 CPUs, 8.0/8 GPUs (0.0/1.0 accelerator_type:G)\n",
      "Result logdir: /home/banyh2000/ray_results/train_ray_Ultimateconfig_2024-03-07_20-47-37\n",
      "Number of trials: 100/100 (35 PENDING, 6 RUNNING, 59 TERMINATED)\n",
      "\n",
      "\n",
      "== Status ==\n",
      "Current time: 2024-03-07 20:49:23 (running for 00:01:46.30)\n",
      "Using AsyncHyperBand: num_stopped=60\n",
      "Bracket: Iter 64.000: -0.7879276000157034 | Iter 16.000: -0.9815337288041487 | Iter 4.000: -1.1793033129780004 | Iter 1.000: -1.3158809699065297\n",
      "Logical resource usage: 0/40 CPUs, 8.0/8 GPUs (0.0/1.0 accelerator_type:G)\n",
      "Result logdir: /home/banyh2000/ray_results/train_ray_Ultimateconfig_2024-03-07_20-47-37\n",
      "Number of trials: 100/100 (33 PENDING, 7 RUNNING, 60 TERMINATED)\n",
      "\n",
      "\n",
      "== Status ==\n",
      "Current time: 2024-03-07 20:49:28 (running for 00:01:51.38)\n",
      "Using AsyncHyperBand: num_stopped=61\n",
      "Bracket: Iter 64.000: -0.7879276000157034 | Iter 16.000: -0.9815337288041487 | Iter 4.000: -1.183047342103142 | Iter 1.000: -1.3158809699065297\n",
      "Logical resource usage: 0/40 CPUs, 8.0/8 GPUs (0.0/1.0 accelerator_type:G)\n",
      "Result logdir: /home/banyh2000/ray_results/train_ray_Ultimateconfig_2024-03-07_20-47-37\n",
      "Number of trials: 100/100 (32 PENDING, 7 RUNNING, 61 TERMINATED)\n",
      "\n",
      "\n",
      "== Status ==\n",
      "Current time: 2024-03-07 20:49:33 (running for 00:01:56.46)\n",
      "Using AsyncHyperBand: num_stopped=64\n",
      "Bracket: Iter 64.000: -0.7879276000157034 | Iter 16.000: -0.9829409907331985 | Iter 4.000: -1.183047342103142 | Iter 1.000: -1.3165114988390154\n",
      "Logical resource usage: 0/40 CPUs, 7.0/8 GPUs (0.0/1.0 accelerator_type:G)\n",
      "Result logdir: /home/banyh2000/ray_results/train_ray_Ultimateconfig_2024-03-07_20-47-37\n",
      "Number of trials: 100/100 (30 PENDING, 6 RUNNING, 64 TERMINATED)\n",
      "\n",
      "\n",
      "== Status ==\n",
      "Current time: 2024-03-07 20:49:39 (running for 00:02:01.56)\n",
      "Using AsyncHyperBand: num_stopped=67\n",
      "Bracket: Iter 64.000: -0.7879276000157034 | Iter 16.000: -0.9834853785891905 | Iter 4.000: -1.183047342103142 | Iter 1.000: -1.317014353636027\n",
      "Logical resource usage: 0/40 CPUs, 7.0/8 GPUs (0.0/1.0 accelerator_type:G)\n",
      "Result logdir: /home/banyh2000/ray_results/train_ray_Ultimateconfig_2024-03-07_20-47-37\n",
      "Number of trials: 100/100 (28 PENDING, 5 RUNNING, 67 TERMINATED)\n",
      "\n",
      "\n",
      "== Status ==\n",
      "Current time: 2024-03-07 20:49:44 (running for 00:02:06.61)\n",
      "Using AsyncHyperBand: num_stopped=68\n",
      "Bracket: Iter 64.000: -0.7449610777393019 | Iter 16.000: -0.9834853785891905 | Iter 4.000: -1.183047342103142 | Iter 1.000: -1.3165114988390154\n",
      "Logical resource usage: 0/40 CPUs, 8.0/8 GPUs (0.0/1.0 accelerator_type:G)\n",
      "Result logdir: /home/banyh2000/ray_results/train_ray_Ultimateconfig_2024-03-07_20-47-37\n",
      "Number of trials: 100/100 (25 PENDING, 7 RUNNING, 68 TERMINATED)\n",
      "\n",
      "\n",
      "== Status ==\n",
      "Current time: 2024-03-07 20:49:49 (running for 00:02:11.65)\n",
      "Using AsyncHyperBand: num_stopped=70\n",
      "Bracket: Iter 64.000: -0.7449610777393019 | Iter 16.000: -0.9834853785891905 | Iter 4.000: -1.1736431169735342 | Iter 1.000: -1.3161962343727724\n",
      "Logical resource usage: 0/40 CPUs, 7.0/8 GPUs (0.0/1.0 accelerator_type:G)\n",
      "Result logdir: /home/banyh2000/ray_results/train_ray_Ultimateconfig_2024-03-07_20-47-37\n",
      "Number of trials: 100/100 (23 PENDING, 7 RUNNING, 70 TERMINATED)\n",
      "\n",
      "\n",
      "== Status ==\n",
      "Current time: 2024-03-07 20:49:54 (running for 00:02:16.72)\n",
      "Using AsyncHyperBand: num_stopped=73\n",
      "Bracket: Iter 64.000: -0.7449610777393019 | Iter 16.000: -0.9834853785891905 | Iter 4.000: -1.1769301805372214 | Iter 1.000: -1.3165114988390154\n",
      "Logical resource usage: 0/40 CPUs, 8.0/8 GPUs (0.0/1.0 accelerator_type:G)\n",
      "Result logdir: /home/banyh2000/ray_results/train_ray_Ultimateconfig_2024-03-07_20-47-37\n",
      "Number of trials: 100/100 (22 PENDING, 5 RUNNING, 73 TERMINATED)\n",
      "\n",
      "\n",
      "== Status ==\n",
      "Current time: 2024-03-07 20:49:59 (running for 00:02:21.77)\n",
      "Using AsyncHyperBand: num_stopped=78\n",
      "Bracket: Iter 64.000: -0.7417819334401025 | Iter 16.000: -0.9834853785891905 | Iter 4.000: -1.1769301805372214 | Iter 1.000: -1.3172657810345327\n",
      "Logical resource usage: 0/40 CPUs, 8.0/8 GPUs (0.0/1.0 accelerator_type:G)\n",
      "Result logdir: /home/banyh2000/ray_results/train_ray_Ultimateconfig_2024-03-07_20-47-37\n",
      "Number of trials: 100/100 (19 PENDING, 3 RUNNING, 78 TERMINATED)\n",
      "\n",
      "\n",
      "== Status ==\n",
      "Current time: 2024-03-07 20:50:04 (running for 00:02:26.83)\n",
      "Using AsyncHyperBand: num_stopped=82\n",
      "Bracket: Iter 64.000: -0.7417819334401025 | Iter 16.000: -0.9839404860145938 | Iter 4.000: -1.1769301805372214 | Iter 1.000: -1.3175304677187691\n",
      "Logical resource usage: 0/40 CPUs, 8.0/8 GPUs (0.0/1.0 accelerator_type:G)\n",
      "Result logdir: /home/banyh2000/ray_results/train_ray_Ultimateconfig_2024-03-07_20-47-37\n",
      "Number of trials: 100/100 (13 PENDING, 5 RUNNING, 82 TERMINATED)\n",
      "\n",
      "\n",
      "== Status ==\n",
      "Current time: 2024-03-07 20:50:09 (running for 00:02:31.88)\n",
      "Using AsyncHyperBand: num_stopped=86\n",
      "Bracket: Iter 64.000: -0.7417819334401025 | Iter 16.000: -0.9839404860145938 | Iter 4.000: -1.1769301805372214 | Iter 1.000: -1.3175370973616345\n",
      "Logical resource usage: 0/40 CPUs, 8.0/8 GPUs (0.0/1.0 accelerator_type:G)\n",
      "Result logdir: /home/banyh2000/ray_results/train_ray_Ultimateconfig_2024-03-07_20-47-37\n",
      "Number of trials: 100/100 (10 PENDING, 4 RUNNING, 86 TERMINATED)\n",
      "\n",
      "\n",
      "== Status ==\n",
      "Current time: 2024-03-07 20:50:14 (running for 00:02:36.94)\n",
      "Using AsyncHyperBand: num_stopped=91\n",
      "Bracket: Iter 64.000: -0.7417819334401025 | Iter 16.000: -0.9839404860145938 | Iter 4.000: -1.1802172441009087 | Iter 1.000: -1.3175437270044998\n",
      "Logical resource usage: 0/40 CPUs, 8.0/8 GPUs (0.0/1.0 accelerator_type:G)\n",
      "Result logdir: /home/banyh2000/ray_results/train_ray_Ultimateconfig_2024-03-07_20-47-37\n",
      "Number of trials: 100/100 (6 PENDING, 3 RUNNING, 91 TERMINATED)\n",
      "\n",
      "\n",
      "== Status ==\n",
      "Current time: 2024-03-07 20:50:19 (running for 00:02:41.99)\n",
      "Using AsyncHyperBand: num_stopped=94\n",
      "Bracket: Iter 64.000: -0.7417819334401025 | Iter 16.000: -0.9839404860145938 | Iter 4.000: -1.1835043076645961 | Iter 1.000: -1.3175370973616345\n",
      "Logical resource usage: 0/40 CPUs, 6.0/8 GPUs (0.0/1.0 accelerator_type:G)\n",
      "Result logdir: /home/banyh2000/ray_results/train_ray_Ultimateconfig_2024-03-07_20-47-37\n",
      "Number of trials: 100/100 (1 PENDING, 5 RUNNING, 94 TERMINATED)\n",
      "\n",
      "\n",
      "== Status ==\n",
      "Current time: 2024-03-07 20:50:24 (running for 00:02:46.99)\n",
      "Using AsyncHyperBand: num_stopped=98\n",
      "Bracket: Iter 64.000: -0.7417819334401025 | Iter 16.000: -0.9839404860145938 | Iter 4.000: -1.176058713848709 | Iter 1.000: -1.3175370973616345\n",
      "Logical resource usage: 0/40 CPUs, 3.0/8 GPUs (0.0/1.0 accelerator_type:G)\n",
      "Result logdir: /home/banyh2000/ray_results/train_ray_Ultimateconfig_2024-03-07_20-47-37\n",
      "Number of trials: 100/100 (2 RUNNING, 98 TERMINATED)\n",
      "\n",
      "\n",
      "== Status ==\n",
      "Current time: 2024-03-07 20:50:29 (running for 00:02:52.09)\n",
      "Using AsyncHyperBand: num_stopped=99\n",
      "Bracket: Iter 64.000: -0.7417819334401025 | Iter 16.000: -0.9839404860145938 | Iter 4.000: -1.176058713848709 | Iter 1.000: -1.3175370973616345\n",
      "Logical resource usage: 0/40 CPUs, 1.0/8 GPUs (0.0/1.0 accelerator_type:G)\n",
      "Result logdir: /home/banyh2000/ray_results/train_ray_Ultimateconfig_2024-03-07_20-47-37\n",
      "Number of trials: 100/100 (1 RUNNING, 99 TERMINATED)\n",
      "\n",
      "\n",
      "== Status ==\n",
      "Current time: 2024-03-07 20:50:34 (running for 00:02:57.13)\n",
      "Using AsyncHyperBand: num_stopped=99\n",
      "Bracket: Iter 64.000: -0.7417819334401025 | Iter 16.000: -0.9839404860145938 | Iter 4.000: -1.176058713848709 | Iter 1.000: -1.3175370973616345\n",
      "Logical resource usage: 0/40 CPUs, 1.0/8 GPUs (0.0/1.0 accelerator_type:G)\n",
      "Result logdir: /home/banyh2000/ray_results/train_ray_Ultimateconfig_2024-03-07_20-47-37\n",
      "Number of trials: 100/100 (1 RUNNING, 99 TERMINATED)\n",
      "\n",
      "\n"
     ]
    },
    {
     "name": "stderr",
     "output_type": "stream",
     "text": [
      "2024-03-07 20:50:36,849\tINFO tune.py:1042 -- Total run time: 179.34 seconds (179.31 seconds for the tuning loop).\n"
     ]
    },
    {
     "name": "stdout",
     "output_type": "stream",
     "text": [
      "== Status ==\n",
      "Current time: 2024-03-07 20:50:36 (running for 00:02:59.32)\n",
      "Using AsyncHyperBand: num_stopped=100\n",
      "Bracket: Iter 64.000: -0.7417819334401025 | Iter 16.000: -0.9844402336552915 | Iter 4.000: -1.176058713848709 | Iter 1.000: -1.3175370973616345\n",
      "Logical resource usage: 0/40 CPUs, 1.0/8 GPUs (0.0/1.0 accelerator_type:G)\n",
      "Result logdir: /home/banyh2000/ray_results/train_ray_Ultimateconfig_2024-03-07_20-47-37\n",
      "Number of trials: 100/100 (100 TERMINATED)\n",
      "+--------------------------------------+------------+----------------------+-------------+----------------+----------+\n",
      "| Trial name                           | status     | loc                  |          lr |   weight_decay |     loss |\n",
      "|--------------------------------------+------------+----------------------+-------------+----------------+----------|\n",
      "| train_ray_Ultimateconfig_fcc21_00000 | TERMINATED | 131.179.88.212:40604 | 0.000556979 |    0.000391976 | 1.24874  |\n",
      "| train_ray_Ultimateconfig_fcc21_00001 | TERMINATED | 131.179.88.212:40605 | 0.000388692 |    0.000358309 | 1.35543  |\n",
      "| train_ray_Ultimateconfig_fcc21_00002 | TERMINATED | 131.179.88.212:40606 | 0.00122875  |    0.000117189 | 0.765462 |\n",
      "| train_ray_Ultimateconfig_fcc21_00003 | TERMINATED | 131.179.88.212:40611 | 0.00652845  |    0.00031046  | 1.3259   |\n",
      "| train_ray_Ultimateconfig_fcc21_00004 | TERMINATED | 131.179.88.212:40607 | 0.0015702   |    0.000130899 | 1.35952  |\n",
      "| train_ray_Ultimateconfig_fcc21_00005 | TERMINATED | 131.179.88.212:40608 | 0.000802995 |    0.000121888 | 1.33205  |\n",
      "| train_ray_Ultimateconfig_fcc21_00006 | TERMINATED | 131.179.88.212:40609 | 0.000150336 |    0.00016346  | 1.38653  |\n",
      "| train_ray_Ultimateconfig_fcc21_00007 | TERMINATED | 131.179.88.212:40610 | 0.00143686  |    0.000381193 | 1.21461  |\n",
      "| train_ray_Ultimateconfig_fcc21_00008 | TERMINATED | 131.179.88.212:585   | 0.000209845 |    0.000123873 | 1.37505  |\n",
      "| train_ray_Ultimateconfig_fcc21_00009 | TERMINATED | 131.179.88.212:586   | 0.00236132  |    0.000557603 | 1.31773  |\n",
      "| train_ray_Ultimateconfig_fcc21_00010 | TERMINATED | 131.179.88.212:587   | 0.00346075  |    0.0002463   | 1.33526  |\n",
      "| train_ray_Ultimateconfig_fcc21_00011 | TERMINATED | 131.179.88.212:588   | 0.00627873  |    0.000335214 | 1.35455  |\n",
      "| train_ray_Ultimateconfig_fcc21_00012 | TERMINATED | 131.179.88.212:589   | 0.000113765 |    0.000108444 | 1.38192  |\n",
      "| train_ray_Ultimateconfig_fcc21_00013 | TERMINATED | 131.179.88.212:922   | 0.00312864  |    0.000101442 | 1.21315  |\n",
      "| train_ray_Ultimateconfig_fcc21_00014 | TERMINATED | 131.179.88.212:930   | 0.00958607  |    0.000169264 | 1.32209  |\n",
      "| train_ray_Ultimateconfig_fcc21_00015 | TERMINATED | 131.179.88.212:1068  | 0.00493103  |    0.000469565 | 1.21378  |\n",
      "| train_ray_Ultimateconfig_fcc21_00016 | TERMINATED | 131.179.88.212:1073  | 0.000855934 |    0.000334134 | 1.31807  |\n",
      "| train_ray_Ultimateconfig_fcc21_00017 | TERMINATED | 131.179.88.212:1075  | 0.00608653  |    0.000828453 | 1.32335  |\n",
      "| train_ray_Ultimateconfig_fcc21_00018 | TERMINATED | 131.179.88.212:1076  | 0.000159144 |    0.000131429 | 1.36107  |\n",
      "| train_ray_Ultimateconfig_fcc21_00019 | TERMINATED | 131.179.88.212:1077  | 0.00857888  |    0.000251287 | 1.37845  |\n",
      "| train_ray_Ultimateconfig_fcc21_00020 | TERMINATED | 131.179.88.212:1429  | 0.000113263 |    0.000754635 | 1.40863  |\n",
      "| train_ray_Ultimateconfig_fcc21_00021 | TERMINATED | 131.179.88.212:1573  | 0.00953282  |    0.000172125 | 1.32962  |\n",
      "| train_ray_Ultimateconfig_fcc21_00022 | TERMINATED | 131.179.88.212:1574  | 0.000181942 |    0.000148855 | 1.36703  |\n",
      "| train_ray_Ultimateconfig_fcc21_00023 | TERMINATED | 131.179.88.212:1575  | 0.000530071 |    0.000127085 | 1.31806  |\n",
      "| train_ray_Ultimateconfig_fcc21_00024 | TERMINATED | 131.179.88.212:1576  | 0.0031892   |    0.000341913 | 1.32219  |\n",
      "| train_ray_Ultimateconfig_fcc21_00025 | TERMINATED | 131.179.88.212:1783  | 0.000253908 |    0.000750119 | 1.31817  |\n",
      "| train_ray_Ultimateconfig_fcc21_00026 | TERMINATED | 131.179.88.212:1859  | 0.00178196  |    0.000320561 | 1.3221   |\n",
      "| train_ray_Ultimateconfig_fcc21_00027 | TERMINATED | 131.179.88.212:1896  | 0.00608105  |    0.00010407  | 1.27988  |\n",
      "| train_ray_Ultimateconfig_fcc21_00028 | TERMINATED | 131.179.88.212:2068  | 0.000214846 |    0.000135176 | 1.35425  |\n",
      "| train_ray_Ultimateconfig_fcc21_00029 | TERMINATED | 131.179.88.212:2072  | 0.000702009 |    0.000799645 | 1.34445  |\n",
      "| train_ray_Ultimateconfig_fcc21_00030 | TERMINATED | 131.179.88.212:2073  | 0.000113045 |    0.000472401 | 1.38287  |\n",
      "| train_ray_Ultimateconfig_fcc21_00031 | TERMINATED | 131.179.88.212:2074  | 0.00744642  |    0.000707215 | 1.35004  |\n",
      "| train_ray_Ultimateconfig_fcc21_00032 | TERMINATED | 131.179.88.212:2474  | 0.00435608  |    0.000162248 | 1.33523  |\n",
      "| train_ray_Ultimateconfig_fcc21_00033 | TERMINATED | 131.179.88.212:2551  | 0.000490299 |    0.000112928 | 1.35227  |\n",
      "| train_ray_Ultimateconfig_fcc21_00034 | TERMINATED | 131.179.88.212:2679  | 0.000701357 |    0.000146173 | 1.34937  |\n",
      "| train_ray_Ultimateconfig_fcc21_00035 | TERMINATED | 131.179.88.212:2680  | 0.000660458 |    0.000328793 | 1.34144  |\n",
      "| train_ray_Ultimateconfig_fcc21_00036 | TERMINATED | 131.179.88.212:2698  | 0.00888344  |    0.000421826 | 1.34395  |\n",
      "| train_ray_Ultimateconfig_fcc21_00037 | TERMINATED | 131.179.88.212:2801  | 0.00641595  |    0.000100339 | 1.09078  |\n",
      "| train_ray_Ultimateconfig_fcc21_00038 | TERMINATED | 131.179.88.212:2803  | 0.000975689 |    0.000227806 | 1.3315   |\n",
      "| train_ray_Ultimateconfig_fcc21_00039 | TERMINATED | 131.179.88.212:2961  | 0.00010041  |    0.000460336 | 1.39412  |\n",
      "| train_ray_Ultimateconfig_fcc21_00040 | TERMINATED | 131.179.88.212:2991  | 0.00288724  |    0.000790909 | 0.736462 |\n",
      "| train_ray_Ultimateconfig_fcc21_00041 | TERMINATED | 131.179.88.212:3169  | 0.00822812  |    0.000580548 | 1.22548  |\n",
      "| train_ray_Ultimateconfig_fcc21_00042 | TERMINATED | 131.179.88.212:3171  | 0.00370275  |    0.000112439 | 1.33964  |\n",
      "| train_ray_Ultimateconfig_fcc21_00043 | TERMINATED | 131.179.88.212:3189  | 0.000244342 |    0.000999041 | 1.37032  |\n",
      "| train_ray_Ultimateconfig_fcc21_00044 | TERMINATED | 131.179.88.212:3350  | 0.000239958 |    0.000408575 | 1.35201  |\n",
      "| train_ray_Ultimateconfig_fcc21_00045 | TERMINATED | 131.179.88.212:3412  | 0.00358462  |    0.000285745 | 1.33431  |\n",
      "| train_ray_Ultimateconfig_fcc21_00046 | TERMINATED | 131.179.88.212:3549  | 0.00168286  |    0.000150888 | 1.34621  |\n",
      "| train_ray_Ultimateconfig_fcc21_00047 | TERMINATED | 131.179.88.212:3550  | 0.000431412 |    0.000768037 | 1.02246  |\n",
      "| train_ray_Ultimateconfig_fcc21_00048 | TERMINATED | 131.179.88.212:3688  | 0.00043339  |    0.000837906 | 1.22448  |\n",
      "| train_ray_Ultimateconfig_fcc21_00049 | TERMINATED | 131.179.88.212:3772  | 0.000246687 |    0.000429033 | 1.34293  |\n",
      "| train_ray_Ultimateconfig_fcc21_00050 | TERMINATED | 131.179.88.212:3773  | 0.00211751  |    0.000656096 | 0.759178 |\n",
      "| train_ray_Ultimateconfig_fcc21_00051 | TERMINATED | 131.179.88.212:3912  | 0.00225293  |    0.000548712 | 0.745496 |\n",
      "| train_ray_Ultimateconfig_fcc21_00052 | TERMINATED | 131.179.88.212:4020  | 0.000286038 |    0.000225416 | 1.36197  |\n",
      "| train_ray_Ultimateconfig_fcc21_00053 | TERMINATED | 131.179.88.212:4079  | 0.000830299 |    0.000143845 | 0.988622 |\n",
      "| train_ray_Ultimateconfig_fcc21_00054 | TERMINATED | 131.179.88.212:4146  | 0.00146219  |    0.000205742 | 0.990327 |\n",
      "| train_ray_Ultimateconfig_fcc21_00055 | TERMINATED | 131.179.88.212:4224  | 0.00650028  |    0.000282007 | 1.34067  |\n",
      "| train_ray_Ultimateconfig_fcc21_00056 | TERMINATED | 131.179.88.212:4325  | 0.000677919 |    0.000531101 | 1.32611  |\n",
      "| train_ray_Ultimateconfig_fcc21_00057 | TERMINATED | 131.179.88.212:4381  | 0.00880589  |    0.000199238 | 1.33281  |\n",
      "| train_ray_Ultimateconfig_fcc21_00058 | TERMINATED | 131.179.88.212:4475  | 0.0043903   |    0.000145004 | 1.34413  |\n",
      "| train_ray_Ultimateconfig_fcc21_00059 | TERMINATED | 131.179.88.212:4532  | 0.00217595  |    0.000164705 | 1.32597  |\n",
      "| train_ray_Ultimateconfig_fcc21_00060 | TERMINATED | 131.179.88.212:4626  | 0.00144984  |    0.000219712 | 1.33745  |\n",
      "| train_ray_Ultimateconfig_fcc21_00061 | TERMINATED | 131.179.88.212:4683  | 0.00819111  |    0.000162275 | 1.20181  |\n",
      "| train_ray_Ultimateconfig_fcc21_00062 | TERMINATED | 131.179.88.212:4684  | 0.00218028  |    0.00011574  | 1.26581  |\n",
      "| train_ray_Ultimateconfig_fcc21_00063 | TERMINATED | 131.179.88.212:4685  | 0.00109344  |    0.000256083 | 1.06332  |\n",
      "| train_ray_Ultimateconfig_fcc21_00064 | TERMINATED | 131.179.88.212:4908  | 0.00266123  |    0.000354522 | 1.06368  |\n",
      "| train_ray_Ultimateconfig_fcc21_00065 | TERMINATED | 131.179.88.212:4995  | 0.00110403  |    0.000112698 | 1.23101  |\n",
      "| train_ray_Ultimateconfig_fcc21_00066 | TERMINATED | 131.179.88.212:4996  | 0.000988438 |    0.000424101 | 1.32944  |\n",
      "| train_ray_Ultimateconfig_fcc21_00067 | TERMINATED | 131.179.88.212:5148  | 0.000314667 |    0.00019473  | 1.34433  |\n",
      "| train_ray_Ultimateconfig_fcc21_00068 | TERMINATED | 131.179.88.212:5219  | 0.000177076 |    0.00053639  | 1.34377  |\n",
      "| train_ray_Ultimateconfig_fcc21_00069 | TERMINATED | 131.179.88.212:5281  | 0.000821159 |    0.000217472 | 1.34763  |\n",
      "| train_ray_Ultimateconfig_fcc21_00070 | TERMINATED | 131.179.88.212:5350  | 0.00167087  |    0.00016808  | 1.3366   |\n",
      "| train_ray_Ultimateconfig_fcc21_00071 | TERMINATED | 131.179.88.212:5424  | 0.00071049  |    0.000573717 | 1.32922  |\n",
      "| train_ray_Ultimateconfig_fcc21_00072 | TERMINATED | 131.179.88.212:5496  | 0.00136948  |    0.000445833 | 0.98494  |\n",
      "| train_ray_Ultimateconfig_fcc21_00073 | TERMINATED | 131.179.88.212:5568  | 0.0048737   |    0.000118436 | 1.33147  |\n",
      "| train_ray_Ultimateconfig_fcc21_00074 | TERMINATED | 131.179.88.212:5641  | 0.00444628  |    0.000611445 | 1.19006  |\n",
      "| train_ray_Ultimateconfig_fcc21_00075 | TERMINATED | 131.179.88.212:5712  | 0.00120704  |    0.000968063 | 1.35301  |\n",
      "| train_ray_Ultimateconfig_fcc21_00076 | TERMINATED | 131.179.88.212:5789  | 0.00121548  |    0.000175857 | 1.32557  |\n",
      "| train_ray_Ultimateconfig_fcc21_00077 | TERMINATED | 131.179.88.212:5883  | 0.000132311 |    0.000194292 | 1.39893  |\n",
      "| train_ray_Ultimateconfig_fcc21_00078 | TERMINATED | 131.179.88.212:5940  | 0.0020993   |    0.000308838 | 1.33208  |\n",
      "| train_ray_Ultimateconfig_fcc21_00079 | TERMINATED | 131.179.88.212:5941  | 0.000224302 |    0.000420874 | 1.34806  |\n",
      "| train_ray_Ultimateconfig_fcc21_00080 | TERMINATED | 131.179.88.212:6061  | 0.000165106 |    0.000309571 | 1.33796  |\n",
      "| train_ray_Ultimateconfig_fcc21_00081 | TERMINATED | 131.179.88.212:6150  | 0.00427331  |    0.000146112 | 1.35396  |\n",
      "| train_ray_Ultimateconfig_fcc21_00082 | TERMINATED | 131.179.88.212:6152  | 0.000578415 |    0.000586471 | 1.34119  |\n",
      "| train_ray_Ultimateconfig_fcc21_00083 | TERMINATED | 131.179.88.212:6276  | 0.000620656 |    0.000239499 | 1.32296  |\n",
      "| train_ray_Ultimateconfig_fcc21_00084 | TERMINATED | 131.179.88.212:6278  | 0.00853719  |    0.000912777 | 1.33649  |\n",
      "| train_ray_Ultimateconfig_fcc21_00085 | TERMINATED | 131.179.88.212:6279  | 0.00521689  |    0.00041404  | 1.33584  |\n",
      "| train_ray_Ultimateconfig_fcc21_00086 | TERMINATED | 131.179.88.212:6466  | 0.00312615  |    0.000113523 | 1.34335  |\n",
      "| train_ray_Ultimateconfig_fcc21_00087 | TERMINATED | 131.179.88.212:6567  | 0.000523522 |    0.000652388 | 1.22046  |\n",
      "| train_ray_Ultimateconfig_fcc21_00088 | TERMINATED | 131.179.88.212:6647  | 0.00702455  |    0.000545297 | 1.34537  |\n",
      "| train_ray_Ultimateconfig_fcc21_00089 | TERMINATED | 131.179.88.212:6648  | 0.00205921  |    0.000465385 | 1.32382  |\n",
      "| train_ray_Ultimateconfig_fcc21_00090 | TERMINATED | 131.179.88.212:6774  | 0.000730712 |    0.000418501 | 1.35058  |\n",
      "| train_ray_Ultimateconfig_fcc21_00091 | TERMINATED | 131.179.88.212:6775  | 0.00147119  |    0.000946739 | 1.32492  |\n",
      "| train_ray_Ultimateconfig_fcc21_00092 | TERMINATED | 131.179.88.212:6776  | 0.000626664 |    0.000605993 | 1.20291  |\n",
      "| train_ray_Ultimateconfig_fcc21_00093 | TERMINATED | 131.179.88.212:6966  | 0.000486931 |    0.000116397 | 1.33581  |\n",
      "| train_ray_Ultimateconfig_fcc21_00094 | TERMINATED | 131.179.88.212:7097  | 0.00345043  |    0.000118427 | 1.00946  |\n",
      "| train_ray_Ultimateconfig_fcc21_00095 | TERMINATED | 131.179.88.212:7099  | 0.000283034 |    0.000312891 | 1.34847  |\n",
      "| train_ray_Ultimateconfig_fcc21_00096 | TERMINATED | 131.179.88.212:7208  | 0.000692527 |    0.000390216 | 1.32794  |\n",
      "| train_ray_Ultimateconfig_fcc21_00097 | TERMINATED | 131.179.88.212:7209  | 0.00648954  |    0.000939703 | 1.33409  |\n",
      "| train_ray_Ultimateconfig_fcc21_00098 | TERMINATED | 131.179.88.212:7210  | 0.00363996  |    0.000660773 | 1.18331  |\n",
      "| train_ray_Ultimateconfig_fcc21_00099 | TERMINATED | 131.179.88.212:7395  | 0.000110425 |    0.000860536 | 1.37072  |\n",
      "+--------------------------------------+------------+----------------------+-------------+----------------+----------+\n",
      "\n",
      "\n",
      "Best hyperparameters found are:  {'lr': 0.002887238672328772, 'weight_decay': 0.0007909087837619841}\n"
     ]
    }
   ],
   "source": [
    "import ray\n",
    "from ray import tune\n",
    "from ray import train as raytrain\n",
    "from ray.tune import CLIReporter\n",
    "from ray.tune.schedulers import ASHAScheduler\n",
    "from src.methods_ray import train_ray_Ultimateconfig\n",
    "\n",
    "config = {\n",
    "    'lr': tune.loguniform(1e-4, 1e-2),\n",
    "    'weight_decay': tune.loguniform(1e-4, 1e-3)\n",
    "}\n",
    "\n",
    "# Initialize Ray Tune\n",
    "ray.shutdown()\n",
    "ray.init()\n",
    "scheduler = ASHAScheduler(metric='loss', mode='min')\n",
    "reporter = CLIReporter(metric_columns=['loss'])\n",
    "\n",
    "# Execute the hyperparameter search\n",
    "analysis = tune.run(\n",
    "    train_ray_Ultimateconfig,\n",
    "    resources_per_trial={'gpu': 1},  # If you want to use GPUs, you can set {'gpu': 1} instead\n",
    "    config=config,\n",
    "    num_samples=100,\n",
    "    scheduler=scheduler,\n",
    "    progress_reporter=reporter\n",
    ")\n",
    "\n",
    "# Get the best hyperparameters\n",
    "best_config = analysis.get_best_config(metric='loss', mode='min')\n",
    "print('Best hyperparameters found are: ', best_config)\n",
    "\n",
    "# get best accuracy using tune config\n"
   ]
  },
  {
   "cell_type": "code",
   "execution_count": 40,
   "metadata": {},
   "outputs": [
    {
     "name": "stderr",
     "output_type": "stream",
     "text": [
      "  0%|          | 0/100 [00:00<?, ?it/s]"
     ]
    },
    {
     "name": "stderr",
     "output_type": "stream",
     "text": [
      " 10%|█         | 10/100 [00:11<01:48,  1.21s/it]"
     ]
    },
    {
     "name": "stdout",
     "output_type": "stream",
     "text": [
      "Epoch [10/100], Loss: 1.1280, Validation Accuracy: 48.23%\n"
     ]
    },
    {
     "name": "stderr",
     "output_type": "stream",
     "text": [
      " 20%|██        | 20/100 [00:23<01:38,  1.23s/it]"
     ]
    },
    {
     "name": "stdout",
     "output_type": "stream",
     "text": [
      "Epoch [20/100], Loss: 1.0233, Validation Accuracy: 55.79%\n"
     ]
    },
    {
     "name": "stderr",
     "output_type": "stream",
     "text": [
      " 30%|███       | 30/100 [00:36<01:25,  1.23s/it]"
     ]
    },
    {
     "name": "stdout",
     "output_type": "stream",
     "text": [
      "Epoch [30/100], Loss: 0.9313, Validation Accuracy: 60.28%\n"
     ]
    },
    {
     "name": "stderr",
     "output_type": "stream",
     "text": [
      " 40%|████      | 40/100 [00:47<01:12,  1.21s/it]"
     ]
    },
    {
     "name": "stdout",
     "output_type": "stream",
     "text": [
      "Epoch [40/100], Loss: 0.8618, Validation Accuracy: 60.05%\n"
     ]
    },
    {
     "name": "stderr",
     "output_type": "stream",
     "text": [
      " 50%|█████     | 50/100 [00:59<01:00,  1.20s/it]"
     ]
    },
    {
     "name": "stdout",
     "output_type": "stream",
     "text": [
      "Epoch [50/100], Loss: 0.7906, Validation Accuracy: 65.01%\n"
     ]
    },
    {
     "name": "stderr",
     "output_type": "stream",
     "text": [
      " 60%|██████    | 60/100 [01:11<00:48,  1.21s/it]"
     ]
    },
    {
     "name": "stdout",
     "output_type": "stream",
     "text": [
      "Epoch [60/100], Loss: 0.7732, Validation Accuracy: 63.59%\n"
     ]
    },
    {
     "name": "stderr",
     "output_type": "stream",
     "text": [
      " 70%|███████   | 70/100 [01:23<00:36,  1.20s/it]"
     ]
    },
    {
     "name": "stdout",
     "output_type": "stream",
     "text": [
      "Epoch [70/100], Loss: 0.7561, Validation Accuracy: 65.25%\n"
     ]
    },
    {
     "name": "stderr",
     "output_type": "stream",
     "text": [
      " 80%|████████  | 80/100 [01:35<00:24,  1.23s/it]"
     ]
    },
    {
     "name": "stdout",
     "output_type": "stream",
     "text": [
      "Epoch [80/100], Loss: 0.7388, Validation Accuracy: 66.90%\n"
     ]
    },
    {
     "name": "stderr",
     "output_type": "stream",
     "text": [
      " 90%|█████████ | 90/100 [01:47<00:12,  1.21s/it]"
     ]
    },
    {
     "name": "stdout",
     "output_type": "stream",
     "text": [
      "Epoch [90/100], Loss: 0.6990, Validation Accuracy: 66.19%\n"
     ]
    },
    {
     "name": "stderr",
     "output_type": "stream",
     "text": [
      "100%|██████████| 100/100 [01:59<00:00,  1.19s/it]"
     ]
    },
    {
     "name": "stdout",
     "output_type": "stream",
     "text": [
      "Epoch [100/100], Loss: 0.7033, Validation Accuracy: 68.56%\n",
      "Test Accuracy: 69.07%\n"
     ]
    },
    {
     "name": "stderr",
     "output_type": "stream",
     "text": [
      "\n"
     ]
    }
   ],
   "source": [
    "ult_cnn = UltimateConvNet()\n",
    "criterion = nn.CrossEntropyLoss()\n",
    "optimizer = torch.optim.Adam(ult_cnn.parameters(), lr = best_config['lr'].real, betas=(0.9, 0.99), eps=1e-6, weight_decay=best_config['weight_decay'].real)\n",
    "\n",
    "ult_cnn = ult_cnn.to(device)\n",
    "train(ult_cnn, train_loader, valid_loader, criterion, optimizer, device=device, epochs=100,patience=100)\n",
    "\n",
    "test_accuracy = evaluate(ult_cnn, test_loader, device=device)\n",
    "print(f'Test Accuracy: {test_accuracy:.2f}%')"
   ]
  },
  {
   "cell_type": "code",
   "execution_count": 10,
   "metadata": {},
   "outputs": [
    {
     "name": "stderr",
     "output_type": "stream",
     "text": [
      "/home/banyh2000/anaconda3/lib/python3.11/site-packages/torch/nn/modules/transformer.py:286: UserWarning: enable_nested_tensor is True, but self.use_nested_tensor is False because encoder_layer.self_attn.batch_first was not True(use batch_first for better inference performance)\n",
      "  warnings.warn(f\"enable_nested_tensor is True, but self.use_nested_tensor is False because {why_not_sparsity_fast_path}\")\n",
      "  0%|          | 0/200 [00:00<?, ?it/s]"
     ]
    },
    {
     "name": "stderr",
     "output_type": "stream",
     "text": [
      "  5%|▌         | 10/200 [01:38<31:33,  9.96s/it]"
     ]
    },
    {
     "name": "stdout",
     "output_type": "stream",
     "text": [
      "Epoch [10/200], Loss: 1.3946, Validation Accuracy: 24.59%\n"
     ]
    },
    {
     "name": "stderr",
     "output_type": "stream",
     "text": [
      " 10%|█         | 20/200 [03:16<29:49,  9.94s/it]"
     ]
    },
    {
     "name": "stdout",
     "output_type": "stream",
     "text": [
      "Epoch [20/200], Loss: 1.3668, Validation Accuracy: 28.37%\n"
     ]
    },
    {
     "name": "stderr",
     "output_type": "stream",
     "text": [
      " 15%|█▌        | 30/200 [04:55<28:12,  9.96s/it]"
     ]
    },
    {
     "name": "stdout",
     "output_type": "stream",
     "text": [
      "Epoch [30/200], Loss: 1.3423, Validation Accuracy: 26.71%\n"
     ]
    },
    {
     "name": "stderr",
     "output_type": "stream",
     "text": [
      " 20%|██        | 40/200 [06:33<26:34,  9.96s/it]"
     ]
    },
    {
     "name": "stdout",
     "output_type": "stream",
     "text": [
      "Epoch [40/200], Loss: 1.3213, Validation Accuracy: 31.68%\n"
     ]
    },
    {
     "name": "stderr",
     "output_type": "stream",
     "text": [
      " 25%|██▌       | 50/200 [08:12<24:55,  9.97s/it]"
     ]
    },
    {
     "name": "stdout",
     "output_type": "stream",
     "text": [
      "Epoch [50/200], Loss: 1.3151, Validation Accuracy: 35.46%\n"
     ]
    },
    {
     "name": "stderr",
     "output_type": "stream",
     "text": [
      " 30%|███       | 60/200 [09:50<23:14,  9.96s/it]"
     ]
    },
    {
     "name": "stdout",
     "output_type": "stream",
     "text": [
      "Epoch [60/200], Loss: 1.2410, Validation Accuracy: 37.12%\n"
     ]
    },
    {
     "name": "stderr",
     "output_type": "stream",
     "text": [
      " 33%|███▎      | 66/200 [10:58<22:17,  9.98s/it]"
     ]
    },
    {
     "name": "stdout",
     "output_type": "stream",
     "text": [
      "Early stopping!\n"
     ]
    },
    {
     "name": "stderr",
     "output_type": "stream",
     "text": [
      "\n"
     ]
    },
    {
     "name": "stdout",
     "output_type": "stream",
     "text": [
      "Test Accuracy: 33.86%\n"
     ]
    }
   ],
   "source": [
    "vit = ViT(patch_size=(22, 1), num_classes=4, dim=64, num_head=8, num_layers = 2)\n",
    "criterion = nn.CrossEntropyLoss()\n",
    "optimizer = torch.optim.SGD(vit.parameters(), lr=0.01, momentum=0.9)\n",
    "\n",
    "vit = vit.to(device)\n",
    "train(vit, train_loader, valid_loader, criterion, optimizer, device=device, epochs=200)\n",
    "\n",
    "test_accuracy = evaluate(vit, test_loader, device=device)\n",
    "print(f'Test Accuracy: {test_accuracy:.2f}%')"
   ]
  }
 ],
 "metadata": {
  "kernelspec": {
   "display_name": "ece247",
   "language": "python",
   "name": "python3"
  },
  "language_info": {
   "codemirror_mode": {
    "name": "ipython",
    "version": 3
   },
   "file_extension": ".py",
   "mimetype": "text/x-python",
   "name": "python",
   "nbconvert_exporter": "python",
   "pygments_lexer": "ipython3",
   "version": "3.11.5"
  }
 },
 "nbformat": 4,
 "nbformat_minor": 2
}
