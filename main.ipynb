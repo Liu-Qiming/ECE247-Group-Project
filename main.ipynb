{
 "cells": [
  {
   "cell_type": "code",
   "execution_count": 9,
   "metadata": {},
   "outputs": [
    {
     "name": "stdout",
     "output_type": "stream",
     "text": [
      "cuda\n"
     ]
    }
   ],
   "source": [
    "import os\n",
    "import torch\n",
    "import numpy as np\n",
    "\n",
    "from torch.utils.data import TensorDataset, DataLoader, Subset\n",
    "import torchvision\n",
    "from os import path\n",
    "\n",
    "from src.utils import *\n",
    "from src.models import *\n",
    "from src.methods import *\n",
    "\n",
    "data_path = path.join(os.getcwd(), 'project_data/')\n",
    "\n",
    "USE_GPU = True\n",
    "if USE_GPU and torch.cuda.is_available():\n",
    "    device = torch.device('cuda')\n",
    "else:\n",
    "    device = torch.device('cpu')\n",
    "print(device)"
   ]
  },
  {
   "cell_type": "code",
   "execution_count": 10,
   "metadata": {},
   "outputs": [],
   "source": [
    "X_test = np.load(data_path + \"X_test.npy\")\n",
    "y_test = np.load(data_path + \"y_test.npy\") - 769\n",
    "person_train_valid = np.load(data_path + \"person_train_valid.npy\")\n",
    "X_train_valid = np.load(data_path + \"X_train_valid.npy\")\n",
    "y_train_valid = np.load(data_path + \"y_train_valid.npy\") - 769\n",
    "person_test = np.load(data_path + \"person_test.npy\")"
   ]
  },
  {
   "cell_type": "code",
   "execution_count": 11,
   "metadata": {},
   "outputs": [
    {
     "name": "stdout",
     "output_type": "stream",
     "text": [
      "Training/Valid data shape: (2115, 22, 1000)\n",
      "Test data shape: (443, 22, 1000)\n",
      "Training/Valid target shape: (2115,)\n",
      "Test target shape: (443,)\n",
      "Person train/valid shape: (2115, 1)\n",
      "Person test shape: (443, 1)\n"
     ]
    }
   ],
   "source": [
    "print ('Training/Valid data shape: {}'.format(X_train_valid.shape))\n",
    "print ('Test data shape: {}'.format(X_test.shape))\n",
    "print ('Training/Valid target shape: {}'.format(y_train_valid.shape))\n",
    "print ('Test target shape: {}'.format(y_test.shape))\n",
    "print ('Person train/valid shape: {}'.format(person_train_valid.shape))\n",
    "print ('Person test shape: {}'.format(person_test.shape))"
   ]
  },
  {
   "cell_type": "code",
   "execution_count": 12,
   "metadata": {},
   "outputs": [],
   "source": [
    "X_train_valid = X_train_valid[:, np.newaxis, :, :]\n",
    "X_test = X_test[:, np.newaxis, :, :]"
   ]
  },
  {
   "cell_type": "code",
   "execution_count": 13,
   "metadata": {},
   "outputs": [
    {
     "name": "stdout",
     "output_type": "stream",
     "text": [
      "Training/Valid data shape: torch.Size([2115, 1, 22, 1000])\n",
      "Test data shape: torch.Size([443, 1, 22, 1000])\n"
     ]
    }
   ],
   "source": [
    "X_train_valid = torch.from_numpy(X_train_valid).float()\n",
    "y_train_valid = torch.from_numpy(y_train_valid).long()\n",
    "X_test = torch.from_numpy(X_test).float()\n",
    "y_test = torch.from_numpy(y_test).long()\n",
    "\n",
    "train_valid_dataset = TensorDataset(X_train_valid, y_train_valid)\n",
    "test_dataset = TensorDataset(X_test, y_test)\n",
    "\n",
    "# Splitting the dataset into train and valid sets\n",
    "num_train = int(0.8 * len(train_valid_dataset))\n",
    "num_valid = len(train_valid_dataset) - num_train\n",
    "train_indices, valid_indices = random_split(range(len(train_valid_dataset)), [num_train, num_valid])\n",
    "\n",
    "train_dataset = Subset(train_valid_dataset, train_indices)\n",
    "valid_dataset = Subset(train_valid_dataset, valid_indices)\n",
    "\n",
    "# Wrapping datasets with GaussianNoisyDataset\n",
    "train_dataset_noisy = GaussianNoisyDataset(train_dataset, mean=0., std=1.)\n",
    "valid_dataset_noisy = GaussianNoisyDataset(valid_dataset, mean=0., std=1.)\n",
    "test_dataset_noisy = GaussianNoisyDataset(test_dataset, mean=0., std=1.)\n",
    "\n",
    "batch_size = 32\n",
    "train_loader = DataLoader(train_dataset_noisy, batch_size=batch_size, shuffle=True)\n",
    "valid_loader = DataLoader(valid_dataset_noisy, batch_size=batch_size, shuffle=False)\n",
    "test_loader = DataLoader(test_dataset_noisy, batch_size=batch_size, shuffle=False)\n",
    "\n",
    "print('Training/Valid data shape:', X_train_valid.shape)\n",
    "print('Test data shape:', X_test.shape)"
   ]
  },
  {
   "cell_type": "code",
   "execution_count": 14,
   "metadata": {},
   "outputs": [
    {
     "name": "stderr",
     "output_type": "stream",
     "text": [
      "  0%|          | 0/50 [00:00<?, ?it/s]"
     ]
    },
    {
     "name": "stderr",
     "output_type": "stream",
     "text": [
      "  0%|          | 0/50 [00:01<?, ?it/s]\n"
     ]
    },
    {
     "ename": "KeyboardInterrupt",
     "evalue": "",
     "output_type": "error",
     "traceback": [
      "\u001b[0;31m---------------------------------------------------------------------------\u001b[0m",
      "\u001b[0;31mKeyboardInterrupt\u001b[0m                         Traceback (most recent call last)",
      "Cell \u001b[0;32mIn[14], line 6\u001b[0m\n\u001b[1;32m      3\u001b[0m criterion \u001b[38;5;241m=\u001b[39m nn\u001b[38;5;241m.\u001b[39mCrossEntropyLoss()\n\u001b[1;32m      4\u001b[0m optimizer \u001b[38;5;241m=\u001b[39m torch\u001b[38;5;241m.\u001b[39moptim\u001b[38;5;241m.\u001b[39mAdam(model\u001b[38;5;241m.\u001b[39mparameters(), lr \u001b[38;5;241m=\u001b[39m \u001b[38;5;241m0.001\u001b[39m, betas\u001b[38;5;241m=\u001b[39m(\u001b[38;5;241m0.9\u001b[39m, \u001b[38;5;241m0.99\u001b[39m), eps\u001b[38;5;241m=\u001b[39m\u001b[38;5;241m1e-6\u001b[39m, weight_decay\u001b[38;5;241m=\u001b[39m\u001b[38;5;241m0.0005\u001b[39m)\n\u001b[0;32m----> 6\u001b[0m train(model, train_loader, valid_loader, criterion, optimizer, device\u001b[38;5;241m=\u001b[39mdevice, epochs\u001b[38;5;241m=\u001b[39m\u001b[38;5;241m50\u001b[39m)\n\u001b[1;32m      8\u001b[0m test_accuracy \u001b[38;5;241m=\u001b[39m evaluate(model, test_loader, device\u001b[38;5;241m=\u001b[39mdevice)\n\u001b[1;32m      9\u001b[0m \u001b[38;5;28mprint\u001b[39m(\u001b[38;5;124mf\u001b[39m\u001b[38;5;124m'\u001b[39m\u001b[38;5;124mTest Accuracy: \u001b[39m\u001b[38;5;132;01m{\u001b[39;00mtest_accuracy\u001b[38;5;132;01m:\u001b[39;00m\u001b[38;5;124m.2f\u001b[39m\u001b[38;5;132;01m}\u001b[39;00m\u001b[38;5;124m%\u001b[39m\u001b[38;5;124m'\u001b[39m)\n",
      "File \u001b[0;32m~/ECE247-Group-Project/src/methods.py:18\u001b[0m, in \u001b[0;36mtrain\u001b[0;34m(model, train_loader, valid_loader, criterion, optimizer, device, print_every, epochs, patience)\u001b[0m\n\u001b[1;32m     16\u001b[0m outputs \u001b[38;5;241m=\u001b[39m model(X)\n\u001b[1;32m     17\u001b[0m loss \u001b[38;5;241m=\u001b[39m criterion(outputs, y)\n\u001b[0;32m---> 18\u001b[0m loss\u001b[38;5;241m.\u001b[39mbackward()\n\u001b[1;32m     19\u001b[0m optimizer\u001b[38;5;241m.\u001b[39mstep()\n\u001b[1;32m     20\u001b[0m running_loss \u001b[38;5;241m+\u001b[39m\u001b[38;5;241m=\u001b[39m loss\u001b[38;5;241m.\u001b[39mitem() \u001b[38;5;241m*\u001b[39m X\u001b[38;5;241m.\u001b[39msize(\u001b[38;5;241m0\u001b[39m)\n",
      "File \u001b[0;32m~/anaconda3/lib/python3.11/site-packages/torch/_tensor.py:522\u001b[0m, in \u001b[0;36mTensor.backward\u001b[0;34m(self, gradient, retain_graph, create_graph, inputs)\u001b[0m\n\u001b[1;32m    512\u001b[0m \u001b[38;5;28;01mif\u001b[39;00m has_torch_function_unary(\u001b[38;5;28mself\u001b[39m):\n\u001b[1;32m    513\u001b[0m     \u001b[38;5;28;01mreturn\u001b[39;00m handle_torch_function(\n\u001b[1;32m    514\u001b[0m         Tensor\u001b[38;5;241m.\u001b[39mbackward,\n\u001b[1;32m    515\u001b[0m         (\u001b[38;5;28mself\u001b[39m,),\n\u001b[0;32m   (...)\u001b[0m\n\u001b[1;32m    520\u001b[0m         inputs\u001b[38;5;241m=\u001b[39minputs,\n\u001b[1;32m    521\u001b[0m     )\n\u001b[0;32m--> 522\u001b[0m torch\u001b[38;5;241m.\u001b[39mautograd\u001b[38;5;241m.\u001b[39mbackward(\n\u001b[1;32m    523\u001b[0m     \u001b[38;5;28mself\u001b[39m, gradient, retain_graph, create_graph, inputs\u001b[38;5;241m=\u001b[39minputs\n\u001b[1;32m    524\u001b[0m )\n",
      "File \u001b[0;32m~/anaconda3/lib/python3.11/site-packages/torch/autograd/__init__.py:266\u001b[0m, in \u001b[0;36mbackward\u001b[0;34m(tensors, grad_tensors, retain_graph, create_graph, grad_variables, inputs)\u001b[0m\n\u001b[1;32m    261\u001b[0m     retain_graph \u001b[38;5;241m=\u001b[39m create_graph\n\u001b[1;32m    263\u001b[0m \u001b[38;5;66;03m# The reason we repeat the same comment below is that\u001b[39;00m\n\u001b[1;32m    264\u001b[0m \u001b[38;5;66;03m# some Python versions print out the first line of a multi-line function\u001b[39;00m\n\u001b[1;32m    265\u001b[0m \u001b[38;5;66;03m# calls in the traceback and some print out the last line\u001b[39;00m\n\u001b[0;32m--> 266\u001b[0m Variable\u001b[38;5;241m.\u001b[39m_execution_engine\u001b[38;5;241m.\u001b[39mrun_backward(  \u001b[38;5;66;03m# Calls into the C++ engine to run the backward pass\u001b[39;00m\n\u001b[1;32m    267\u001b[0m     tensors,\n\u001b[1;32m    268\u001b[0m     grad_tensors_,\n\u001b[1;32m    269\u001b[0m     retain_graph,\n\u001b[1;32m    270\u001b[0m     create_graph,\n\u001b[1;32m    271\u001b[0m     inputs,\n\u001b[1;32m    272\u001b[0m     allow_unreachable\u001b[38;5;241m=\u001b[39m\u001b[38;5;28;01mTrue\u001b[39;00m,\n\u001b[1;32m    273\u001b[0m     accumulate_grad\u001b[38;5;241m=\u001b[39m\u001b[38;5;28;01mTrue\u001b[39;00m,\n\u001b[1;32m    274\u001b[0m )\n",
      "\u001b[0;31mKeyboardInterrupt\u001b[0m: "
     ]
    }
   ],
   "source": [
    "model = ConvNet().to(device)\n",
    "\n",
    "criterion = nn.CrossEntropyLoss()\n",
    "optimizer = torch.optim.Adam(model.parameters(), lr = 0.001, betas=(0.9, 0.99), eps=1e-6, weight_decay=0.0005)\n",
    "\n",
    "train(model, train_loader, valid_loader, criterion, optimizer, device=device, epochs=50)\n",
    "\n",
    "test_accuracy = evaluate(model, test_loader, device=device)\n",
    "print(f'Test Accuracy: {test_accuracy:.2f}%')"
   ]
  },
  {
   "cell_type": "code",
   "execution_count": null,
   "metadata": {},
   "outputs": [],
   "source": [
    "lstm = LSTMModel()\n",
    "criterion = nn.CrossEntropyLoss()\n",
    "optimizer = torch.optim.Adam(lstm.parameters(), lr = 0.001, betas=(0.9, 0.99), eps=1e-6, weight_decay=0.0005)\n",
    "\n",
    "lstm = lstm.to(device)\n",
    "train(lstm, train_loader, valid_loader, criterion, optimizer, device=device)\n",
    "\n",
    "test_accuracy = evaluate(lstm, test_loader, device=device)\n",
    "print(f'Test Accuracy: {test_accuracy:.2f}%')"
   ]
  },
  {
   "cell_type": "code",
   "execution_count": null,
   "metadata": {},
   "outputs": [],
   "source": [
    "cnn_lstm = CNN_LSTM()\n",
    "criterion = nn.CrossEntropyLoss()\n",
    "optimizer = torch.optim.Adam(cnn_lstm.parameters(), lr = 0.001, betas=(0.9, 0.99), eps=1e-6)\n",
    "\n",
    "cnn_lstm = cnn_lstm.to(device)\n",
    "train(cnn_lstm, train_loader, valid_loader, criterion, optimizer, device=device, epochs=50)\n",
    "\n",
    "test_accuracy = evaluate(cnn_lstm, test_loader, device=device)\n",
    "print(f'Test Accuracy: {test_accuracy:.2f}%')"
   ]
  },
  {
   "cell_type": "code",
   "execution_count": 15,
   "metadata": {},
   "outputs": [
    {
     "name": "stderr",
     "output_type": "stream",
     "text": [
      "  5%|▌         | 10/200 [00:12<03:54,  1.23s/it]"
     ]
    },
    {
     "name": "stdout",
     "output_type": "stream",
     "text": [
      "Epoch [10/200], Loss: 1.1305, Validation Accuracy: 54.61%\n"
     ]
    },
    {
     "name": "stderr",
     "output_type": "stream",
     "text": [
      " 10%|█         | 20/200 [00:24<03:42,  1.23s/it]"
     ]
    },
    {
     "name": "stdout",
     "output_type": "stream",
     "text": [
      "Epoch [20/200], Loss: 0.9625, Validation Accuracy: 59.34%\n"
     ]
    },
    {
     "name": "stderr",
     "output_type": "stream",
     "text": [
      " 15%|█▌        | 30/200 [00:36<03:28,  1.23s/it]"
     ]
    },
    {
     "name": "stdout",
     "output_type": "stream",
     "text": [
      "Epoch [30/200], Loss: 0.8745, Validation Accuracy: 65.01%\n"
     ]
    },
    {
     "name": "stderr",
     "output_type": "stream",
     "text": [
      " 20%|██        | 40/200 [00:48<03:16,  1.23s/it]"
     ]
    },
    {
     "name": "stdout",
     "output_type": "stream",
     "text": [
      "Epoch [40/200], Loss: 0.8137, Validation Accuracy: 66.67%\n"
     ]
    },
    {
     "name": "stderr",
     "output_type": "stream",
     "text": [
      " 25%|██▌       | 50/200 [01:00<03:04,  1.23s/it]"
     ]
    },
    {
     "name": "stdout",
     "output_type": "stream",
     "text": [
      "Epoch [50/200], Loss: 0.7285, Validation Accuracy: 69.27%\n"
     ]
    },
    {
     "name": "stderr",
     "output_type": "stream",
     "text": [
      " 30%|███       | 60/200 [01:12<02:52,  1.23s/it]"
     ]
    },
    {
     "name": "stdout",
     "output_type": "stream",
     "text": [
      "Epoch [60/200], Loss: 0.7321, Validation Accuracy: 70.21%\n"
     ]
    },
    {
     "name": "stderr",
     "output_type": "stream",
     "text": [
      " 35%|███▌      | 70/200 [01:24<02:39,  1.23s/it]"
     ]
    },
    {
     "name": "stdout",
     "output_type": "stream",
     "text": [
      "Epoch [70/200], Loss: 0.6819, Validation Accuracy: 69.27%\n"
     ]
    },
    {
     "name": "stderr",
     "output_type": "stream",
     "text": [
      " 40%|████      | 80/200 [01:36<02:23,  1.20s/it]"
     ]
    },
    {
     "name": "stdout",
     "output_type": "stream",
     "text": [
      "Epoch [80/200], Loss: 0.6336, Validation Accuracy: 67.85%\n"
     ]
    },
    {
     "name": "stderr",
     "output_type": "stream",
     "text": [
      " 45%|████▌     | 90/200 [01:47<02:14,  1.22s/it]"
     ]
    },
    {
     "name": "stdout",
     "output_type": "stream",
     "text": [
      "Epoch [90/200], Loss: 0.6137, Validation Accuracy: 70.21%\n"
     ]
    },
    {
     "name": "stderr",
     "output_type": "stream",
     "text": [
      " 46%|████▌     | 92/200 [01:51<02:10,  1.21s/it]"
     ]
    },
    {
     "name": "stdout",
     "output_type": "stream",
     "text": [
      "Early stopping!\n",
      "Test Accuracy: 69.98%\n"
     ]
    },
    {
     "name": "stderr",
     "output_type": "stream",
     "text": [
      "\n"
     ]
    }
   ],
   "source": [
    "ult_cnn = UltimateConvNet()\n",
    "criterion = nn.CrossEntropyLoss()\n",
    "optimizer = torch.optim.Adam(ult_cnn.parameters(), lr = 0.001, betas=(0.9, 0.99), eps=1e-6, weight_decay=0.0005)\n",
    "\n",
    "ult_cnn = ult_cnn.to(device)\n",
    "train(ult_cnn, train_loader, valid_loader, criterion, optimizer, device=device, epochs=200)\n",
    "\n",
    "test_accuracy = evaluate(ult_cnn, test_loader, device=device)\n",
    "print(f'Test Accuracy: {test_accuracy:.2f}%')"
   ]
  },
  {
   "cell_type": "code",
   "execution_count": null,
   "metadata": {},
   "outputs": [],
   "source": [
    "# utilize ray tune to find best hyperparameters\n",
    "import ray\n",
    "from ray import tune\n",
    "from ray import train as raytrain\n",
    "from ray.tune import CLIReporter\n",
    "from ray.tune.schedulers import ASHAScheduler\n",
    "from src.methods_ray import train_ray_Ultimateconfig\n",
    "\n",
    "config = {\n",
    "    'lr': tune.loguniform(1e-4, 1e-2),\n",
    "    'weight_decay': tune.loguniform(1e-4, 1e-3)\n",
    "}\n",
    "\n",
    "# Initialize Ray Tune\n",
    "ray.shutdown()\n",
    "ray.init()\n",
    "scheduler = ASHAScheduler(metric='loss', mode='min')\n",
    "reporter = CLIReporter(metric_columns=['loss'])\n",
    "\n",
    "# Execute the hyperparameter search\n",
    "analysis = tune.run(\n",
    "    train_ray_Ultimateconfig,\n",
    "    resources_per_trial={'gpu': 1},  # If you want to use GPUs, you can set {'gpu': 1} instead\n",
    "    config=config,\n",
    "    num_samples=100,\n",
    "    scheduler=scheduler,\n",
    "    progress_reporter=reporter\n",
    ")\n",
    "\n",
    "# Get the best hyperparameters\n",
    "best_config = analysis.get_best_config(metric='loss', mode='min')\n",
    "print('Best hyperparameters found are: ', best_config)\n",
    "\n",
    "# get best accuracy using tune config\n"
   ]
  },
  {
   "cell_type": "code",
   "execution_count": null,
   "metadata": {},
   "outputs": [
    {
     "ename": "NameError",
     "evalue": "name 'best_config' is not defined",
     "output_type": "error",
     "traceback": [
      "\u001b[0;31m---------------------------------------------------------------------------\u001b[0m",
      "\u001b[0;31mNameError\u001b[0m                                 Traceback (most recent call last)",
      "Cell \u001b[0;32mIn[8], line 4\u001b[0m\n\u001b[1;32m      2\u001b[0m ult_cnn \u001b[38;5;241m=\u001b[39m UltimateConvNet()\n\u001b[1;32m      3\u001b[0m criterion \u001b[38;5;241m=\u001b[39m nn\u001b[38;5;241m.\u001b[39mCrossEntropyLoss()\n\u001b[0;32m----> 4\u001b[0m optimizer \u001b[38;5;241m=\u001b[39m torch\u001b[38;5;241m.\u001b[39moptim\u001b[38;5;241m.\u001b[39mAdam(ult_cnn\u001b[38;5;241m.\u001b[39mparameters(), lr \u001b[38;5;241m=\u001b[39m best_config[\u001b[38;5;124m'\u001b[39m\u001b[38;5;124mlr\u001b[39m\u001b[38;5;124m'\u001b[39m]\u001b[38;5;241m.\u001b[39mreal, betas\u001b[38;5;241m=\u001b[39m(\u001b[38;5;241m0.9\u001b[39m, \u001b[38;5;241m0.99\u001b[39m), eps\u001b[38;5;241m=\u001b[39m\u001b[38;5;241m1e-6\u001b[39m, weight_decay\u001b[38;5;241m=\u001b[39mbest_config[\u001b[38;5;124m'\u001b[39m\u001b[38;5;124mweight_decay\u001b[39m\u001b[38;5;124m'\u001b[39m]\u001b[38;5;241m.\u001b[39mreal)\n\u001b[1;32m      6\u001b[0m ult_cnn \u001b[38;5;241m=\u001b[39m ult_cnn\u001b[38;5;241m.\u001b[39mto(device)\n\u001b[1;32m      7\u001b[0m train(ult_cnn, train_loader, valid_loader, criterion, optimizer, device\u001b[38;5;241m=\u001b[39mdevice, epochs\u001b[38;5;241m=\u001b[39m\u001b[38;5;241m100\u001b[39m,patience\u001b[38;5;241m=\u001b[39m\u001b[38;5;241m100\u001b[39m)\n",
      "\u001b[0;31mNameError\u001b[0m: name 'best_config' is not defined"
     ]
    }
   ],
   "source": [
    "# run with best hyperparameters\n",
    "ult_cnn = UltimateConvNet()\n",
    "criterion = nn.CrossEntropyLoss()\n",
    "optimizer = torch.optim.Adam(ult_cnn.parameters(), lr = best_config['lr'].real, betas=(0.9, 0.99), eps=1e-6, weight_decay=best_config['weight_decay'].real)\n",
    "\n",
    "ult_cnn = ult_cnn.to(device)\n",
    "train(ult_cnn, train_loader, valid_loader, criterion, optimizer, device=device, epochs=100,patience=100)\n",
    "\n",
    "test_accuracy = evaluate(ult_cnn, test_loader, device=device)\n",
    "print(f'Test Accuracy: {test_accuracy:.2f}%')"
   ]
  },
  {
   "cell_type": "code",
   "execution_count": 17,
   "metadata": {},
   "outputs": [
    {
     "name": "stderr",
     "output_type": "stream",
     "text": [
      "2024-03-08 13:02:29,995\tINFO worker.py:1724 -- Started a local Ray instance.\n",
      "2024-03-08 13:02:31,437\tINFO tune.py:583 -- [output] This uses the legacy output and progress reporter, as Jupyter notebooks are not supported by the new engine, yet. For more information, please see https://github.com/ray-project/ray/issues/36949\n",
      "2024-03-08 13:02:31,445\tWARNING bayesopt_search.py:431 -- BayesOpt does not support specific sampling methods. The LogUniform sampler will be dropped.\n"
     ]
    },
    {
     "name": "stdout",
     "output_type": "stream",
     "text": [
      "== Status ==\n",
      "Current time: 2024-03-08 13:02:31 (running for 00:00:00.11)\n",
      "Using AsyncHyperBand: num_stopped=0\n",
      "Bracket: Iter 64.000: None | Iter 16.000: None | Iter 4.000: None | Iter 1.000: None\n",
      "Logical resource usage: 0/40 CPUs, 0/8 GPUs (0.0/1.0 accelerator_type:G)\n",
      "Result logdir: /home/banyh2000/ray_results/train_ray_Ultimateconfig_2024-03-08_13-02-31\n",
      "Number of trials: 1/20 (1 PENDING)\n",
      "\n",
      "\n",
      "== Status ==\n",
      "Current time: 2024-03-08 13:02:36 (running for 00:00:05.18)\n",
      "Using AsyncHyperBand: num_stopped=0\n",
      "Bracket: Iter 64.000: None | Iter 16.000: None | Iter 4.000: None | Iter 1.000: None\n",
      "Logical resource usage: 0/40 CPUs, 2.0/8 GPUs (0.0/1.0 accelerator_type:G)\n",
      "Result logdir: /home/banyh2000/ray_results/train_ray_Ultimateconfig_2024-03-08_13-02-31\n",
      "Number of trials: 2/20 (1 PENDING, 1 RUNNING)\n",
      "\n",
      "\n"
     ]
    },
    {
     "data": {
      "text/html": [
       "<div class=\"trialProgress\">\n",
       "  <h3>Trial Progress</h3>\n",
       "  <table>\n",
       "<thead>\n",
       "<tr><th>Trial name                       </th><th style=\"text-align: right;\">    loss</th></tr>\n",
       "</thead>\n",
       "<tbody>\n",
       "<tr><td>train_ray_Ultimateconfig_56e043ae</td><td style=\"text-align: right;\">1.32395 </td></tr>\n",
       "<tr><td>train_ray_Ultimateconfig_701ac564</td><td style=\"text-align: right;\">1.35493 </td></tr>\n",
       "<tr><td>train_ray_Ultimateconfig_7a63cdcd</td><td style=\"text-align: right;\">1.33806 </td></tr>\n",
       "<tr><td>train_ray_Ultimateconfig_991f8802</td><td style=\"text-align: right;\">1.3266  </td></tr>\n",
       "<tr><td>train_ray_Ultimateconfig_9aeb2717</td><td style=\"text-align: right;\">0.868023</td></tr>\n",
       "<tr><td>train_ray_Ultimateconfig_af0f3193</td><td style=\"text-align: right;\">1.17982 </td></tr>\n",
       "<tr><td>train_ray_Ultimateconfig_bac622f2</td><td style=\"text-align: right;\">1.32235 </td></tr>\n",
       "<tr><td>train_ray_Ultimateconfig_d94a67fe</td><td style=\"text-align: right;\">0.736599</td></tr>\n",
       "<tr><td>train_ray_Ultimateconfig_e41eba09</td><td style=\"text-align: right;\">1.33737 </td></tr>\n",
       "<tr><td>train_ray_Ultimateconfig_e700eb2c</td><td style=\"text-align: right;\">1.33413 </td></tr>\n",
       "</tbody>\n",
       "</table>\n",
       "</div>\n",
       "<style>\n",
       ".trialProgress {\n",
       "  display: flex;\n",
       "  flex-direction: column;\n",
       "  color: var(--jp-ui-font-color1);\n",
       "}\n",
       ".trialProgress h3 {\n",
       "  font-weight: bold;\n",
       "}\n",
       ".trialProgress td {\n",
       "  white-space: nowrap;\n",
       "}\n",
       "</style>\n"
      ],
      "text/plain": [
       "<IPython.core.display.HTML object>"
      ]
     },
     "metadata": {},
     "output_type": "display_data"
    },
    {
     "name": "stdout",
     "output_type": "stream",
     "text": [
      "== Status ==\n",
      "Current time: 2024-03-08 13:02:41 (running for 00:00:10.18)\n",
      "Using AsyncHyperBand: num_stopped=0\n",
      "Bracket: Iter 64.000: None | Iter 16.000: None | Iter 4.000: -1.2542115618996585 | Iter 1.000: -1.3400849969110873\n",
      "Logical resource usage: 0/40 CPUs, 4.0/8 GPUs (0.0/1.0 accelerator_type:G)\n",
      "Result logdir: /home/banyh2000/ray_results/train_ray_Ultimateconfig_2024-03-08_13-02-31\n",
      "Number of trials: 4/20 (1 PENDING, 3 RUNNING)\n",
      "\n",
      "\n",
      "== Status ==\n",
      "Current time: 2024-03-08 13:02:46 (running for 00:00:15.28)\n",
      "Using AsyncHyperBand: num_stopped=0\n",
      "Bracket: Iter 64.000: None | Iter 16.000: None | Iter 4.000: -1.2320876905681393 | Iter 1.000: -1.3220568923521832\n",
      "Logical resource usage: 0/40 CPUs, 5.0/8 GPUs (0.0/1.0 accelerator_type:G)\n",
      "Result logdir: /home/banyh2000/ray_results/train_ray_Ultimateconfig_2024-03-08_13-02-31\n",
      "Number of trials: 5/20 (1 PENDING, 4 RUNNING)\n",
      "\n",
      "\n"
     ]
    },
    {
     "name": "stderr",
     "output_type": "stream",
     "text": [
      "2024-03-08 13:02:48,312\tINFO bayesopt_search.py:293 -- Skipping duplicated config: {'lr': 0.0016443457513284064}.\n"
     ]
    },
    {
     "name": "stdout",
     "output_type": "stream",
     "text": [
      "== Status ==\n",
      "Current time: 2024-03-08 13:02:51 (running for 00:00:20.32)\n",
      "Using AsyncHyperBand: num_stopped=2\n",
      "Bracket: Iter 64.000: None | Iter 16.000: None | Iter 4.000: -1.2040060765636165 | Iter 1.000: -1.3223484075379428\n",
      "Logical resource usage: 0/40 CPUs, 4.0/8 GPUs (0.0/1.0 accelerator_type:G)\n",
      "Result logdir: /home/banyh2000/ray_results/train_ray_Ultimateconfig_2024-03-08_13-02-31\n",
      "Number of trials: 6/20 (1 PENDING, 3 RUNNING, 2 TERMINATED)\n",
      "\n",
      "\n",
      "== Status ==\n",
      "Current time: 2024-03-08 13:02:56 (running for 00:00:25.33)\n",
      "Using AsyncHyperBand: num_stopped=3\n",
      "Bracket: Iter 64.000: None | Iter 16.000: -1.1680584864131667 | Iter 4.000: -1.2040060765636165 | Iter 1.000: -1.322748314052045\n",
      "Logical resource usage: 0/40 CPUs, 5.0/8 GPUs (0.0/1.0 accelerator_type:G)\n",
      "Result logdir: /home/banyh2000/ray_results/train_ray_Ultimateconfig_2024-03-08_13-02-31\n",
      "Number of trials: 8/20 (1 PENDING, 4 RUNNING, 3 TERMINATED)\n",
      "\n",
      "\n",
      "== Status ==\n",
      "Current time: 2024-03-08 13:03:01 (running for 00:00:30.41)\n",
      "Using AsyncHyperBand: num_stopped=6\n",
      "Bracket: Iter 64.000: None | Iter 16.000: -1.1709995962344726 | Iter 4.000: -1.2040060765636165 | Iter 1.000: -1.32354812708025\n",
      "Logical resource usage: 0/40 CPUs, 3.0/8 GPUs (0.0/1.0 accelerator_type:G)\n",
      "Result logdir: /home/banyh2000/ray_results/train_ray_Ultimateconfig_2024-03-08_13-02-31\n",
      "Number of trials: 9/20 (1 PENDING, 2 RUNNING, 6 TERMINATED)\n",
      "\n",
      "\n",
      "== Status ==\n",
      "Current time: 2024-03-08 13:03:06 (running for 00:00:35.49)\n",
      "Using AsyncHyperBand: num_stopped=7\n",
      "Bracket: Iter 64.000: None | Iter 16.000: -1.095727324415324 | Iter 4.000: -1.2040060765636165 | Iter 1.000: -1.3239480335943523\n",
      "Logical resource usage: 0/40 CPUs, 3.0/8 GPUs (0.0/1.0 accelerator_type:G)\n",
      "Result logdir: /home/banyh2000/ray_results/train_ray_Ultimateconfig_2024-03-08_13-02-31\n",
      "Number of trials: 10/20 (3 RUNNING, 7 TERMINATED)\n",
      "\n",
      "\n"
     ]
    },
    {
     "name": "stderr",
     "output_type": "stream",
     "text": [
      "2024-03-08 13:03:09,030\tINFO bayesopt_search.py:293 -- Skipping duplicated config: {'lr': 0.00969888781486913}.\n"
     ]
    },
    {
     "name": "stdout",
     "output_type": "stream",
     "text": [
      "== Status ==\n",
      "Current time: 2024-03-08 13:03:12 (running for 00:00:40.56)\n",
      "Using AsyncHyperBand: num_stopped=8\n",
      "Bracket: Iter 64.000: None | Iter 16.000: -1.095727324415324 | Iter 4.000: -1.2040060765636165 | Iter 1.000: -1.3246102166795843\n",
      "Logical resource usage: 0/40 CPUs, 2.0/8 GPUs (0.0/1.0 accelerator_type:G)\n",
      "Result logdir: /home/banyh2000/ray_results/train_ray_Ultimateconfig_2024-03-08_13-02-31\n",
      "Number of trials: 10/20 (2 RUNNING, 8 TERMINATED)\n",
      "\n",
      "\n"
     ]
    },
    {
     "name": "stderr",
     "output_type": "stream",
     "text": [
      "2024-03-08 13:03:12,307\tINFO bayesopt_search.py:293 -- Skipping duplicated config: {'lr': 0.003319314888064796}.\n",
      "2024-03-08 13:03:12,408\tINFO bayesopt_search.py:293 -- Skipping duplicated config: {'lr': 0.007323101165546835}.\n",
      "2024-03-08 13:03:14,932\tINFO bayesopt_search.py:293 -- Skipping duplicated config: {'lr': 0.008100391757687729}.\n",
      "2024-03-08 13:03:16,000\tINFO bayesopt_search.py:293 -- Skipping duplicated config: {'lr': 0.004328367107399938}.\n"
     ]
    },
    {
     "name": "stdout",
     "output_type": "stream",
     "text": [
      "== Status ==\n",
      "Current time: 2024-03-08 13:03:17 (running for 00:00:45.62)\n",
      "Using AsyncHyperBand: num_stopped=8\n",
      "Bracket: Iter 64.000: None | Iter 16.000: -1.095727324415324 | Iter 4.000: -1.2040060765636165 | Iter 1.000: -1.3246102166795843\n",
      "Logical resource usage: 0/40 CPUs, 2.0/8 GPUs (0.0/1.0 accelerator_type:G)\n",
      "Result logdir: /home/banyh2000/ray_results/train_ray_Ultimateconfig_2024-03-08_13-02-31\n",
      "Number of trials: 10/20 (2 RUNNING, 8 TERMINATED)\n",
      "\n",
      "\n"
     ]
    },
    {
     "name": "stderr",
     "output_type": "stream",
     "text": [
      "2024-03-08 13:03:19,493\tINFO bayesopt_search.py:293 -- Skipping duplicated config: {'lr': 0.006371944136532858}.\n",
      "2024-03-08 13:03:19,949\tINFO bayesopt_search.py:293 -- Skipping duplicated config: {'lr': 0.0019465332529585572}.\n"
     ]
    },
    {
     "name": "stdout",
     "output_type": "stream",
     "text": [
      "== Status ==\n",
      "Current time: 2024-03-08 13:03:22 (running for 00:00:50.69)\n",
      "Using AsyncHyperBand: num_stopped=8\n",
      "Bracket: Iter 64.000: None | Iter 16.000: -1.095727324415324 | Iter 4.000: -1.2040060765636165 | Iter 1.000: -1.3246102166795843\n",
      "Logical resource usage: 0/40 CPUs, 2.0/8 GPUs (0.0/1.0 accelerator_type:G)\n",
      "Result logdir: /home/banyh2000/ray_results/train_ray_Ultimateconfig_2024-03-08_13-02-31\n",
      "Number of trials: 10/20 (2 RUNNING, 8 TERMINATED)\n",
      "\n",
      "\n"
     ]
    },
    {
     "name": "stderr",
     "output_type": "stream",
     "text": [
      "2024-03-08 13:03:22,388\tINFO bayesopt_search.py:293 -- Skipping duplicated config: {'lr': 0.006367704427005353}.\n",
      "2024-03-08 13:03:22,791\tINFO bayesopt_search.py:293 -- Skipping duplicated config: {'lr': 0.008981391573530513}.\n",
      "2024-03-08 13:03:22,892\tINFO bayesopt_search.py:293 -- Skipping duplicated config: {'lr': 0.00888215560022466}.\n",
      "2024-03-08 13:03:23,295\tINFO bayesopt_search.py:293 -- Skipping duplicated config: {'lr': 0.0017001242695366765}.\n",
      "2024-03-08 13:03:23,758\tINFO bayesopt_search.py:293 -- Skipping duplicated config: {'lr': 0.000150109680077565}.\n",
      "2024-03-08 13:03:24,462\tINFO bayesopt_search.py:293 -- Skipping duplicated config: {'lr': 0.0024487659662183205}.\n",
      "2024-03-08 13:03:24,514\tINFO bayesopt_search.py:293 -- Skipping duplicated config: {'lr': 0.0033214570117767505}.\n",
      "2024-03-08 13:03:25,125\tINFO bayesopt_search.py:293 -- Skipping duplicated config: {'lr': 0.003740386450288392}.\n",
      "2024-03-08 13:03:25,813\tINFO bayesopt_search.py:293 -- Skipping duplicated config: {'lr': 0.005076107221741403}.\n",
      "2024-03-08 13:03:26,317\tINFO bayesopt_search.py:293 -- Skipping duplicated config: {'lr': 0.0028796463881644724}.\n",
      "2024-03-08 13:03:26,518\tINFO bayesopt_search.py:293 -- Skipping duplicated config: {'lr': 0.0064901757294809626}.\n"
     ]
    },
    {
     "name": "stdout",
     "output_type": "stream",
     "text": [
      "== Status ==\n",
      "Current time: 2024-03-08 13:03:27 (running for 00:00:55.73)\n",
      "Using AsyncHyperBand: num_stopped=8\n",
      "Bracket: Iter 64.000: None | Iter 16.000: -1.095727324415324 | Iter 4.000: -1.2040060765636165 | Iter 1.000: -1.3246102166795843\n",
      "Logical resource usage: 0/40 CPUs, 2.0/8 GPUs (0.0/1.0 accelerator_type:G)\n",
      "Result logdir: /home/banyh2000/ray_results/train_ray_Ultimateconfig_2024-03-08_13-02-31\n",
      "Number of trials: 10/20 (2 RUNNING, 8 TERMINATED)\n",
      "\n",
      "\n"
     ]
    },
    {
     "name": "stderr",
     "output_type": "stream",
     "text": [
      "2024-03-08 13:03:28,142\tINFO bayesopt_search.py:293 -- Skipping duplicated config: {'lr': 0.009367932264191732}.\n",
      "2024-03-08 13:03:28,947\tINFO bayesopt_search.py:293 -- Skipping duplicated config: {'lr': 0.00878599341208676}.\n",
      "2024-03-08 13:03:29,611\tINFO bayesopt_search.py:293 -- Skipping duplicated config: {'lr': 0.008684015953943027}.\n",
      "2024-03-08 13:03:29,812\tINFO bayesopt_search.py:293 -- Skipping duplicated config: {'lr': 0.005162289748723285}.\n",
      "2024-03-08 13:03:30,114\tINFO bayesopt_search.py:293 -- Skipping duplicated config: {'lr': 0.006534642914699876}.\n",
      "2024-03-08 13:03:30,215\tINFO bayesopt_search.py:293 -- Skipping duplicated config: {'lr': 0.007049472084851264}.\n",
      "2024-03-08 13:03:30,576\tINFO bayesopt_search.py:293 -- Skipping duplicated config: {'lr': 0.0010304212044246032}.\n",
      "2024-03-08 13:03:30,979\tINFO bayesopt_search.py:293 -- Skipping duplicated config: {'lr': 0.005472181883605009}.\n",
      "2024-03-08 13:03:31,180\tINFO bayesopt_search.py:293 -- Skipping duplicated config: {'lr': 0.005949249279633207}.\n",
      "2024-03-08 13:03:31,382\tINFO bayesopt_search.py:293 -- Skipping duplicated config: {'lr': 0.00046974706861722276}.\n",
      "2024-03-08 13:03:31,978\tINFO bayesopt_search.py:293 -- Skipping duplicated config: {'lr': 0.006266615710608103}.\n",
      "2024-03-08 13:03:32,180\tINFO bayesopt_search.py:293 -- Skipping duplicated config: {'lr': 0.0006116490395692163}.\n"
     ]
    },
    {
     "name": "stdout",
     "output_type": "stream",
     "text": [
      "== Status ==\n",
      "Current time: 2024-03-08 13:03:32 (running for 00:01:00.73)\n",
      "Using AsyncHyperBand: num_stopped=8\n",
      "Bracket: Iter 64.000: None | Iter 16.000: -1.095727324415324 | Iter 4.000: -1.2040060765636165 | Iter 1.000: -1.3246102166795843\n",
      "Logical resource usage: 0/40 CPUs, 2.0/8 GPUs (0.0/1.0 accelerator_type:G)\n",
      "Result logdir: /home/banyh2000/ray_results/train_ray_Ultimateconfig_2024-03-08_13-02-31\n",
      "Number of trials: 10/20 (2 RUNNING, 8 TERMINATED)\n",
      "\n",
      "\n"
     ]
    },
    {
     "name": "stderr",
     "output_type": "stream",
     "text": [
      "2024-03-08 13:03:32,483\tINFO bayesopt_search.py:293 -- Skipping duplicated config: {'lr': 0.006410556024832246}.\n",
      "2024-03-08 13:03:32,584\tINFO bayesopt_search.py:293 -- Skipping duplicated config: {'lr': 0.00728830420385435}.\n",
      "2024-03-08 13:03:32,812\tINFO bayesopt_search.py:293 -- Skipping duplicated config: {'lr': 0.003297269082118335}.\n",
      "2024-03-08 13:03:32,861\tINFO bayesopt_search.py:293 -- Skipping duplicated config: {'lr': 0.007972343328210167}.\n",
      "2024-03-08 13:03:33,264\tINFO bayesopt_search.py:293 -- Skipping duplicated config: {'lr': 0.0003509723598130294}.\n",
      "2024-03-08 13:03:33,365\tINFO bayesopt_search.py:293 -- Skipping duplicated config: {'lr': 0.009630219305311459}.\n",
      "2024-03-08 13:03:33,566\tINFO bayesopt_search.py:293 -- Skipping duplicated config: {'lr': 0.006990144640327611}.\n",
      "2024-03-08 13:03:34,654\tINFO bayesopt_search.py:293 -- Skipping duplicated config: {'lr': 0.006156035387720088}.\n",
      "2024-03-08 13:03:35,243\tINFO bayesopt_search.py:293 -- Skipping duplicated config: {'lr': 0.001249119141018471}.\n",
      "2024-03-08 13:03:35,344\tINFO bayesopt_search.py:293 -- Skipping duplicated config: {'lr': 0.0005554261560153523}.\n",
      "2024-03-08 13:03:35,445\tINFO bayesopt_search.py:293 -- Skipping duplicated config: {'lr': 0.0005032151429578044}.\n",
      "2024-03-08 13:03:35,848\tINFO bayesopt_search.py:293 -- Skipping duplicated config: {'lr': 0.0010685581904449147}.\n",
      "2024-03-08 13:03:36,050\tINFO bayesopt_search.py:293 -- Skipping duplicated config: {'lr': 0.004787370530727601}.\n",
      "2024-03-08 13:03:36,540\tINFO bayesopt_search.py:293 -- Skipping duplicated config: {'lr': 0.0005485096967432408}.\n",
      "2024-03-08 13:03:36,641\tINFO bayesopt_search.py:293 -- Skipping duplicated config: {'lr': 0.003808664884802065}.\n",
      "2024-03-08 13:03:36,843\tINFO bayesopt_search.py:293 -- Skipping duplicated config: {'lr': 0.005081048959942869}.\n",
      "2024-03-08 13:03:37,347\tINFO bayesopt_search.py:293 -- Skipping duplicated config: {'lr': 0.006459950854242526}.\n"
     ]
    },
    {
     "name": "stdout",
     "output_type": "stream",
     "text": [
      "== Status ==\n",
      "Current time: 2024-03-08 13:03:37 (running for 00:01:05.80)\n",
      "Using AsyncHyperBand: num_stopped=8\n",
      "Bracket: Iter 64.000: None | Iter 16.000: -1.095727324415324 | Iter 4.000: -1.2040060765636165 | Iter 1.000: -1.3246102166795843\n",
      "Logical resource usage: 0/40 CPUs, 2.0/8 GPUs (0.0/1.0 accelerator_type:G)\n",
      "Result logdir: /home/banyh2000/ray_results/train_ray_Ultimateconfig_2024-03-08_13-02-31\n",
      "Number of trials: 10/20 (2 RUNNING, 8 TERMINATED)\n",
      "\n",
      "\n"
     ]
    },
    {
     "name": "stderr",
     "output_type": "stream",
     "text": [
      "2024-03-08 13:03:37,589\tINFO bayesopt_search.py:293 -- Skipping duplicated config: {'lr': 0.00940827939010708}.\n",
      "2024-03-08 13:03:38,541\tINFO bayesopt_search.py:293 -- Skipping duplicated config: {'lr': 0.002038332234414035}.\n",
      "2024-03-08 13:03:38,655\tINFO bayesopt_search.py:293 -- Skipping duplicated config: {'lr': 0.001097702213636524}.\n",
      "2024-03-08 13:03:38,832\tINFO bayesopt_search.py:293 -- Skipping duplicated config: {'lr': 0.0010349853114836913}.\n",
      "2024-03-08 13:03:39,034\tINFO bayesopt_search.py:293 -- Skipping duplicated config: {'lr': 0.0008047676197562671}.\n",
      "2024-03-08 13:03:39,738\tINFO bayesopt_search.py:293 -- Skipping duplicated config: {'lr': 0.006997697937105092}.\n",
      "2024-03-08 13:03:39,924\tINFO bayesopt_search.py:293 -- Skipping duplicated config: {'lr': 0.008786972933917824}.\n",
      "2024-03-08 13:03:40,131\tINFO bayesopt_search.py:293 -- Skipping duplicated config: {'lr': 0.0028921422684559345}.\n",
      "2024-03-08 13:03:40,433\tINFO bayesopt_search.py:293 -- Skipping duplicated config: {'lr': 0.008087663918745915}.\n",
      "2024-03-08 13:03:41,231\tINFO bayesopt_search.py:293 -- Skipping duplicated config: {'lr': 0.007533623571135825}.\n",
      "2024-03-08 13:03:41,940\tINFO bayesopt_search.py:293 -- Skipping duplicated config: {'lr': 0.008965679962112385}.\n",
      "2024-03-08 13:03:42,041\tINFO bayesopt_search.py:293 -- Skipping duplicated config: {'lr': 0.003953096619468215}.\n",
      "2024-03-08 13:03:42,232\tINFO bayesopt_search.py:293 -- Skipping duplicated config: {'lr': 0.00906328156655071}.\n",
      "2024-03-08 13:03:42,423\tINFO bayesopt_search.py:293 -- Skipping duplicated config: {'lr': 0.003261205012145107}.\n",
      "2024-03-08 13:03:42,525\tINFO bayesopt_search.py:293 -- Skipping duplicated config: {'lr': 0.009505613473802969}.\n"
     ]
    },
    {
     "name": "stdout",
     "output_type": "stream",
     "text": [
      "== Status ==\n",
      "Current time: 2024-03-08 13:03:42 (running for 00:01:10.89)\n",
      "Using AsyncHyperBand: num_stopped=8\n",
      "Bracket: Iter 64.000: None | Iter 16.000: -1.095727324415324 | Iter 4.000: -1.2040060765636165 | Iter 1.000: -1.3246102166795843\n",
      "Logical resource usage: 0/40 CPUs, 2.0/8 GPUs (0.0/1.0 accelerator_type:G)\n",
      "Result logdir: /home/banyh2000/ray_results/train_ray_Ultimateconfig_2024-03-08_13-02-31\n",
      "Number of trials: 10/20 (2 RUNNING, 8 TERMINATED)\n",
      "\n",
      "\n"
     ]
    },
    {
     "name": "stderr",
     "output_type": "stream",
     "text": [
      "2024-03-08 13:03:42,626\tINFO bayesopt_search.py:293 -- Skipping duplicated config: {'lr': 0.009511010754681805}.\n",
      "2024-03-08 13:03:42,828\tINFO bayesopt_search.py:293 -- Skipping duplicated config: {'lr': 0.006355188400481013}.\n",
      "2024-03-08 13:03:43,606\tINFO bayesopt_search.py:293 -- Skipping duplicated config: {'lr': 0.0010029404201820347}.\n",
      "2024-03-08 13:03:43,707\tINFO bayesopt_search.py:293 -- Skipping duplicated config: {'lr': 0.004994761016555558}.\n",
      "2024-03-08 13:03:43,909\tINFO bayesopt_search.py:293 -- Skipping duplicated config: {'lr': 0.005540335935004983}.\n",
      "2024-03-08 13:03:44,513\tINFO bayesopt_search.py:293 -- Skipping duplicated config: {'lr': 0.007638955254002976}.\n",
      "2024-03-08 13:03:44,678\tINFO bayesopt_search.py:293 -- Skipping duplicated config: {'lr': 0.0011011144936156235}.\n",
      "2024-03-08 13:03:44,779\tINFO bayesopt_search.py:293 -- Skipping duplicated config: {'lr': 0.0009326573805384747}.\n",
      "2024-03-08 13:03:44,986\tINFO bayesopt_search.py:293 -- Skipping duplicated config: {'lr': 0.008236414586974527}.\n",
      "2024-03-08 13:03:45,289\tINFO bayesopt_search.py:293 -- Skipping duplicated config: {'lr': 0.0009398933694434}.\n",
      "2024-03-08 13:03:45,390\tINFO bayesopt_search.py:293 -- Skipping duplicated config: {'lr': 0.009867731827161637}.\n",
      "2024-03-08 13:03:45,491\tINFO bayesopt_search.py:293 -- Skipping duplicated config: {'lr': 0.003805280877985591}.\n",
      "2024-03-08 13:03:45,849\tINFO bayesopt_search.py:293 -- Skipping duplicated config: {'lr': 0.009861410531846422}.\n",
      "2024-03-08 13:03:45,965\tINFO bayesopt_search.py:293 -- Skipping duplicated config: {'lr': 0.0038249698967560662}.\n",
      "2024-03-08 13:03:46,066\tINFO bayesopt_search.py:293 -- Skipping duplicated config: {'lr': 0.0009266570953168208}.\n",
      "2024-03-08 13:03:46,167\tINFO bayesopt_search.py:293 -- Skipping duplicated config: {'lr': 0.007793754467681625}.\n",
      "2024-03-08 13:03:46,670\tINFO bayesopt_search.py:293 -- Skipping duplicated config: {'lr': 0.0049769885324795066}.\n",
      "2024-03-08 13:03:46,771\tINFO bayesopt_search.py:293 -- Skipping duplicated config: {'lr': 0.0002124010831974488}.\n",
      "2024-03-08 13:03:47,029\tINFO bayesopt_search.py:293 -- Skipping duplicated config: {'lr': 0.0012762973710539122}.\n",
      "2024-03-08 13:03:47,130\tINFO bayesopt_search.py:293 -- Skipping duplicated config: {'lr': 0.0012635098430933385}.\n",
      "2024-03-08 13:03:47,146\tINFO bayesopt_search.py:293 -- Skipping duplicated config: {'lr': 0.00652718199094903}.\n",
      "2024-03-08 13:03:47,247\tINFO bayesopt_search.py:293 -- Skipping duplicated config: {'lr': 0.007485844304727691}.\n",
      "2024-03-08 13:03:47,450\tINFO bayesopt_search.py:293 -- Skipping duplicated config: {'lr': 0.009625508229897965}.\n"
     ]
    },
    {
     "name": "stdout",
     "output_type": "stream",
     "text": [
      "== Status ==\n",
      "Current time: 2024-03-08 13:03:47 (running for 00:01:15.90)\n",
      "Using AsyncHyperBand: num_stopped=8\n",
      "Bracket: Iter 64.000: None | Iter 16.000: -1.095727324415324 | Iter 4.000: -1.2040060765636165 | Iter 1.000: -1.3246102166795843\n",
      "Logical resource usage: 0/40 CPUs, 2.0/8 GPUs (0.0/1.0 accelerator_type:G)\n",
      "Result logdir: /home/banyh2000/ray_results/train_ray_Ultimateconfig_2024-03-08_13-02-31\n",
      "Number of trials: 10/20 (2 RUNNING, 8 TERMINATED)\n",
      "\n",
      "\n"
     ]
    },
    {
     "name": "stderr",
     "output_type": "stream",
     "text": [
      "2024-03-08 13:03:47,551\tINFO bayesopt_search.py:293 -- Skipping duplicated config: {'lr': 0.0038112187372846703}.\n",
      "2024-03-08 13:03:47,954\tINFO bayesopt_search.py:293 -- Skipping duplicated config: {'lr': 0.009635903140462053}.\n",
      "2024-03-08 13:03:48,108\tINFO bayesopt_search.py:293 -- Skipping duplicated config: {'lr': 0.009701800384405627}.\n",
      "2024-03-08 13:03:48,527\tINFO bayesopt_search.py:293 -- Skipping duplicated config: {'lr': 0.0008305859908804489}.\n",
      "2024-03-08 13:03:48,728\tINFO bayesopt_search.py:293 -- Skipping duplicated config: {'lr': 0.00969609510262908}.\n",
      "2024-03-08 13:03:48,829\tINFO bayesopt_search.py:293 -- Skipping duplicated config: {'lr': 0.005278668657284474}.\n",
      "2024-03-08 13:03:48,931\tINFO bayesopt_search.py:293 -- Skipping duplicated config: {'lr': 0.0063310465175391}.\n",
      "2024-03-08 13:03:49,031\tINFO bayesopt_search.py:293 -- Skipping duplicated config: {'lr': 0.006987912020947711}.\n",
      "2024-03-08 13:03:49,288\tINFO bayesopt_search.py:293 -- Skipping duplicated config: {'lr': 0.005884711688038693}.\n",
      "2024-03-08 13:03:49,490\tINFO bayesopt_search.py:293 -- Skipping duplicated config: {'lr': 0.0005499191653804329}.\n",
      "2024-03-08 13:03:49,506\tINFO bayesopt_search.py:293 -- Skipping duplicated config: {'lr': 0.0028815355769630803}.\n",
      "2024-03-08 13:03:49,607\tINFO bayesopt_search.py:293 -- Skipping duplicated config: {'lr': 0.009509073692357931}.\n",
      "2024-03-08 13:03:49,708\tINFO bayesopt_search.py:293 -- Skipping duplicated config: {'lr': 0.008913611460520072}.\n",
      "2024-03-08 13:03:50,412\tINFO bayesopt_search.py:293 -- Skipping duplicated config: {'lr': 0.005878195507323635}.\n",
      "2024-03-08 13:03:50,665\tINFO bayesopt_search.py:293 -- Skipping duplicated config: {'lr': 0.00986348637034807}.\n",
      "2024-03-08 13:03:50,987\tINFO bayesopt_search.py:293 -- Skipping duplicated config: {'lr': 0.008156570695098791}.\n",
      "2024-03-08 13:03:51,189\tINFO bayesopt_search.py:293 -- Skipping duplicated config: {'lr': 0.0017099076995144241}.\n",
      "2024-03-08 13:03:51,390\tINFO bayesopt_search.py:293 -- Skipping duplicated config: {'lr': 0.008243118704939373}.\n",
      "2024-03-08 13:03:51,969\tINFO bayesopt_search.py:293 -- Skipping duplicated config: {'lr': 0.0005476648340512752}.\n",
      "2024-03-08 13:03:52,070\tINFO bayesopt_search.py:293 -- Skipping duplicated config: {'lr': 0.00036103304752279486}.\n",
      "2024-03-08 13:03:52,272\tINFO bayesopt_search.py:293 -- Skipping duplicated config: {'lr': 0.008124477974740146}.\n",
      "2024-03-08 13:03:52,374\tINFO bayesopt_search.py:293 -- Skipping duplicated config: {'lr': 0.00987403368021795}.\n"
     ]
    },
    {
     "name": "stdout",
     "output_type": "stream",
     "text": [
      "== Status ==\n",
      "Current time: 2024-03-08 13:03:52 (running for 00:01:20.93)\n",
      "Using AsyncHyperBand: num_stopped=8\n",
      "Bracket: Iter 64.000: None | Iter 16.000: -1.095727324415324 | Iter 4.000: -1.2040060765636165 | Iter 1.000: -1.3246102166795843\n",
      "Logical resource usage: 0/40 CPUs, 2.0/8 GPUs (0.0/1.0 accelerator_type:G)\n",
      "Result logdir: /home/banyh2000/ray_results/train_ray_Ultimateconfig_2024-03-08_13-02-31\n",
      "Number of trials: 10/20 (2 RUNNING, 8 TERMINATED)\n",
      "\n",
      "\n"
     ]
    },
    {
     "name": "stderr",
     "output_type": "stream",
     "text": [
      "2024-03-08 13:03:52,777\tINFO bayesopt_search.py:293 -- Skipping duplicated config: {'lr': 0.009702152538364572}.\n",
      "2024-03-08 13:03:53,018\tINFO bayesopt_search.py:293 -- Skipping duplicated config: {'lr': 0.0047400622819702065}.\n",
      "2024-03-08 13:03:53,248\tINFO bayesopt_search.py:293 -- Skipping duplicated config: {'lr': 0.0006581174168441785}.\n",
      "2024-03-08 13:03:53,450\tINFO bayesopt_search.py:293 -- Skipping duplicated config: {'lr': 0.008147719990387768}.\n",
      "2024-03-08 13:03:53,752\tINFO bayesopt_search.py:293 -- Skipping duplicated config: {'lr': 0.005598773885466013}.\n",
      "2024-03-08 13:03:54,004\tINFO bayesopt_search.py:293 -- Skipping duplicated config: {'lr': 0.008511509167706374}.\n",
      "2024-03-08 13:03:54,105\tINFO bayesopt_search.py:293 -- Skipping duplicated config: {'lr': 0.002548746207257657}.\n",
      "2024-03-08 13:03:54,327\tINFO bayesopt_search.py:293 -- Skipping duplicated config: {'lr': 0.009545105169861352}.\n",
      "2024-03-08 13:03:54,428\tINFO bayesopt_search.py:293 -- Skipping duplicated config: {'lr': 0.006101128881063713}.\n",
      "2024-03-08 13:03:54,529\tINFO bayesopt_search.py:293 -- Skipping duplicated config: {'lr': 0.002363563774484281}.\n",
      "2024-03-08 13:03:54,630\tINFO bayesopt_search.py:293 -- Skipping duplicated config: {'lr': 0.0067498367756179825}.\n",
      "2024-03-08 13:03:54,731\tINFO bayesopt_search.py:293 -- Skipping duplicated config: {'lr': 0.006219469580533169}.\n",
      "2024-03-08 13:03:54,832\tINFO bayesopt_search.py:293 -- Skipping duplicated config: {'lr': 0.003645810908525121}.\n",
      "2024-03-08 13:03:54,933\tINFO bayesopt_search.py:293 -- Skipping duplicated config: {'lr': 0.0012242201627763274}.\n",
      "2024-03-08 13:03:55,034\tINFO bayesopt_search.py:293 -- Skipping duplicated config: {'lr': 0.006748574636368717}.\n",
      "2024-03-08 13:03:55,135\tINFO bayesopt_search.py:293 -- Skipping duplicated config: {'lr': 0.005251046238947554}.\n",
      "2024-03-08 13:03:55,181\tINFO bayesopt_search.py:293 -- Skipping duplicated config: {'lr': 0.00774595207818283}.\n",
      "2024-03-08 13:03:55,283\tINFO bayesopt_search.py:293 -- Skipping duplicated config: {'lr': 0.005249618661008735}.\n",
      "2024-03-08 13:03:55,384\tINFO bayesopt_search.py:293 -- Skipping duplicated config: {'lr': 0.008536596853153547}.\n",
      "2024-03-08 13:03:56,009\tINFO bayesopt_search.py:293 -- Skipping duplicated config: {'lr': 0.007575858831168829}.\n",
      "2024-03-08 13:03:56,110\tINFO bayesopt_search.py:293 -- Skipping duplicated config: {'lr': 0.006241064558399301}.\n",
      "2024-03-08 13:03:56,211\tINFO bayesopt_search.py:293 -- Skipping duplicated config: {'lr': 0.007070389704182314}.\n",
      "2024-03-08 13:03:56,456\tINFO bayesopt_search.py:293 -- Skipping duplicated config: {'lr': 0.0002439921901120311}.\n",
      "2024-03-08 13:03:56,558\tINFO bayesopt_search.py:293 -- Skipping duplicated config: {'lr': 0.0035708168321853103}.\n",
      "2024-03-08 13:03:57,087\tINFO bayesopt_search.py:293 -- Skipping duplicated config: {'lr': 0.005188495942682127}.\n",
      "2024-03-08 13:03:57,491\tINFO bayesopt_search.py:293 -- Skipping duplicated config: {'lr': 0.008637400716592778}.\n",
      "2024-03-08 13:03:57,526\tINFO bayesopt_search.py:293 -- Skipping duplicated config: {'lr': 0.009500254174210658}.\n"
     ]
    },
    {
     "name": "stdout",
     "output_type": "stream",
     "text": [
      "== Status ==\n",
      "Current time: 2024-03-08 13:03:57 (running for 00:01:25.94)\n",
      "Using AsyncHyperBand: num_stopped=8\n",
      "Bracket: Iter 64.000: -0.945634792037044 | Iter 16.000: -1.095727324415324 | Iter 4.000: -1.2040060765636165 | Iter 1.000: -1.3246102166795843\n",
      "Logical resource usage: 0/40 CPUs, 2.0/8 GPUs (0.0/1.0 accelerator_type:G)\n",
      "Result logdir: /home/banyh2000/ray_results/train_ray_Ultimateconfig_2024-03-08_13-02-31\n",
      "Number of trials: 10/20 (2 RUNNING, 8 TERMINATED)\n",
      "\n",
      "\n"
     ]
    },
    {
     "name": "stderr",
     "output_type": "stream",
     "text": [
      "2024-03-08 13:03:57,763\tINFO bayesopt_search.py:293 -- Skipping duplicated config: {'lr': 0.004971951301487428}.\n",
      "2024-03-08 13:03:57,864\tINFO bayesopt_search.py:293 -- Skipping duplicated config: {'lr': 0.0026566194441596876}.\n",
      "2024-03-08 13:03:58,167\tINFO bayesopt_search.py:293 -- Skipping duplicated config: {'lr': 0.00497691913052941}.\n",
      "2024-03-08 13:03:58,268\tINFO bayesopt_search.py:293 -- Skipping duplicated config: {'lr': 0.0033546409418463313}.\n",
      "2024-03-08 13:03:58,369\tINFO bayesopt_search.py:293 -- Skipping duplicated config: {'lr': 0.006370668457735586}.\n",
      "2024-03-08 13:03:58,671\tINFO bayesopt_search.py:293 -- Skipping duplicated config: {'lr': 0.0013759092469154276}.\n",
      "2024-03-08 13:03:59,038\tINFO bayesopt_search.py:293 -- Skipping duplicated config: {'lr': 0.0019006128355515339}.\n",
      "2024-03-08 13:03:59,240\tINFO bayesopt_search.py:293 -- Skipping duplicated config: {'lr': 0.008978205258069517}.\n",
      "2024-03-08 13:03:59,341\tINFO bayesopt_search.py:293 -- Skipping duplicated config: {'lr': 0.004792220238602437}.\n",
      "2024-03-08 13:03:59,542\tINFO bayesopt_search.py:293 -- Skipping duplicated config: {'lr': 0.0018059667248961355}.\n",
      "2024-03-08 13:03:59,744\tINFO bayesopt_search.py:293 -- Skipping duplicated config: {'lr': 0.0005045993010381408}.\n",
      "2024-03-08 13:03:59,862\tINFO bayesopt_search.py:293 -- Skipping duplicated config: {'lr': 0.0028580443564163904}.\n",
      "2024-03-08 13:03:59,963\tINFO bayesopt_search.py:293 -- Skipping duplicated config: {'lr': 0.0018524037943397937}.\n",
      "2024-03-08 13:04:00,064\tINFO bayesopt_search.py:293 -- Skipping duplicated config: {'lr': 0.0009781550841948506}.\n",
      "2024-03-08 13:04:00,119\tINFO bayesopt_search.py:293 -- Skipping duplicated config: {'lr': 0.0012942951238959482}.\n",
      "2024-03-08 13:04:00,521\tINFO bayesopt_search.py:293 -- Skipping duplicated config: {'lr': 0.005083830981463084}.\n",
      "2024-03-08 13:04:01,024\tINFO bayesopt_search.py:293 -- Skipping duplicated config: {'lr': 0.000909414416293832}.\n",
      "2024-03-08 13:04:01,599\tINFO bayesopt_search.py:293 -- Skipping duplicated config: {'lr': 0.0019267580916281356}.\n",
      "2024-03-08 13:04:01,800\tINFO bayesopt_search.py:293 -- Skipping duplicated config: {'lr': 0.0037676738176346818}.\n",
      "2024-03-08 13:04:02,007\tINFO bayesopt_search.py:293 -- Skipping duplicated config: {'lr': 0.006220722238149931}.\n",
      "2024-03-08 13:04:02,402\tINFO bayesopt_search.py:293 -- Skipping duplicated config: {'lr': 0.0004631637086169192}.\n",
      "2024-03-08 13:04:02,572\tINFO bayesopt_search.py:293 -- Skipping duplicated config: {'lr': 0.00716216090025707}.\n"
     ]
    },
    {
     "name": "stdout",
     "output_type": "stream",
     "text": [
      "== Status ==\n",
      "Current time: 2024-03-08 13:04:02 (running for 00:01:30.95)\n",
      "Using AsyncHyperBand: num_stopped=8\n",
      "Bracket: Iter 64.000: -0.8256242992818779 | Iter 16.000: -1.095727324415324 | Iter 4.000: -1.2040060765636165 | Iter 1.000: -1.3246102166795843\n",
      "Logical resource usage: 0/40 CPUs, 2.0/8 GPUs (0.0/1.0 accelerator_type:G)\n",
      "Result logdir: /home/banyh2000/ray_results/train_ray_Ultimateconfig_2024-03-08_13-02-31\n",
      "Number of trials: 10/20 (2 RUNNING, 8 TERMINATED)\n",
      "\n",
      "\n"
     ]
    },
    {
     "name": "stderr",
     "output_type": "stream",
     "text": [
      "2024-03-08 13:04:02,674\tINFO bayesopt_search.py:293 -- Skipping duplicated config: {'lr': 0.008962547693103274}.\n",
      "2024-03-08 13:04:02,775\tINFO bayesopt_search.py:293 -- Skipping duplicated config: {'lr': 0.005165606676945095}.\n",
      "2024-03-08 13:04:03,177\tINFO bayesopt_search.py:293 -- Skipping duplicated config: {'lr': 0.00537291093790473}.\n",
      "2024-03-08 13:04:03,278\tINFO bayesopt_search.py:293 -- Skipping duplicated config: {'lr': 0.002500457985983824}.\n",
      "2024-03-08 13:04:03,571\tINFO bayesopt_search.py:293 -- Skipping duplicated config: {'lr': 0.00029870485799949107}.\n",
      "2024-03-08 13:04:03,949\tINFO bayesopt_search.py:293 -- Skipping duplicated config: {'lr': 0.0012856451050105872}.\n",
      "2024-03-08 13:04:04,050\tINFO bayesopt_search.py:293 -- Skipping duplicated config: {'lr': 0.00891622007932496}.\n",
      "2024-03-08 13:04:04,151\tINFO bayesopt_search.py:293 -- Skipping duplicated config: {'lr': 0.005976565290185082}.\n",
      "2024-03-08 13:04:05,023\tINFO bayesopt_search.py:293 -- Skipping duplicated config: {'lr': 0.0013630449976760814}.\n",
      "2024-03-08 13:04:05,325\tINFO bayesopt_search.py:293 -- Skipping duplicated config: {'lr': 0.006494580689182853}.\n",
      "2024-03-08 13:04:05,526\tINFO bayesopt_search.py:293 -- Skipping duplicated config: {'lr': 0.003625357586388678}.\n",
      "2024-03-08 13:04:05,627\tINFO bayesopt_search.py:293 -- Skipping duplicated config: {'lr': 0.009866500963050499}.\n",
      "2024-03-08 13:04:05,704\tINFO bayesopt_search.py:293 -- Skipping duplicated config: {'lr': 0.006097170711633184}.\n",
      "2024-03-08 13:04:05,806\tINFO bayesopt_search.py:293 -- Skipping duplicated config: {'lr': 0.0024485452381863455}.\n",
      "2024-03-08 13:04:06,200\tINFO bayesopt_search.py:293 -- Skipping duplicated config: {'lr': 0.0016907455952696014}.\n",
      "2024-03-08 13:04:06,301\tINFO bayesopt_search.py:293 -- Skipping duplicated config: {'lr': 0.0019470135381079272}.\n",
      "2024-03-08 13:04:06,402\tINFO bayesopt_search.py:293 -- Skipping duplicated config: {'lr': 0.0029224421700690863}.\n",
      "2024-03-08 13:04:06,503\tINFO bayesopt_search.py:293 -- Skipping duplicated config: {'lr': 0.001816398593418073}.\n",
      "2024-03-08 13:04:06,604\tINFO bayesopt_search.py:293 -- Skipping duplicated config: {'lr': 0.008977977703801609}.\n",
      "2024-03-08 13:04:06,872\tINFO bayesopt_search.py:293 -- Skipping duplicated config: {'lr': 0.00416292858719765}.\n"
     ]
    },
    {
     "name": "stdout",
     "output_type": "stream",
     "text": [
      "== Status ==\n",
      "Current time: 2024-03-08 13:04:07 (running for 00:01:36.03)\n",
      "Using AsyncHyperBand: num_stopped=8\n",
      "Bracket: Iter 64.000: -0.8256242992818779 | Iter 16.000: -1.095727324415324 | Iter 4.000: -1.2040060765636165 | Iter 1.000: -1.3246102166795843\n",
      "Logical resource usage: 0/40 CPUs, 2.0/8 GPUs (0.0/1.0 accelerator_type:G)\n",
      "Result logdir: /home/banyh2000/ray_results/train_ray_Ultimateconfig_2024-03-08_13-02-31\n",
      "Number of trials: 10/20 (2 RUNNING, 8 TERMINATED)\n",
      "\n",
      "\n",
      "== Status ==\n",
      "Current time: 2024-03-08 13:04:12 (running for 00:01:41.06)\n",
      "Using AsyncHyperBand: num_stopped=8\n",
      "Bracket: Iter 64.000: -0.8256242992818779 | Iter 16.000: -1.095727324415324 | Iter 4.000: -1.2040060765636165 | Iter 1.000: -1.3246102166795843\n",
      "Logical resource usage: 0/40 CPUs, 2.0/8 GPUs (0.0/1.0 accelerator_type:G)\n",
      "Result logdir: /home/banyh2000/ray_results/train_ray_Ultimateconfig_2024-03-08_13-02-31\n",
      "Number of trials: 10/20 (2 RUNNING, 8 TERMINATED)\n",
      "\n",
      "\n",
      "== Status ==\n",
      "Current time: 2024-03-08 13:04:17 (running for 00:01:46.14)\n",
      "Using AsyncHyperBand: num_stopped=8\n",
      "Bracket: Iter 64.000: -0.8256242992818779 | Iter 16.000: -1.095727324415324 | Iter 4.000: -1.2040060765636165 | Iter 1.000: -1.3246102166795843\n",
      "Logical resource usage: 0/40 CPUs, 2.0/8 GPUs (0.0/1.0 accelerator_type:G)\n",
      "Result logdir: /home/banyh2000/ray_results/train_ray_Ultimateconfig_2024-03-08_13-02-31\n",
      "Number of trials: 10/20 (2 RUNNING, 8 TERMINATED)\n",
      "\n",
      "\n",
      "== Status ==\n",
      "Current time: 2024-03-08 13:04:22 (running for 00:01:51.19)\n",
      "Using AsyncHyperBand: num_stopped=8\n",
      "Bracket: Iter 64.000: -0.8256242992818779 | Iter 16.000: -1.095727324415324 | Iter 4.000: -1.2040060765636165 | Iter 1.000: -1.3246102166795843\n",
      "Logical resource usage: 0/40 CPUs, 2.0/8 GPUs (0.0/1.0 accelerator_type:G)\n",
      "Result logdir: /home/banyh2000/ray_results/train_ray_Ultimateconfig_2024-03-08_13-02-31\n",
      "Number of trials: 10/20 (2 RUNNING, 8 TERMINATED)\n",
      "\n",
      "\n",
      "== Status ==\n",
      "Current time: 2024-03-08 13:04:27 (running for 00:01:56.21)\n",
      "Using AsyncHyperBand: num_stopped=8\n",
      "Bracket: Iter 64.000: -0.8256242992818779 | Iter 16.000: -1.095727324415324 | Iter 4.000: -1.2040060765636165 | Iter 1.000: -1.3246102166795843\n",
      "Logical resource usage: 0/40 CPUs, 2.0/8 GPUs (0.0/1.0 accelerator_type:G)\n",
      "Result logdir: /home/banyh2000/ray_results/train_ray_Ultimateconfig_2024-03-08_13-02-31\n",
      "Number of trials: 10/20 (2 RUNNING, 8 TERMINATED)\n",
      "\n",
      "\n",
      "== Status ==\n",
      "Current time: 2024-03-08 13:04:32 (running for 00:02:01.25)\n",
      "Using AsyncHyperBand: num_stopped=8\n",
      "Bracket: Iter 64.000: -0.8256242992818779 | Iter 16.000: -1.095727324415324 | Iter 4.000: -1.2040060765636165 | Iter 1.000: -1.3246102166795843\n",
      "Logical resource usage: 0/40 CPUs, 2.0/8 GPUs (0.0/1.0 accelerator_type:G)\n",
      "Result logdir: /home/banyh2000/ray_results/train_ray_Ultimateconfig_2024-03-08_13-02-31\n",
      "Number of trials: 10/20 (2 RUNNING, 8 TERMINATED)\n",
      "\n",
      "\n",
      "== Status ==\n",
      "Current time: 2024-03-08 13:04:37 (running for 00:02:06.32)\n",
      "Using AsyncHyperBand: num_stopped=8\n",
      "Bracket: Iter 64.000: -0.8256242992818779 | Iter 16.000: -1.095727324415324 | Iter 4.000: -1.2040060765636165 | Iter 1.000: -1.3246102166795843\n",
      "Logical resource usage: 0/40 CPUs, 2.0/8 GPUs (0.0/1.0 accelerator_type:G)\n",
      "Result logdir: /home/banyh2000/ray_results/train_ray_Ultimateconfig_2024-03-08_13-02-31\n",
      "Number of trials: 10/20 (2 RUNNING, 8 TERMINATED)\n",
      "\n",
      "\n",
      "== Status ==\n",
      "Current time: 2024-03-08 13:04:42 (running for 00:02:11.35)\n",
      "Using AsyncHyperBand: num_stopped=8\n",
      "Bracket: Iter 64.000: -0.8256242992818779 | Iter 16.000: -1.095727324415324 | Iter 4.000: -1.2040060765636165 | Iter 1.000: -1.3246102166795843\n",
      "Logical resource usage: 0/40 CPUs, 2.0/8 GPUs (0.0/1.0 accelerator_type:G)\n",
      "Result logdir: /home/banyh2000/ray_results/train_ray_Ultimateconfig_2024-03-08_13-02-31\n",
      "Number of trials: 10/20 (2 RUNNING, 8 TERMINATED)\n",
      "\n",
      "\n",
      "== Status ==\n",
      "Current time: 2024-03-08 13:04:47 (running for 00:02:16.36)\n",
      "Using AsyncHyperBand: num_stopped=8\n",
      "Bracket: Iter 64.000: -0.8256242992818779 | Iter 16.000: -1.095727324415324 | Iter 4.000: -1.2040060765636165 | Iter 1.000: -1.3246102166795843\n",
      "Logical resource usage: 0/40 CPUs, 2.0/8 GPUs (0.0/1.0 accelerator_type:G)\n",
      "Result logdir: /home/banyh2000/ray_results/train_ray_Ultimateconfig_2024-03-08_13-02-31\n",
      "Number of trials: 10/20 (2 RUNNING, 8 TERMINATED)\n",
      "\n",
      "\n",
      "== Status ==\n",
      "Current time: 2024-03-08 13:04:52 (running for 00:02:21.41)\n",
      "Using AsyncHyperBand: num_stopped=8\n",
      "Bracket: Iter 64.000: -0.8256242992818779 | Iter 16.000: -1.095727324415324 | Iter 4.000: -1.2040060765636165 | Iter 1.000: -1.3246102166795843\n",
      "Logical resource usage: 0/40 CPUs, 2.0/8 GPUs (0.0/1.0 accelerator_type:G)\n",
      "Result logdir: /home/banyh2000/ray_results/train_ray_Ultimateconfig_2024-03-08_13-02-31\n",
      "Number of trials: 10/20 (2 RUNNING, 8 TERMINATED)\n",
      "\n",
      "\n",
      "== Status ==\n",
      "Current time: 2024-03-08 13:04:57 (running for 00:02:26.48)\n",
      "Using AsyncHyperBand: num_stopped=8\n",
      "Bracket: Iter 64.000: -0.8256242992818779 | Iter 16.000: -1.095727324415324 | Iter 4.000: -1.2040060765636165 | Iter 1.000: -1.3246102166795843\n",
      "Logical resource usage: 0/40 CPUs, 2.0/8 GPUs (0.0/1.0 accelerator_type:G)\n",
      "Result logdir: /home/banyh2000/ray_results/train_ray_Ultimateconfig_2024-03-08_13-02-31\n",
      "Number of trials: 10/20 (2 RUNNING, 8 TERMINATED)\n",
      "\n",
      "\n",
      "== Status ==\n",
      "Current time: 2024-03-08 13:05:02 (running for 00:02:31.48)\n",
      "Using AsyncHyperBand: num_stopped=8\n",
      "Bracket: Iter 64.000: -0.8256242992818779 | Iter 16.000: -1.095727324415324 | Iter 4.000: -1.2040060765636165 | Iter 1.000: -1.3246102166795843\n",
      "Logical resource usage: 0/40 CPUs, 2.0/8 GPUs (0.0/1.0 accelerator_type:G)\n",
      "Result logdir: /home/banyh2000/ray_results/train_ray_Ultimateconfig_2024-03-08_13-02-31\n",
      "Number of trials: 10/20 (2 RUNNING, 8 TERMINATED)\n",
      "\n",
      "\n",
      "== Status ==\n",
      "Current time: 2024-03-08 13:05:07 (running for 00:02:36.55)\n",
      "Using AsyncHyperBand: num_stopped=8\n",
      "Bracket: Iter 64.000: -0.8256242992818779 | Iter 16.000: -1.095727324415324 | Iter 4.000: -1.2040060765636165 | Iter 1.000: -1.3246102166795843\n",
      "Logical resource usage: 0/40 CPUs, 2.0/8 GPUs (0.0/1.0 accelerator_type:G)\n",
      "Result logdir: /home/banyh2000/ray_results/train_ray_Ultimateconfig_2024-03-08_13-02-31\n",
      "Number of trials: 10/20 (2 RUNNING, 8 TERMINATED)\n",
      "\n",
      "\n",
      "== Status ==\n",
      "Current time: 2024-03-08 13:05:13 (running for 00:02:41.55)\n",
      "Using AsyncHyperBand: num_stopped=8\n",
      "Bracket: Iter 64.000: -0.8256242992818779 | Iter 16.000: -1.095727324415324 | Iter 4.000: -1.2040060765636165 | Iter 1.000: -1.3246102166795843\n",
      "Logical resource usage: 0/40 CPUs, 2.0/8 GPUs (0.0/1.0 accelerator_type:G)\n",
      "Result logdir: /home/banyh2000/ray_results/train_ray_Ultimateconfig_2024-03-08_13-02-31\n",
      "Number of trials: 10/20 (2 RUNNING, 8 TERMINATED)\n",
      "\n",
      "\n",
      "== Status ==\n",
      "Current time: 2024-03-08 13:05:18 (running for 00:02:46.58)\n",
      "Using AsyncHyperBand: num_stopped=8\n",
      "Bracket: Iter 64.000: -0.8256242992818779 | Iter 16.000: -1.095727324415324 | Iter 4.000: -1.2040060765636165 | Iter 1.000: -1.3246102166795843\n",
      "Logical resource usage: 0/40 CPUs, 2.0/8 GPUs (0.0/1.0 accelerator_type:G)\n",
      "Result logdir: /home/banyh2000/ray_results/train_ray_Ultimateconfig_2024-03-08_13-02-31\n",
      "Number of trials: 10/20 (2 RUNNING, 8 TERMINATED)\n",
      "\n",
      "\n",
      "== Status ==\n",
      "Current time: 2024-03-08 13:05:23 (running for 00:02:51.62)\n",
      "Using AsyncHyperBand: num_stopped=8\n",
      "Bracket: Iter 64.000: -0.8256242992818779 | Iter 16.000: -1.095727324415324 | Iter 4.000: -1.2040060765636165 | Iter 1.000: -1.3246102166795843\n",
      "Logical resource usage: 0/40 CPUs, 2.0/8 GPUs (0.0/1.0 accelerator_type:G)\n",
      "Result logdir: /home/banyh2000/ray_results/train_ray_Ultimateconfig_2024-03-08_13-02-31\n",
      "Number of trials: 10/20 (2 RUNNING, 8 TERMINATED)\n",
      "\n",
      "\n",
      "== Status ==\n",
      "Current time: 2024-03-08 13:05:28 (running for 00:02:56.70)\n",
      "Using AsyncHyperBand: num_stopped=8\n",
      "Bracket: Iter 64.000: -0.8256242992818779 | Iter 16.000: -1.095727324415324 | Iter 4.000: -1.2040060765636165 | Iter 1.000: -1.3246102166795843\n",
      "Logical resource usage: 0/40 CPUs, 2.0/8 GPUs (0.0/1.0 accelerator_type:G)\n",
      "Result logdir: /home/banyh2000/ray_results/train_ray_Ultimateconfig_2024-03-08_13-02-31\n",
      "Number of trials: 10/20 (2 RUNNING, 8 TERMINATED)\n",
      "\n",
      "\n",
      "== Status ==\n",
      "Current time: 2024-03-08 13:05:33 (running for 00:03:01.78)\n",
      "Using AsyncHyperBand: num_stopped=8\n",
      "Bracket: Iter 64.000: -0.8256242992818779 | Iter 16.000: -1.095727324415324 | Iter 4.000: -1.2040060765636165 | Iter 1.000: -1.3246102166795843\n",
      "Logical resource usage: 0/40 CPUs, 2.0/8 GPUs (0.0/1.0 accelerator_type:G)\n",
      "Result logdir: /home/banyh2000/ray_results/train_ray_Ultimateconfig_2024-03-08_13-02-31\n",
      "Number of trials: 10/20 (2 RUNNING, 8 TERMINATED)\n",
      "\n",
      "\n",
      "== Status ==\n",
      "Current time: 2024-03-08 13:05:38 (running for 00:03:06.84)\n",
      "Using AsyncHyperBand: num_stopped=8\n",
      "Bracket: Iter 64.000: -0.8256242992818779 | Iter 16.000: -1.095727324415324 | Iter 4.000: -1.2040060765636165 | Iter 1.000: -1.3246102166795843\n",
      "Logical resource usage: 0/40 CPUs, 2.0/8 GPUs (0.0/1.0 accelerator_type:G)\n",
      "Result logdir: /home/banyh2000/ray_results/train_ray_Ultimateconfig_2024-03-08_13-02-31\n",
      "Number of trials: 10/20 (2 RUNNING, 8 TERMINATED)\n",
      "\n",
      "\n",
      "== Status ==\n",
      "Current time: 2024-03-08 13:05:43 (running for 00:03:11.86)\n",
      "Using AsyncHyperBand: num_stopped=8\n",
      "Bracket: Iter 64.000: -0.8256242992818779 | Iter 16.000: -1.095727324415324 | Iter 4.000: -1.2040060765636165 | Iter 1.000: -1.3246102166795843\n",
      "Logical resource usage: 0/40 CPUs, 2.0/8 GPUs (0.0/1.0 accelerator_type:G)\n",
      "Result logdir: /home/banyh2000/ray_results/train_ray_Ultimateconfig_2024-03-08_13-02-31\n",
      "Number of trials: 10/20 (2 RUNNING, 8 TERMINATED)\n",
      "\n",
      "\n",
      "== Status ==\n",
      "Current time: 2024-03-08 13:05:48 (running for 00:03:16.86)\n",
      "Using AsyncHyperBand: num_stopped=8\n",
      "Bracket: Iter 64.000: -0.8256242992818779 | Iter 16.000: -1.095727324415324 | Iter 4.000: -1.2040060765636165 | Iter 1.000: -1.3246102166795843\n",
      "Logical resource usage: 0/40 CPUs, 2.0/8 GPUs (0.0/1.0 accelerator_type:G)\n",
      "Result logdir: /home/banyh2000/ray_results/train_ray_Ultimateconfig_2024-03-08_13-02-31\n",
      "Number of trials: 10/20 (2 RUNNING, 8 TERMINATED)\n",
      "\n",
      "\n",
      "== Status ==\n",
      "Current time: 2024-03-08 13:05:53 (running for 00:03:21.94)\n",
      "Using AsyncHyperBand: num_stopped=8\n",
      "Bracket: Iter 64.000: -0.8256242992818779 | Iter 16.000: -1.095727324415324 | Iter 4.000: -1.2040060765636165 | Iter 1.000: -1.3246102166795843\n",
      "Logical resource usage: 0/40 CPUs, 2.0/8 GPUs (0.0/1.0 accelerator_type:G)\n",
      "Result logdir: /home/banyh2000/ray_results/train_ray_Ultimateconfig_2024-03-08_13-02-31\n",
      "Number of trials: 10/20 (2 RUNNING, 8 TERMINATED)\n",
      "\n",
      "\n",
      "== Status ==\n",
      "Current time: 2024-03-08 13:05:58 (running for 00:03:26.94)\n",
      "Using AsyncHyperBand: num_stopped=8\n",
      "Bracket: Iter 64.000: -0.8256242992818779 | Iter 16.000: -1.095727324415324 | Iter 4.000: -1.2040060765636165 | Iter 1.000: -1.3246102166795843\n",
      "Logical resource usage: 0/40 CPUs, 2.0/8 GPUs (0.0/1.0 accelerator_type:G)\n",
      "Result logdir: /home/banyh2000/ray_results/train_ray_Ultimateconfig_2024-03-08_13-02-31\n",
      "Number of trials: 10/20 (2 RUNNING, 8 TERMINATED)\n",
      "\n",
      "\n",
      "== Status ==\n",
      "Current time: 2024-03-08 13:06:03 (running for 00:03:31.95)\n",
      "Using AsyncHyperBand: num_stopped=8\n",
      "Bracket: Iter 64.000: -0.8256242992818779 | Iter 16.000: -1.095727324415324 | Iter 4.000: -1.2040060765636165 | Iter 1.000: -1.3246102166795843\n",
      "Logical resource usage: 0/40 CPUs, 2.0/8 GPUs (0.0/1.0 accelerator_type:G)\n",
      "Result logdir: /home/banyh2000/ray_results/train_ray_Ultimateconfig_2024-03-08_13-02-31\n",
      "Number of trials: 10/20 (2 RUNNING, 8 TERMINATED)\n",
      "\n",
      "\n",
      "== Status ==\n",
      "Current time: 2024-03-08 13:06:08 (running for 00:03:37.03)\n",
      "Using AsyncHyperBand: num_stopped=8\n",
      "Bracket: Iter 64.000: -0.8256242992818779 | Iter 16.000: -1.095727324415324 | Iter 4.000: -1.2040060765636165 | Iter 1.000: -1.3246102166795843\n",
      "Logical resource usage: 0/40 CPUs, 2.0/8 GPUs (0.0/1.0 accelerator_type:G)\n",
      "Result logdir: /home/banyh2000/ray_results/train_ray_Ultimateconfig_2024-03-08_13-02-31\n",
      "Number of trials: 10/20 (2 RUNNING, 8 TERMINATED)\n",
      "\n",
      "\n",
      "== Status ==\n",
      "Current time: 2024-03-08 13:06:13 (running for 00:03:42.12)\n",
      "Using AsyncHyperBand: num_stopped=8\n",
      "Bracket: Iter 64.000: -0.8256242992818779 | Iter 16.000: -1.095727324415324 | Iter 4.000: -1.2040060765636165 | Iter 1.000: -1.3246102166795843\n",
      "Logical resource usage: 0/40 CPUs, 2.0/8 GPUs (0.0/1.0 accelerator_type:G)\n",
      "Result logdir: /home/banyh2000/ray_results/train_ray_Ultimateconfig_2024-03-08_13-02-31\n",
      "Number of trials: 10/20 (2 RUNNING, 8 TERMINATED)\n",
      "\n",
      "\n",
      "== Status ==\n",
      "Current time: 2024-03-08 13:06:18 (running for 00:03:47.13)\n",
      "Using AsyncHyperBand: num_stopped=8\n",
      "Bracket: Iter 64.000: -0.8256242992818779 | Iter 16.000: -1.095727324415324 | Iter 4.000: -1.2040060765636165 | Iter 1.000: -1.3246102166795843\n",
      "Logical resource usage: 0/40 CPUs, 2.0/8 GPUs (0.0/1.0 accelerator_type:G)\n",
      "Result logdir: /home/banyh2000/ray_results/train_ray_Ultimateconfig_2024-03-08_13-02-31\n",
      "Number of trials: 10/20 (2 RUNNING, 8 TERMINATED)\n",
      "\n",
      "\n",
      "== Status ==\n",
      "Current time: 2024-03-08 13:06:23 (running for 00:03:52.14)\n",
      "Using AsyncHyperBand: num_stopped=8\n",
      "Bracket: Iter 64.000: -0.8256242992818779 | Iter 16.000: -1.095727324415324 | Iter 4.000: -1.2040060765636165 | Iter 1.000: -1.3246102166795843\n",
      "Logical resource usage: 0/40 CPUs, 2.0/8 GPUs (0.0/1.0 accelerator_type:G)\n",
      "Result logdir: /home/banyh2000/ray_results/train_ray_Ultimateconfig_2024-03-08_13-02-31\n",
      "Number of trials: 10/20 (2 RUNNING, 8 TERMINATED)\n",
      "\n",
      "\n",
      "== Status ==\n",
      "Current time: 2024-03-08 13:06:28 (running for 00:03:57.18)\n",
      "Using AsyncHyperBand: num_stopped=8\n",
      "Bracket: Iter 64.000: -0.8256242992818779 | Iter 16.000: -1.095727324415324 | Iter 4.000: -1.2040060765636165 | Iter 1.000: -1.3246102166795843\n",
      "Logical resource usage: 0/40 CPUs, 2.0/8 GPUs (0.0/1.0 accelerator_type:G)\n",
      "Result logdir: /home/banyh2000/ray_results/train_ray_Ultimateconfig_2024-03-08_13-02-31\n",
      "Number of trials: 10/20 (2 RUNNING, 8 TERMINATED)\n",
      "\n",
      "\n",
      "== Status ==\n",
      "Current time: 2024-03-08 13:06:33 (running for 00:04:02.20)\n",
      "Using AsyncHyperBand: num_stopped=8\n",
      "Bracket: Iter 64.000: -0.8256242992818779 | Iter 16.000: -1.095727324415324 | Iter 4.000: -1.2040060765636165 | Iter 1.000: -1.3246102166795843\n",
      "Logical resource usage: 0/40 CPUs, 1.0/8 GPUs (0.0/1.0 accelerator_type:G)\n",
      "Result logdir: /home/banyh2000/ray_results/train_ray_Ultimateconfig_2024-03-08_13-02-31\n",
      "Number of trials: 10/20 (1 RUNNING, 9 TERMINATED)\n",
      "\n",
      "\n",
      "== Status ==\n",
      "Current time: 2024-03-08 13:06:38 (running for 00:04:07.30)\n",
      "Using AsyncHyperBand: num_stopped=8\n",
      "Bracket: Iter 64.000: -0.8256242992818779 | Iter 16.000: -1.095727324415324 | Iter 4.000: -1.2040060765636165 | Iter 1.000: -1.3246102166795843\n",
      "Logical resource usage: 0/40 CPUs, 1.0/8 GPUs (0.0/1.0 accelerator_type:G)\n",
      "Result logdir: /home/banyh2000/ray_results/train_ray_Ultimateconfig_2024-03-08_13-02-31\n",
      "Number of trials: 10/20 (1 RUNNING, 9 TERMINATED)\n",
      "\n",
      "\n"
     ]
    },
    {
     "name": "stderr",
     "output_type": "stream",
     "text": [
      "2024-03-08 13:06:42,050\tINFO tune.py:1042 -- Total run time: 250.61 seconds (250.60 seconds for the tuning loop).\n"
     ]
    },
    {
     "name": "stdout",
     "output_type": "stream",
     "text": [
      "== Status ==\n",
      "Current time: 2024-03-08 13:06:42 (running for 00:04:10.60)\n",
      "Using AsyncHyperBand: num_stopped=8\n",
      "Bracket: Iter 64.000: -0.8256242992818779 | Iter 16.000: -1.095727324415324 | Iter 4.000: -1.2040060765636165 | Iter 1.000: -1.3246102166795843\n",
      "Logical resource usage: 0/40 CPUs, 1.0/8 GPUs (0.0/1.0 accelerator_type:G)\n",
      "Result logdir: /home/banyh2000/ray_results/train_ray_Ultimateconfig_2024-03-08_13-02-31\n",
      "Number of trials: 10/20 (10 TERMINATED)\n",
      "+-----------------------------------+------------+----------------------+-------------+----------+\n",
      "| Trial name                        | status     | loc                  |          lr |     loss |\n",
      "|-----------------------------------+------------+----------------------+-------------+----------|\n",
      "| train_ray_Ultimateconfig_9aeb2717 | TERMINATED | 131.179.88.212:29487 | 0.00380795  | 0.868023 |\n",
      "| train_ray_Ultimateconfig_af0f3193 | TERMINATED | 131.179.88.212:29560 | 0.00951207  | 1.17982  |\n",
      "| train_ray_Ultimateconfig_d94a67fe | TERMINATED | 131.179.88.212:29678 | 0.00734674  | 0.736599 |\n",
      "| train_ray_Ultimateconfig_bac622f2 | TERMINATED | 131.179.88.212:29752 | 0.00602672  | 1.32235  |\n",
      "| train_ray_Ultimateconfig_e700eb2c | TERMINATED | 131.179.88.212:29828 | 0.00164458  | 1.33413  |\n",
      "| train_ray_Ultimateconfig_56e043ae | TERMINATED | 131.179.88.212:29901 | 0.000675028 | 1.32395  |\n",
      "| train_ray_Ultimateconfig_7a63cdcd | TERMINATED | 131.179.88.212:29977 | 0.00867514  | 1.33806  |\n",
      "| train_ray_Ultimateconfig_991f8802 | TERMINATED | 131.179.88.212:30053 | 0.00605104  | 1.3266   |\n",
      "| train_ray_Ultimateconfig_e41eba09 | TERMINATED | 131.179.88.212:30127 | 0.00710992  | 1.33737  |\n",
      "| train_ray_Ultimateconfig_701ac564 | TERMINATED | 131.179.88.212:30202 | 0.000303786 | 1.35493  |\n",
      "+-----------------------------------+------------+----------------------+-------------+----------+\n",
      "\n",
      "\n",
      "Best hyperparameters found are:  {'lr': 0.007346740023932911}\n"
     ]
    }
   ],
   "source": [
    "import ray\n",
    "from ray import tune\n",
    "from ray import train as raytrain\n",
    "from ray.tune import CLIReporter\n",
    "from ray.tune.schedulers import ASHAScheduler\n",
    "from src.methods_ray import train_ray_Ultimateconfig\n",
    "from ray.tune.search.bayesopt import BayesOptSearch\n",
    "ray.shutdown()\n",
    "ray.init()\n",
    "scheduler = ASHAScheduler(metric='loss', mode='min', max_t= 250)\n",
    "reporter = CLIReporter(metric_columns=['loss'])\n",
    "bayesopt = BayesOptSearch(\n",
    "    metric='loss',\n",
    "    mode='min',\n",
    ")\n",
    "\n",
    "# config = {\n",
    "#     'weight_decay': tune.loguniform(1e-4, 1e-3),\n",
    "# }\n",
    "\n",
    "config = {\n",
    "    'lr': tune.loguniform(1e-4, 1e-2),\n",
    "}\n",
    "\n",
    "\n",
    "analysis = tune.run(\n",
    "    train_ray_Ultimateconfig,\n",
    "    resources_per_trial={'gpu': 1},  # If you want to use GPUs, you can set {'gpu': 1} instead\n",
    "    config=config,\n",
    "    num_samples=20,\n",
    "    search_alg=bayesopt,\n",
    "    scheduler=scheduler,\n",
    "    progress_reporter=reporter\n",
    ")\n",
    "\n",
    "# Get the best hyperparameters\n",
    "best_config = analysis.get_best_config(metric='loss', mode='min')\n",
    "print('Best hyperparameters found are: ', best_config)"
   ]
  },
  {
   "cell_type": "code",
   "execution_count": 13,
   "metadata": {},
   "outputs": [
    {
     "data": {
      "image/png": "[encoded data removed]",
      "text/plain": [
       "<Figure size 640x480 with 1 Axes>"
      ]
     },
     "metadata": {},
     "output_type": "display_data"
    }
   ],
   "source": [
    "dfs = analysis.trial_dataframes\n",
    "import matplotlib.pyplot as plt\n",
    "\n",
    "for d in dfs.values():\n",
    "    # TODO: Plot the results\n",
    "    plt.plot(d['training_iteration'], d['loss'], label=d['config/weight_decay'][0])\n",
    "\n",
    "plt.xlabel('Iterations')\n",
    "plt.ylabel('Loss')\n",
    "plt.title('Trial Progress Over Time')\n",
    "plt.show()"
   ]
  },
  {
   "cell_type": "code",
   "execution_count": 11,
   "metadata": {},
   "outputs": [
    {
     "name": "stderr",
     "output_type": "stream",
     "text": [
      "  0%|          | 0/200 [00:00<?, ?it/s]"
     ]
    },
    {
     "name": "stderr",
     "output_type": "stream",
     "text": [
      "  5%|▌         | 10/200 [00:11<03:47,  1.20s/it]"
     ]
    },
    {
     "name": "stdout",
     "output_type": "stream",
     "text": [
      "Epoch [10/200], Loss: 1.1349, Validation Accuracy: 52.96%\n"
     ]
    },
    {
     "name": "stderr",
     "output_type": "stream",
     "text": [
      " 10%|█         | 20/200 [00:23<03:34,  1.19s/it]"
     ]
    },
    {
     "name": "stdout",
     "output_type": "stream",
     "text": [
      "Epoch [20/200], Loss: 1.0746, Validation Accuracy: 51.30%\n"
     ]
    },
    {
     "name": "stderr",
     "output_type": "stream",
     "text": [
      " 15%|█▌        | 30/200 [00:35<03:22,  1.19s/it]"
     ]
    },
    {
     "name": "stdout",
     "output_type": "stream",
     "text": [
      "Epoch [30/200], Loss: 0.9756, Validation Accuracy: 62.65%\n"
     ]
    },
    {
     "name": "stderr",
     "output_type": "stream",
     "text": [
      " 20%|██        | 40/200 [00:46<03:18,  1.24s/it]"
     ]
    },
    {
     "name": "stdout",
     "output_type": "stream",
     "text": [
      "Epoch [40/200], Loss: 0.9161, Validation Accuracy: 64.54%\n"
     ]
    },
    {
     "name": "stderr",
     "output_type": "stream",
     "text": [
      " 25%|██▌       | 50/200 [00:58<02:59,  1.20s/it]"
     ]
    },
    {
     "name": "stdout",
     "output_type": "stream",
     "text": [
      "Epoch [50/200], Loss: 0.9016, Validation Accuracy: 64.30%\n"
     ]
    },
    {
     "name": "stderr",
     "output_type": "stream",
     "text": [
      " 30%|███       | 60/200 [01:10<02:47,  1.19s/it]"
     ]
    },
    {
     "name": "stdout",
     "output_type": "stream",
     "text": [
      "Epoch [60/200], Loss: 0.8424, Validation Accuracy: 66.67%\n"
     ]
    },
    {
     "name": "stderr",
     "output_type": "stream",
     "text": [
      " 35%|███▌      | 70/200 [01:22<02:35,  1.19s/it]"
     ]
    },
    {
     "name": "stdout",
     "output_type": "stream",
     "text": [
      "Epoch [70/200], Loss: 0.8422, Validation Accuracy: 67.14%\n"
     ]
    },
    {
     "name": "stderr",
     "output_type": "stream",
     "text": [
      " 40%|████      | 80/200 [01:33<02:23,  1.20s/it]"
     ]
    },
    {
     "name": "stdout",
     "output_type": "stream",
     "text": [
      "Epoch [80/200], Loss: 0.8537, Validation Accuracy: 67.14%\n"
     ]
    },
    {
     "name": "stderr",
     "output_type": "stream",
     "text": [
      " 45%|████▌     | 90/200 [01:45<02:11,  1.19s/it]"
     ]
    },
    {
     "name": "stdout",
     "output_type": "stream",
     "text": [
      "Epoch [90/200], Loss: 0.8197, Validation Accuracy: 67.85%\n"
     ]
    },
    {
     "name": "stderr",
     "output_type": "stream",
     "text": [
      " 50%|█████     | 100/200 [01:57<01:59,  1.20s/it]"
     ]
    },
    {
     "name": "stdout",
     "output_type": "stream",
     "text": [
      "Epoch [100/200], Loss: 0.8074, Validation Accuracy: 69.27%\n"
     ]
    },
    {
     "name": "stderr",
     "output_type": "stream",
     "text": [
      " 55%|█████▌    | 110/200 [02:08<01:47,  1.19s/it]"
     ]
    },
    {
     "name": "stdout",
     "output_type": "stream",
     "text": [
      "Epoch [110/200], Loss: 0.8270, Validation Accuracy: 68.79%\n"
     ]
    },
    {
     "name": "stderr",
     "output_type": "stream",
     "text": [
      " 60%|██████    | 120/200 [02:20<01:35,  1.19s/it]"
     ]
    },
    {
     "name": "stdout",
     "output_type": "stream",
     "text": [
      "Epoch [120/200], Loss: 0.7870, Validation Accuracy: 69.50%\n"
     ]
    },
    {
     "name": "stderr",
     "output_type": "stream",
     "text": [
      " 65%|██████▌   | 130/200 [02:31<01:23,  1.19s/it]"
     ]
    },
    {
     "name": "stdout",
     "output_type": "stream",
     "text": [
      "Epoch [130/200], Loss: 0.8020, Validation Accuracy: 68.79%\n"
     ]
    },
    {
     "name": "stderr",
     "output_type": "stream",
     "text": [
      " 70%|███████   | 140/200 [02:43<01:11,  1.19s/it]"
     ]
    },
    {
     "name": "stdout",
     "output_type": "stream",
     "text": [
      "Epoch [140/200], Loss: 0.7722, Validation Accuracy: 74.23%\n"
     ]
    },
    {
     "name": "stderr",
     "output_type": "stream",
     "text": [
      " 75%|███████▌  | 150/200 [02:55<00:58,  1.17s/it]"
     ]
    },
    {
     "name": "stdout",
     "output_type": "stream",
     "text": [
      "Epoch [150/200], Loss: 0.8024, Validation Accuracy: 69.50%\n"
     ]
    },
    {
     "name": "stderr",
     "output_type": "stream",
     "text": [
      " 80%|████████  | 160/200 [03:06<00:46,  1.17s/it]"
     ]
    },
    {
     "name": "stdout",
     "output_type": "stream",
     "text": [
      "Epoch [160/200], Loss: 0.7967, Validation Accuracy: 70.69%\n"
     ]
    },
    {
     "name": "stderr",
     "output_type": "stream",
     "text": [
      " 85%|████████▌ | 170/200 [03:18<00:35,  1.19s/it]"
     ]
    },
    {
     "name": "stdout",
     "output_type": "stream",
     "text": [
      "Epoch [170/200], Loss: 0.7948, Validation Accuracy: 66.43%\n"
     ]
    },
    {
     "name": "stderr",
     "output_type": "stream",
     "text": [
      " 90%|█████████ | 180/200 [03:29<00:23,  1.19s/it]"
     ]
    },
    {
     "name": "stdout",
     "output_type": "stream",
     "text": [
      "Epoch [180/200], Loss: 0.8270, Validation Accuracy: 69.03%\n"
     ]
    },
    {
     "name": "stderr",
     "output_type": "stream",
     "text": [
      " 94%|█████████▍| 189/200 [03:40<00:12,  1.17s/it]\n"
     ]
    },
    {
     "ename": "KeyboardInterrupt",
     "evalue": "",
     "output_type": "error",
     "traceback": [
      "\u001b[0;31m---------------------------------------------------------------------------\u001b[0m",
      "\u001b[0;31mKeyboardInterrupt\u001b[0m                         Traceback (most recent call last)",
      "Cell \u001b[0;32mIn[11], line 7\u001b[0m\n\u001b[1;32m      4\u001b[0m optimizer \u001b[38;5;241m=\u001b[39m torch\u001b[38;5;241m.\u001b[39moptim\u001b[38;5;241m.\u001b[39mAdam(ult_cnn\u001b[38;5;241m.\u001b[39mparameters(), lr \u001b[38;5;241m=\u001b[39m \u001b[38;5;241m0.00734\u001b[39m, betas\u001b[38;5;241m=\u001b[39m(\u001b[38;5;241m0.9\u001b[39m, \u001b[38;5;241m0.99\u001b[39m), eps\u001b[38;5;241m=\u001b[39m\u001b[38;5;241m1e-6\u001b[39m, weight_decay\u001b[38;5;241m=\u001b[39m\u001b[38;5;241m0.0004370\u001b[39m)\n\u001b[1;32m      6\u001b[0m ult_cnn \u001b[38;5;241m=\u001b[39m ult_cnn\u001b[38;5;241m.\u001b[39mto(device)\n\u001b[0;32m----> 7\u001b[0m train(ult_cnn, train_loader, valid_loader, criterion, optimizer, device\u001b[38;5;241m=\u001b[39mdevice, epochs\u001b[38;5;241m=\u001b[39m\u001b[38;5;241m200\u001b[39m,patience\u001b[38;5;241m=\u001b[39m\u001b[38;5;241m40\u001b[39m)\n\u001b[1;32m      9\u001b[0m test_accuracy \u001b[38;5;241m=\u001b[39m evaluate(ult_cnn, test_loader, device\u001b[38;5;241m=\u001b[39mdevice)\n\u001b[1;32m     10\u001b[0m \u001b[38;5;28mprint\u001b[39m(\u001b[38;5;124mf\u001b[39m\u001b[38;5;124m'\u001b[39m\u001b[38;5;124mTest Accuracy: \u001b[39m\u001b[38;5;132;01m{\u001b[39;00mtest_accuracy\u001b[38;5;132;01m:\u001b[39;00m\u001b[38;5;124m.2f\u001b[39m\u001b[38;5;132;01m}\u001b[39;00m\u001b[38;5;124m%\u001b[39m\u001b[38;5;124m'\u001b[39m)\n",
      "File \u001b[0;32m~/ECE247-Group-Project/src/methods.py:14\u001b[0m, in \u001b[0;36mtrain\u001b[0;34m(model, train_loader, valid_loader, criterion, optimizer, device, print_every, epochs, patience)\u001b[0m\n\u001b[1;32m     12\u001b[0m running_loss \u001b[38;5;241m=\u001b[39m \u001b[38;5;241m0.0\u001b[39m\n\u001b[1;32m     13\u001b[0m \u001b[38;5;28;01mfor\u001b[39;00m data \u001b[38;5;129;01min\u001b[39;00m train_loader:\n\u001b[0;32m---> 14\u001b[0m     X, y \u001b[38;5;241m=\u001b[39m data[\u001b[38;5;241m0\u001b[39m]\u001b[38;5;241m.\u001b[39mto(device), data[\u001b[38;5;241m1\u001b[39m]\u001b[38;5;241m.\u001b[39mto(device)\n\u001b[1;32m     15\u001b[0m     optimizer\u001b[38;5;241m.\u001b[39mzero_grad()\n\u001b[1;32m     16\u001b[0m     outputs \u001b[38;5;241m=\u001b[39m model(X)\n",
      "\u001b[0;31mKeyboardInterrupt\u001b[0m: "
     ]
    }
   ],
   "source": [
    "# run with best hyperparameters\n",
    "ult_cnn = UltimateConvNet()\n",
    "criterion = nn.CrossEntropyLoss()\n",
    "optimizer = torch.optim.Adam(ult_cnn.parameters(), lr = 0.00734, betas=(0.9, 0.99), eps=1e-6, weight_decay=0.0004370)\n",
    "\n",
    "ult_cnn = ult_cnn.to(device)\n",
    "train(ult_cnn, train_loader, valid_loader, criterion, optimizer, device=device, epochs=200,patience=40)\n",
    "\n",
    "test_accuracy = evaluate(ult_cnn, test_loader, device=device)\n",
    "print(f'Test Accuracy: {test_accuracy:.2f}%')"
   ]
  },
  {
   "cell_type": "code",
   "execution_count": 8,
   "metadata": {},
   "outputs": [
    {
     "name": "stderr",
     "output_type": "stream",
     "text": [
      "/home/banyh2000/anaconda3/lib/python3.11/site-packages/torch/nn/modules/transformer.py:286: UserWarning: enable_nested_tensor is True, but self.use_nested_tensor is False because encoder_layer.self_attn.batch_first was not True(use batch_first for better inference performance)\n",
      "  warnings.warn(f\"enable_nested_tensor is True, but self.use_nested_tensor is False because {why_not_sparsity_fast_path}\")\n",
      "  0%|          | 0/200 [00:02<?, ?it/s]\n"
     ]
    },
    {
     "ename": "KeyboardInterrupt",
     "evalue": "",
     "output_type": "error",
     "traceback": [
      "\u001b[0;31m---------------------------------------------------------------------------\u001b[0m",
      "\u001b[0;31mKeyboardInterrupt\u001b[0m                         Traceback (most recent call last)",
      "Cell \u001b[0;32mIn[8], line 6\u001b[0m\n\u001b[1;32m      3\u001b[0m optimizer \u001b[38;5;241m=\u001b[39m torch\u001b[38;5;241m.\u001b[39moptim\u001b[38;5;241m.\u001b[39mSGD(vit\u001b[38;5;241m.\u001b[39mparameters(), lr\u001b[38;5;241m=\u001b[39m\u001b[38;5;241m0.01\u001b[39m, momentum\u001b[38;5;241m=\u001b[39m\u001b[38;5;241m0.9\u001b[39m)\n\u001b[1;32m      5\u001b[0m vit \u001b[38;5;241m=\u001b[39m vit\u001b[38;5;241m.\u001b[39mto(device)\n\u001b[0;32m----> 6\u001b[0m train(vit, train_loader, valid_loader, criterion, optimizer, device\u001b[38;5;241m=\u001b[39mdevice, epochs\u001b[38;5;241m=\u001b[39m\u001b[38;5;241m200\u001b[39m)\n\u001b[1;32m      8\u001b[0m test_accuracy \u001b[38;5;241m=\u001b[39m evaluate(vit, test_loader, device\u001b[38;5;241m=\u001b[39mdevice)\n\u001b[1;32m      9\u001b[0m \u001b[38;5;28mprint\u001b[39m(\u001b[38;5;124mf\u001b[39m\u001b[38;5;124m'\u001b[39m\u001b[38;5;124mTest Accuracy: \u001b[39m\u001b[38;5;132;01m{\u001b[39;00mtest_accuracy\u001b[38;5;132;01m:\u001b[39;00m\u001b[38;5;124m.2f\u001b[39m\u001b[38;5;132;01m}\u001b[39;00m\u001b[38;5;124m%\u001b[39m\u001b[38;5;124m'\u001b[39m)\n",
      "File \u001b[0;32m~/ECE247-Group-Project/src/methods.py:20\u001b[0m, in \u001b[0;36mtrain\u001b[0;34m(model, train_loader, valid_loader, criterion, optimizer, device, print_every, epochs, patience)\u001b[0m\n\u001b[1;32m     18\u001b[0m     loss\u001b[38;5;241m.\u001b[39mbackward()\n\u001b[1;32m     19\u001b[0m     optimizer\u001b[38;5;241m.\u001b[39mstep()\n\u001b[0;32m---> 20\u001b[0m     running_loss \u001b[38;5;241m+\u001b[39m\u001b[38;5;241m=\u001b[39m loss\u001b[38;5;241m.\u001b[39mitem() \u001b[38;5;241m*\u001b[39m X\u001b[38;5;241m.\u001b[39msize(\u001b[38;5;241m0\u001b[39m)\n\u001b[1;32m     22\u001b[0m val_loss \u001b[38;5;241m=\u001b[39m \u001b[38;5;241m0.0\u001b[39m\n\u001b[1;32m     23\u001b[0m model\u001b[38;5;241m.\u001b[39meval()\n",
      "\u001b[0;31mKeyboardInterrupt\u001b[0m: "
     ]
    }
   ],
   "source": [
    "vit = ViT(patch_size=(22, 1), num_classes=4, dim=64, num_head=8, num_layers = 2)\n",
    "criterion = nn.CrossEntropyLoss()\n",
    "optimizer = torch.optim.SGD(vit.parameters(), lr=0.01, momentum=0.9)\n",
    "\n",
    "vit = vit.to(device)\n",
    "train(vit, train_loader, valid_loader, criterion, optimizer, device=device, epochs=200)\n",
    "\n",
    "test_accuracy = evaluate(vit, test_loader, device=device)\n",
    "print(f'Test Accuracy: {test_accuracy:.2f}%')"
   ]
  },
  {
   "cell_type": "code",
   "execution_count": 24,
   "metadata": {},
   "outputs": [
    {
     "name": "stdout",
     "output_type": "stream",
     "text": [
      "torch.Size([2, 64])\n"
     ]
    }
   ],
   "source": []
  }
 ],
 "metadata": {
  "kernelspec": {
   "display_name": "ece247",
   "language": "python",
   "name": "python3"
  },
  "language_info": {
   "codemirror_mode": {
    "name": "ipython",
    "version": 3
   },
   "file_extension": ".py",
   "mimetype": "text/x-python",
   "name": "python",
   "nbconvert_exporter": "python",
   "pygments_lexer": "ipython3",
   "version": "3.11.5"
  }
 },
 "nbformat": 4,
 "nbformat_minor": 2
}
